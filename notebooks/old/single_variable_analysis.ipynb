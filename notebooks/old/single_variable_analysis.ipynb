{
 "metadata": {
  "language_info": {
   "codemirror_mode": {
    "name": "ipython",
    "version": 3
   },
   "file_extension": ".py",
   "mimetype": "text/x-python",
   "name": "python",
   "nbconvert_exporter": "python",
   "pygments_lexer": "ipython3",
   "version": "3.8.3-final"
  },
  "orig_nbformat": 2,
  "kernelspec": {
   "name": "python3",
   "display_name": "Python 3",
   "language": "python"
  }
 },
 "nbformat": 4,
 "nbformat_minor": 2,
 "cells": [
  {
   "source": [
    "# Single Variable Analysis\n",
    "---\n",
    "### Notebook for Single Variable Analysis in all three processed datasets\n",
    "\n",
    "Creation: 07.02.2021"
   ],
   "cell_type": "markdown",
   "metadata": {}
  },
  {
   "source": [
    "## Required Libraries\n",
    "---"
   ],
   "cell_type": "markdown",
   "metadata": {}
  },
  {
   "cell_type": "code",
   "execution_count": 5,
   "metadata": {},
   "outputs": [],
   "source": [
    "import pandas as pd\n",
    "import numpy as np\n",
    "import matplotlib.pyplot as plt\n",
    "import textwrap\n",
    "import json\n",
    "import os"
   ]
  },
  {
   "source": [
    "## Constants\n",
    "---"
   ],
   "cell_type": "markdown",
   "metadata": {}
  },
  {
   "cell_type": "code",
   "execution_count": 6,
   "metadata": {},
   "outputs": [],
   "source": [
    "PATH = {}\n",
    "PATH[\"data_raw\"] = \"../data/raw/\"\n",
    "PATH[\"data_interim\"] = \"../data/interim/\"\n",
    "PATH[\"data_processed\"] = \"../data/processed/\"\n",
    "PATH[\"data_external\"] = \"../data/external/\"\n",
    "PATH[\"references\"] = \"../data/references/\"\n",
    "\n",
    "FILENAME = {}\n",
    "FILENAME[\"accidents\"] = \"Road Safety Data - Accidents 2019.csv\"\n",
    "FILENAME[\"casualties\"] = \"Road Safety Data - Casualties 2019.csv\"\n",
    "FILENAME[\"vehicles\"] = \"Road Safety Data- Vehicles 2019.csv\" # the original dataset has a small typing mistake\n",
    "FILENAME[\"variable_lookup\"] = \"variable lookup.xls\"\n",
    "\n",
    "SUMMARY = {}\n",
    "\n",
    "TABLENAMES = [\"accidents\", \"casualties\", \"vehicles\"]"
   ]
  },
  {
   "source": [
    "## Importing Processed Datasets and Variable Lookups\n",
    "---"
   ],
   "cell_type": "markdown",
   "metadata": {}
  },
  {
   "cell_type": "code",
   "execution_count": 7,
   "metadata": {},
   "outputs": [],
   "source": [
    "DATA_LEEDS = {}\n",
    "for dataset in TABLENAMES:\n",
    "    DATA_LEEDS[dataset] = pd.read_csv(PATH['data_processed'] + FILENAME[dataset])"
   ]
  },
  {
   "source": [],
   "cell_type": "markdown",
   "metadata": {}
  },
  {
   "cell_type": "code",
   "execution_count": 8,
   "metadata": {
    "tags": []
   },
   "outputs": [],
   "source": [
    "xls = pd.ExcelFile(PATH['references'] + FILENAME['variable_lookup'])\n",
    "\n",
    "# read in excel data into python dict of dicts\n",
    "excel_dict = {i: xls.parse(xls.sheet_names[i]).to_dict() for i in range(len(xls.sheet_names))}\n",
    "\n",
    "# create convenient lookup dictionary for all excel sheets\n",
    "VARIABLE_LOOKUP = {}\n",
    "for x in range(2, len(excel_dict)):\n",
    "    VARIABLE_LOOKUP[x] = {}\n",
    "    for title in [('code', 'label'), ('Code', 'Label')]:\n",
    "        try:\n",
    "            for i in range(len(excel_dict[x][title[0]])):\n",
    "                VARIABLE_LOOKUP[x][excel_dict[x][title[0]][i]] = excel_dict[x][title[1]][i]\n",
    "            continue\n",
    "        except: None"
   ]
  },
  {
   "cell_type": "code",
   "execution_count": 9,
   "metadata": {},
   "outputs": [],
   "source": [
    "del VARIABLE_LOOKUP[36][' M']\n",
    "VARIABLE_LOOKUP[36][-1] = 'Undefined'"
   ]
  },
  {
   "source": [
    "## Lookup and Variable Inspection¶\n",
    "---"
   ],
   "cell_type": "markdown",
   "metadata": {}
  },
  {
   "source": [
    "To efficiently analyse and plot singular attributes in the datasets, we need to keep track...\n",
    "- ...of the column index of the column\n",
    "- ...of the type of the variable (numerical, categorical)\n",
    "- ...of the variable look-up for categorical data (those are taken from 'data/references/variable\\ lookup.xls')\n",
    "\n",
    "We therefore create a lookup dictionary for each of the datasets for a code efficient analysis."
   ],
   "cell_type": "markdown",
   "metadata": {}
  },
  {
   "cell_type": "code",
   "execution_count": 10,
   "metadata": {},
   "outputs": [],
   "source": [
    "LABELS = {}\n",
    "LABELS['accidents'] = [5, 6, 10, 12, 13, 14, 16, 17, 18, 19, 20, 22, 23, 24, 25, 26, 27, 28, 29, 30]\n",
    "LABELS['casualties'] = [3, 4, 6, 7, 8, 9, 10, 11, 12, 13, 14, 15]\n",
    "LABELS['vehicles'] = [2, 3, 4, 5, 6, 7, 8, 9, 10, 11, 12, 13, 14, 16, 18]\n",
    "\n",
    "PLOTTING = {}\n",
    "PLOTTING['accidents'] = [None, None, None, None, None, 'bar', 'bar', 'bar', 'bar', 'bar', 'bar', 'bar', 'bar', 'bar', 'bar', 'bar', 'bar', 'bar', 'bar', 'bar', 'bar', 'bar', 'bar', 'bar', 'bar', 'bar', 'bar', 'bar', 'bar', 'bar', 'bar', None]\n",
    "PLOTTING['casualties'] = [None, None, None, 'bar', 'bar', 'hist', 'bar', 'bar', 'bar', 'bar', 'bar', 'bar', 'bar', 'bar', 'bar',None]\n",
    "PLOTTING['vehicles'] = [None, None, 'bar', 'bar', 'bar', 'bar', 'bar', 'bar', 'bar', 'bar', 'bar', 'bar', 'bar', 'bar', 'bar', 'hist', 'bar', 'hist', 'bar', 'hist', None, 'bar', None]\n",
    "\n",
    "FIVENUM = {}\n",
    "FIVENUM['accidents'] = [False, False, False, False, False, False, True, True, True, False, False, False, False, False, False, False, False, True, False, False, False, False, False, False, False, False, False, False, False, False, False, False]\n",
    "FIVENUM['casualties'] = [False, False, False, False, False, True, False, False, False, False, False, False, False, False, False, False]\n",
    "FIVENUM['vehicles'] = [False, False, False, False, False, False, False, False, False, False, False, False, False, False, False, True, False, True, False, True, False, False, False]"
   ]
  },
  {
   "source": [
    "### Accidents\n",
    "---"
   ],
   "cell_type": "markdown",
   "metadata": {}
  },
  {
   "cell_type": "code",
   "execution_count": 11,
   "metadata": {},
   "outputs": [],
   "source": [
    "def initialise_summary(dataset, labels, plotting, fivenum, start_at=0):\n",
    "    # initialise the lookup dictionary with the column name and variable type\n",
    "    SUMMARY[dataset] = {}\n",
    "    for i in range(DATA_LEEDS[dataset].shape[1]):\n",
    "        SUMMARY[dataset][i] = {'Name': list(DATA_LEEDS[dataset])[i]}\n",
    "        if plotting[i] == 'bar':\n",
    "            SUMMARY[dataset][i].update({'Plot': 'bar'})\n",
    "        elif plotting[i] == 'hist':\n",
    "            SUMMARY[dataset][i].update({'Plot': 'hist'})\n",
    "        else: SUMMARY[dataset][i].update({'Plot': None})\n",
    "\n",
    "        if fivenum[i] == True:\n",
    "            SUMMARY[dataset][i].update({'Summary': True})\n",
    "        else: SUMMARY[dataset][i].update({'Summary': False})\n",
    "\n",
    "    # add the maps to the lookup dictionary\n",
    "    categorical_counter = 0\n",
    "    for column in labels:\n",
    "        if dataset == 'casualties':\n",
    "            if categorical_counter == 2: \n",
    "                SUMMARY[dataset][column]['Map'] = VARIABLE_LOOKUP[35]\n",
    "                categorical_counter += 1\n",
    "                continue\n",
    "            if categorical_counter == 10:\n",
    "                SUMMARY[dataset][column]['Map'] = VARIABLE_LOOKUP[48]\n",
    "                categorical_counter += 1\n",
    "                continue\n",
    "            if categorical_counter == 11:\n",
    "                SUMMARY[dataset][column]['Map'] = VARIABLE_LOOKUP[47]\n",
    "                categorical_counter += 1\n",
    "                continue\n",
    "        \n",
    "        SUMMARY[dataset][column]['Map'] = VARIABLE_LOOKUP[start_at+categorical_counter]\n",
    "        categorical_counter += 1"
   ]
  },
  {
   "cell_type": "code",
   "execution_count": 12,
   "metadata": {},
   "outputs": [],
   "source": [
    "for i, start_at in zip(list(range(3)), [2, 37, 22]):\n",
    "    initialise_summary(TABLENAMES[i], LABELS[TABLENAMES[i]], PLOTTING[TABLENAMES[i]], FIVENUM[TABLENAMES[i]], start_at=start_at)"
   ]
  },
  {
   "cell_type": "code",
   "execution_count": 18,
   "metadata": {},
   "outputs": [
    {
     "output_type": "execute_result",
     "data": {
      "text/plain": [
       "{1: 'Sunday',\n",
       " 2: 'Monday',\n",
       " 3: 'Tuesday',\n",
       " 4: 'Wednesday',\n",
       " 5: 'Thursday',\n",
       " 6: 'Friday',\n",
       " 7: 'Saturday'}"
      ]
     },
     "metadata": {},
     "execution_count": 18
    }
   ],
   "source": [
    "VARIABLE_LOOKUP[4]"
   ]
  },
  {
   "cell_type": "code",
   "execution_count": 9,
   "metadata": {},
   "outputs": [
    {
     "output_type": "execute_result",
     "data": {
      "text/plain": [
       "{'Name': 'Pedestrian_Road_Maintenance_Worker',\n",
       " 'Plot': 'bar',\n",
       " 'Summary': False,\n",
       " 'Map': {0: 'No / Not applicable',\n",
       "  1: 'Yes',\n",
       "  2: 'Not Known',\n",
       "  -1: 'Data missing or out of range'}}"
      ]
     },
     "metadata": {},
     "execution_count": 9
    }
   ],
   "source": [
    "SUMMARY['casualties'][12]"
   ]
  },
  {
   "cell_type": "code",
   "execution_count": 10,
   "metadata": {},
   "outputs": [],
   "source": [
    "# time mapping\n",
    "SUMMARY['accidents'][11]['Map'] = {i: f\"{i}-{i+1}\" for i in range(24)}\n",
    "\n",
    "# date mapping\n",
    "months = ['JAN', 'FEB', 'MAR', 'APR', 'MAY', 'JUN', 'JUL', 'AUG', 'SEP', 'OCT', 'NOV', 'DEC']\n",
    "SUMMARY['accidents'][9]['Map'] = {i+1: months[i] for i in range(12)}"
   ]
  },
  {
   "cell_type": "code",
   "execution_count": 11,
   "metadata": {},
   "outputs": [
    {
     "output_type": "execute_result",
     "data": {
      "text/plain": [
       "{'Name': 'Date',\n",
       " 'Plot': 'bar',\n",
       " 'Summary': False,\n",
       " 'Map': {1: 'JAN',\n",
       "  2: 'FEB',\n",
       "  3: 'MAR',\n",
       "  4: 'APR',\n",
       "  5: 'MAY',\n",
       "  6: 'JUN',\n",
       "  7: 'JUL',\n",
       "  8: 'AUG',\n",
       "  9: 'SEP',\n",
       "  10: 'OCT',\n",
       "  11: 'NOV',\n",
       "  12: 'DEC'}}"
      ]
     },
     "metadata": {},
     "execution_count": 11
    }
   ],
   "source": [
    "SUMMARY['accidents'][9]"
   ]
  },
  {
   "source": [
    "## Single Variable Analysis\n",
    "---"
   ],
   "cell_type": "markdown",
   "metadata": {}
  },
  {
   "cell_type": "code",
   "execution_count": 12,
   "metadata": {},
   "outputs": [],
   "source": [
    "def get_uniques_and_counts(data):\n",
    "    uniques, counts = np.unique(data, return_counts=True)\n",
    "\n",
    "    return uniques, counts"
   ]
  },
  {
   "cell_type": "code",
   "execution_count": 13,
   "metadata": {},
   "outputs": [],
   "source": [
    "def get_fivenumsummary(data):\n",
    "    return np.percentile(data[data >= 0], [0, 25, 50, 75, 100])"
   ]
  },
  {
   "cell_type": "code",
   "execution_count": 14,
   "metadata": {},
   "outputs": [],
   "source": [
    "def compute_summary_categorical(summary, data): #\n",
    "    for column in range(len(summary)):\n",
    "        uniques, counts = get_uniques_and_counts(data[summary[column]['Name']])\n",
    "        summary[column]['No_Uniques'] = len(uniques) # get the number of uniques for each variable\n",
    "            \n",
    "        if summary[column]['Plot'] == 'bar': # get the counts for each uniques for all categorical attributes\n",
    "            if len(uniques) < 100:\n",
    "                summary[column]['Uniques'] = {uniques[i]: counts[i] for i in range(len(uniques))}"
   ]
  },
  {
   "cell_type": "code",
   "execution_count": 15,
   "metadata": {},
   "outputs": [],
   "source": [
    "def compute_summary_numerical(summary, data):\n",
    "    for column in range(len(summary)):\n",
    "        if summary[column]['Plot'] == 'hist' or summary[column]['Summary'] == True:\n",
    "            summary[column]['Data'] = np.array(data[summary[column]['Name']])"
   ]
  },
  {
   "cell_type": "code",
   "execution_count": 16,
   "metadata": {},
   "outputs": [],
   "source": [
    "def compute_fivenumbersummary(summary, data):\n",
    "    for column in range(len(summary)):\n",
    "        if summary[column]['Summary'] == True:\n",
    "            summary[column]['Five_Number_Summary'] = get_fivenumsummary(data[summary[column]['Name']])"
   ]
  },
  {
   "cell_type": "code",
   "execution_count": 17,
   "metadata": {},
   "outputs": [],
   "source": [
    "for dataset in TABLENAMES:\n",
    "    compute_summary_categorical(SUMMARY[dataset], DATA_LEEDS[dataset])\n",
    "    compute_summary_numerical(SUMMARY[dataset], DATA_LEEDS[dataset])\n",
    "    compute_fivenumbersummary(SUMMARY[dataset], DATA_LEEDS[dataset])"
   ]
  },
  {
   "source": [
    "## Saving Numerical Report\n",
    "---"
   ],
   "cell_type": "markdown",
   "metadata": {}
  },
  {
   "cell_type": "code",
   "execution_count": 18,
   "metadata": {},
   "outputs": [],
   "source": [
    "def save_numerical_report(summary, name, save_to='csv'):\n",
    "    summary_dataframe = pd.DataFrame(summary)\n",
    "\n",
    "    if save_to == 'csv':\n",
    "        try: os.makedirs('../reports/numerical_summaries/csv')\n",
    "        except: None\n",
    "        \n",
    "        summary_dataframe.to_csv(f'../reports/numerical_summaries/csv/numerical_summary_{name}.csv')\n",
    "        \n",
    "    elif save_to == 'json':\n",
    "        \n",
    "        try: os.makedirs('../reports/numerical_summaries/json')\n",
    "        except: None\n",
    "\n",
    "        summary_dataframe.to_json(f'../reports/numerical_summaries/json/numerical_summary_{name}.json')"
   ]
  },
  {
   "cell_type": "code",
   "execution_count": 19,
   "metadata": {},
   "outputs": [],
   "source": [
    "for i in range(len(TABLENAMES)):\n",
    "    save_numerical_report(SUMMARY[TABLENAMES[i]], TABLENAMES[i], save_to='csv')\n",
    "    save_numerical_report(SUMMARY[TABLENAMES[i]], TABLENAMES[i], save_to='json')"
   ]
  },
  {
   "source": [
    "## Visualisation\n",
    "---\n",
    "In this section, we are visualising the results of the single variable analysis in all three datasets - both within the Jupyter and per export into 'reports/figures' for later use."
   ],
   "cell_type": "markdown",
   "metadata": {}
  },
  {
   "cell_type": "code",
   "execution_count": 20,
   "metadata": {},
   "outputs": [],
   "source": [
    "def visualise_categorical(data, keep_missing_values=True):\n",
    "    # create figure and axes (with padding for better exporting)\n",
    "    fig = plt.figure(figsize=(32,18))\n",
    "    ax = fig.add_axes([.15,.15,.7,.7])\n",
    "    \n",
    "    # variables depending on missing_values variable\n",
    "    if keep_missing_values:\n",
    "        x = list(data['Uniques'].keys())\n",
    "        y = list(data['Uniques'].values())\n",
    "        title = title = f\"Distribution: {data['Name'].replace('_', ' ')} (with missing values)\"\n",
    "        color = 'darkred'\n",
    "        yticks = list(data['Uniques'].keys())\n",
    "    \n",
    "    else: \n",
    "        if -1 in list(data['Uniques'].keys()):\n",
    "            x = list(data['Uniques'].keys())[1:]\n",
    "            y = list(data['Uniques'].values())[1:]\n",
    "            yticks = list(data['Uniques'].keys())[1:]\n",
    "        else: \n",
    "            x = list(data['Uniques'].keys())\n",
    "            y = list(data['Uniques'].values())\n",
    "            yticks = list(data['Uniques'].keys())\n",
    "\n",
    "        title = f\"Distribution: {data['Name'].replace('_', ' ')} (without missing values)\"\n",
    "        color = 'darkblue'\n",
    "        \n",
    "    spaced_ticks = [i for i in range(len(yticks))]\n",
    "    # plot bar \n",
    "    ax.barh(spaced_ticks, y, align='center', color=color)\n",
    "\n",
    "    # set title\n",
    "    ax.set_title(title, fontweight='bold')\n",
    "\n",
    "    # format axis-labels\n",
    "    ax.set_xlabel('Number of Accidents')\n",
    "    try: # account for 0% datasets\n",
    "        ax.set_xlim(0, 1.15*max(y)) \n",
    "    except: None\n",
    "\n",
    "    ax.set_yticks(spaced_ticks)\n",
    "    ax.tick_params(axis='y', which='major', pad=10)\n",
    "    ax.invert_yaxis()\n",
    "\n",
    "    try: \n",
    "        y_labels = [data['Map'][i] for i in x] # use lookup from xls \n",
    "        ax.set_yticklabels([textwrap.fill(label, 10) for label in y_labels])\n",
    "    except: None # account for variables that do not have lookup mapping\n",
    "\n",
    "    # insert counts and percentages as text next to the corresponding bars\n",
    "    for x_cord, y_cord in zip(spaced_ticks,y):\n",
    "        ax.text(y_cord, x_cord, f'{y_cord} ({str(100*round(y_cord/sum(y), 3))[:5]}%)' , color='black', fontweight='bold')\n",
    "    \n",
    "    plt.tight_layout()\n",
    "\n",
    "\n",
    "    return fig"
   ]
  },
  {
   "cell_type": "code",
   "execution_count": 21,
   "metadata": {},
   "outputs": [],
   "source": [
    "def visualise_numerical(data, keep_missing_values=True):\n",
    "    # create figure and axes (with padding for better exporting)\n",
    "    fig = plt.figure(figsize=(16,9))\n",
    "    ax = fig.add_axes([.1,.1,.8,.8])\n",
    "\n",
    "    if keep_missing_values:\n",
    "        title = f\"Distribution: {data['Name'].replace('_', ' ')} (with missing values)\"\n",
    "        data = data['Data']\n",
    "        color = 'darkred'\n",
    "\n",
    "    else: \n",
    "        title = f\"Distribution: {data['Name'].replace('_', ' ')} (without missing values)\"\n",
    "        data = data['Data'][(data['Data'] != -1)] # masking out -1\n",
    "        color = 'darkblue'\n",
    "\n",
    "    ax.hist(data, bins=50, color=color)\n",
    "\n",
    "    # set title\n",
    "    ax.set_title(title, fontweight='bold')\n",
    "\n",
    "    # format axis-labels\n",
    "    ax.set_ylabel('Number of Accidents')\n",
    "    ax.set_xlabel('Age')\n",
    "\n",
    "    return fig"
   ]
  },
  {
   "cell_type": "code",
   "execution_count": 22,
   "metadata": {},
   "outputs": [],
   "source": [
    "def visualise_fivenumsummary(data):\n",
    "    # create figure and axes (with padding for better exporting)\n",
    "    fig = plt.figure(figsize=(16,9))\n",
    "    ax = fig.add_axes([.1,.1,.8,.8])\n",
    "\n",
    "    ax.boxplot(data['Data']);\n",
    "\n",
    "    ax.set_title(f\"Boxplot of {data['Name'].replace('_', ' ')}\", fontweight='bold')\n",
    "\n",
    "    return fig"
   ]
  },
  {
   "source": [
    "## Saving Figures\n",
    "---"
   ],
   "cell_type": "markdown",
   "metadata": {}
  },
  {
   "cell_type": "code",
   "execution_count": null,
   "metadata": {},
   "outputs": [],
   "source": [
    "def save_figure(figure, index, name, dataset, keep_missing_values=True, boxplot=False):\n",
    "    if boxplot==False:\n",
    "        try:\n",
    "            if keep_missing_values: \n",
    "                os.makedirs(f'../reports/figures/{dataset}/with_missing_values')\n",
    "            else: \n",
    "                os.makedirs(f'../reports/figures/{dataset}/no_missing_values')\n",
    "        except: None\n",
    "\n",
    "        if keep_missing_values:\n",
    "            figure.savefig(f'../reports/figures/{dataset}/with_missing_values/{index}_{name}.pdf')\n",
    "        else: \n",
    "            figure.savefig(f'../reports/figures/{dataset}/no_missing_values/{index}_{name}.pdf')\n",
    "\n",
    "    else:\n",
    "        try: \n",
    "            os.makedirs(f'../reports/figures/{dataset}/boxplots')\n",
    "        except: None\n",
    "    \n",
    "        figure.savefig(f'../reports/figures/{dataset}/boxplots/{index}_{name}.pdf')"
   ]
  },
  {
   "cell_type": "code",
   "execution_count": null,
   "metadata": {},
   "outputs": [],
   "source": [
    "def save_all(data, name, missing_values):\n",
    "    for column in range(len(data)):\n",
    "        if data[column]['Plot'] == 'bar':\n",
    "            fig = visualise_categorical(data[column], keep_missing_values=missing_values)\n",
    "\n",
    "            save_figure(fig, column, data[column]['Name'], name, missing_values)\n",
    "        elif data[column]['Plot'] == 'hist':\n",
    "            fig = visualise_numerical(data[column], keep_missing_values=missing_values)\n",
    "\n",
    "            save_figure(fig, column, data[column]['Name'], name, keep_missing_values=missing_values)\n",
    "        if data[column]['Summary']:\n",
    "            fig = visualise_fivenumsummary(data[column])\n",
    "\n",
    "            save_figure(fig, column, data[column]['Name'], name, boxplot=True)"
   ]
  },
  {
   "cell_type": "code",
   "execution_count": null,
   "metadata": {},
   "outputs": [],
   "source": [
    "%%capture # prevent plots from showing inline in jupyter\n",
    "for dataset in TABLENAMES:\n",
    "    save_all(SUMMARY[dataset], dataset, missing_values=True)\n",
    "    save_all(SUMMARY[dataset], dataset, missing_values=False)"
   ]
  }
 ]
}
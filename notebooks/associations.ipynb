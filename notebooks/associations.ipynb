{
 "metadata": {
  "language_info": {
   "codemirror_mode": {
    "name": "ipython",
    "version": 3
   },
   "file_extension": ".py",
   "mimetype": "text/x-python",
   "name": "python",
   "nbconvert_exporter": "python",
   "pygments_lexer": "ipython3",
   "version": "3.8.3-final"
  },
  "orig_nbformat": 2,
  "kernelspec": {
   "name": "python3",
   "display_name": "Python 3",
   "language": "python"
  }
 },
 "nbformat": 4,
 "nbformat_minor": 2,
 "cells": [
  {
   "source": [
    "# Associations - Making Leeds Bike-Safe\n",
    "--- \n",
    "Creation: 13.02.2021\n",
    "Author: Jonas-Mika Senghaas (jsen@itu.dk)"
   ],
   "cell_type": "markdown",
   "metadata": {}
  },
  {
   "source": [
    "## Required Libraries\n",
    "---"
   ],
   "cell_type": "markdown",
   "metadata": {}
  },
  {
   "cell_type": "code",
   "execution_count": 1,
   "metadata": {},
   "outputs": [],
   "source": [
    "import pandas as pd\n",
    "import numpy as np\n",
    "import matplotlib.pyplot as plt\n",
    "import textwrap\n",
    "import json\n",
    "import os"
   ]
  },
  {
   "cell_type": "code",
   "execution_count": null,
   "metadata": {},
   "outputs": [],
   "source": [
    "# our library import"
   ]
  },
  {
   "source": [
    "## Constants\n",
    "---"
   ],
   "cell_type": "markdown",
   "metadata": {}
  },
  {
   "cell_type": "code",
   "execution_count": 2,
   "metadata": {},
   "outputs": [],
   "source": [
    "PATH = {}\n",
    "PATH[\"data_raw\"] = \"../data/raw/\"\n",
    "PATH[\"data_interim\"] = \"../data/interim/\"\n",
    "PATH[\"data_processed\"] = \"../data/processed/\"\n",
    "PATH[\"data_external\"] = \"../data/external/\"\n",
    "PATH[\"references\"] = \"../data/references/\"\n",
    "\n",
    "FILENAME = {}\n",
    "FILENAME[\"accidents\"] = \"Road Safety Data - Accidents 2019.csv\"\n",
    "FILENAME[\"casualties\"] = \"Road Safety Data - Casualties 2019.csv\"\n",
    "FILENAME[\"vehicles\"] = \"Road Safety Data- Vehicles 2019.csv\" # the original dataset has a small typing mistake\n",
    "FILENAME[\"variable_lookup\"] = \"variable lookup.xls\"\n",
    "\n",
    "SUMMARY = {}\n",
    "\n",
    "TABLENAMES = [\"accidents\", \"casualties\", \"vehicles\"]"
   ]
  },
  {
   "source": [
    "## Loading Processed Leeds Data\n",
    "---"
   ],
   "cell_type": "markdown",
   "metadata": {}
  },
  {
   "cell_type": "code",
   "execution_count": 4,
   "metadata": {},
   "outputs": [],
   "source": [
    "DATA_LEEDS = {}\n",
    "for dataset in TABLENAMES:\n",
    "    DATA_LEEDS[dataset] = pd.read_csv(PATH['data_processed'] + FILENAME[dataset])"
   ]
  },
  {
   "cell_type": "code",
   "execution_count": 8,
   "metadata": {},
   "outputs": [
    {
     "output_type": "execute_result",
     "data": {
      "text/plain": [
       "(2688, 23)"
      ]
     },
     "metadata": {},
     "execution_count": 8
    }
   ],
   "source": [
    "DATA_LEEDS['vehicles'].shape"
   ]
  },
  {
   "source": [
    "## Filtering for Bike Accidents\n",
    "---"
   ],
   "cell_type": "markdown",
   "metadata": {}
  },
  {
   "cell_type": "code",
   "execution_count": 30,
   "metadata": {},
   "outputs": [],
   "source": [
    "BIKE_ACCIDENTS = {}\n",
    "BIKE_ACCIDENTS['vehicles'] = DATA_LEEDS['vehicles'][DATA_LEEDS['vehicles']['Vehicle_Type'] == 1]"
   ]
  },
  {
   "cell_type": "code",
   "execution_count": 31,
   "metadata": {},
   "outputs": [
    {
     "output_type": "execute_result",
     "data": {
      "text/plain": [
       "238"
      ]
     },
     "metadata": {},
     "execution_count": 31
    }
   ],
   "source": [
    "bike_accidents_indexes = set(BIKE_ACCIDENTS['vehicles']['Accident_Index'])\n",
    "len(bike_accidents_indexes)"
   ]
  },
  {
   "cell_type": "code",
   "execution_count": 32,
   "metadata": {},
   "outputs": [],
   "source": [
    "for dataset in TABLENAMES:\n",
    "    if dataset != 'vehicles':\n",
    "        BIKE_ACCIDENTS[dataset] = DATA_LEEDS[dataset][DATA_LEEDS[dataset]['Accident_Index'].isin(bike_accidents_indexes)]"
   ]
  },
  {
   "cell_type": "code",
   "execution_count": 33,
   "metadata": {},
   "outputs": [
    {
     "output_type": "execute_result",
     "data": {
      "text/plain": [
       "     Accident_Index  Location_Easting_OSGR  Location_Northing_OSGR  Longitude  \\\n",
       "2     2019136111190               435904.0                425850.0  -1.457300   \n",
       "4     2019136111836               429149.0                431736.0  -1.559127   \n",
       "5     2019136120357               428760.0                432723.0  -1.564938   \n",
       "12    2019136170679               432347.0                430836.0  -1.510690   \n",
       "17    2019136180248               429558.0                431566.0  -1.552937   \n",
       "...             ...                    ...                     ...        ...   \n",
       "1404  2019136CF0784               425916.0                435496.0  -1.607873   \n",
       "1416  2019136CI0859               439303.0                432396.0  -1.404956   \n",
       "1417  2019136CI1657               431062.0                430364.0  -1.530234   \n",
       "1425  2019136CK2067               430765.0                433846.0  -1.534394   \n",
       "1449  2019136CV0723               436853.0                442515.0  -1.440932   \n",
       "\n",
       "       Latitude  Police_Force  Accident_Severity  Number_of_Vehicles  \\\n",
       "2     53.727837            13                  3                   2   \n",
       "4     53.781158            13                  2                   2   \n",
       "5     53.790050            13                  2                   2   \n",
       "12    53.772881            13                  3                   2   \n",
       "17    53.779607            13                  3                   2   \n",
       "...         ...           ...                ...                 ...   \n",
       "1404  53.815122            13                  2                   2   \n",
       "1416  53.786425            13                  3                   2   \n",
       "1417  53.768716            13                  3                   2   \n",
       "1425  53.800029            13                  3                   2   \n",
       "1449  53.877548            13                  2                   2   \n",
       "\n",
       "      Number_of_Casualties  Date  ...  Pedestrian_Crossing-Human_Control  \\\n",
       "2                        1     1  ...                                  0   \n",
       "4                        1     1  ...                                  0   \n",
       "5                        1     1  ...                                  0   \n",
       "12                       1     1  ...                                  0   \n",
       "17                       1     1  ...                                  0   \n",
       "...                    ...   ...  ...                                ...   \n",
       "1404                     1    12  ...                                  0   \n",
       "1416                     1    12  ...                                  0   \n",
       "1417                     1    12  ...                                  0   \n",
       "1425                     1    12  ...                                  2   \n",
       "1449                     1    12  ...                                  0   \n",
       "\n",
       "      Pedestrian_Crossing-Physical_Facilities  Light_Conditions  \\\n",
       "2                                           0                 1   \n",
       "4                                           0                 4   \n",
       "5                                           0                 1   \n",
       "12                                          0                 6   \n",
       "17                                          1                 1   \n",
       "...                                       ...               ...   \n",
       "1404                                        0                 1   \n",
       "1416                                        0                 1   \n",
       "1417                                        0                 4   \n",
       "1425                                        4                 4   \n",
       "1449                                        0                 1   \n",
       "\n",
       "     Weather_Conditions  Road_Surface_Conditions  Special_Conditions_at_Site  \\\n",
       "2                     1                        1                           0   \n",
       "4                     1                        1                           0   \n",
       "5                     1                        1                           0   \n",
       "12                    1                        1                           0   \n",
       "17                    1                        1                           0   \n",
       "...                 ...                      ...                         ...   \n",
       "1404                  1                        2                           0   \n",
       "1416                  1                        2                           0   \n",
       "1417                  2                        2                           0   \n",
       "1425                  1                        1                           0   \n",
       "1449                  1                        1                           0   \n",
       "\n",
       "      Carriageway_Hazards  Urban_or_Rural_Area  \\\n",
       "2                       0                    2   \n",
       "4                       0                    1   \n",
       "5                       0                    1   \n",
       "12                      0                    1   \n",
       "17                      0                    1   \n",
       "...                   ...                  ...   \n",
       "1404                    0                    1   \n",
       "1416                    0                    2   \n",
       "1417                    0                    1   \n",
       "1425                    0                    1   \n",
       "1449                    0                    2   \n",
       "\n",
       "      Did_Police_Officer_Attend_Scene_of_Accident  LSOA_of_Accident_Location  \n",
       "2                                               1                  E01011636  \n",
       "4                                               1                  E01011366  \n",
       "5                                               1                  E01033013  \n",
       "12                                              2                  E01011470  \n",
       "17                                              1                  E01011364  \n",
       "...                                           ...                        ...  \n",
       "1404                                            1                  E01011281  \n",
       "1416                                            2                  E01011402  \n",
       "1417                                            1                  E01011472  \n",
       "1425                                            1                  E01033031  \n",
       "1449                                            1                  E01011713  \n",
       "\n",
       "[238 rows x 32 columns]"
      ],
      "text/html": "<div>\n<style scoped>\n    .dataframe tbody tr th:only-of-type {\n        vertical-align: middle;\n    }\n\n    .dataframe tbody tr th {\n        vertical-align: top;\n    }\n\n    .dataframe thead th {\n        text-align: right;\n    }\n</style>\n<table border=\"1\" class=\"dataframe\">\n  <thead>\n    <tr style=\"text-align: right;\">\n      <th></th>\n      <th>Accident_Index</th>\n      <th>Location_Easting_OSGR</th>\n      <th>Location_Northing_OSGR</th>\n      <th>Longitude</th>\n      <th>Latitude</th>\n      <th>Police_Force</th>\n      <th>Accident_Severity</th>\n      <th>Number_of_Vehicles</th>\n      <th>Number_of_Casualties</th>\n      <th>Date</th>\n      <th>...</th>\n      <th>Pedestrian_Crossing-Human_Control</th>\n      <th>Pedestrian_Crossing-Physical_Facilities</th>\n      <th>Light_Conditions</th>\n      <th>Weather_Conditions</th>\n      <th>Road_Surface_Conditions</th>\n      <th>Special_Conditions_at_Site</th>\n      <th>Carriageway_Hazards</th>\n      <th>Urban_or_Rural_Area</th>\n      <th>Did_Police_Officer_Attend_Scene_of_Accident</th>\n      <th>LSOA_of_Accident_Location</th>\n    </tr>\n  </thead>\n  <tbody>\n    <tr>\n      <th>2</th>\n      <td>2019136111190</td>\n      <td>435904.0</td>\n      <td>425850.0</td>\n      <td>-1.457300</td>\n      <td>53.727837</td>\n      <td>13</td>\n      <td>3</td>\n      <td>2</td>\n      <td>1</td>\n      <td>1</td>\n      <td>...</td>\n      <td>0</td>\n      <td>0</td>\n      <td>1</td>\n      <td>1</td>\n      <td>1</td>\n      <td>0</td>\n      <td>0</td>\n      <td>2</td>\n      <td>1</td>\n      <td>E01011636</td>\n    </tr>\n    <tr>\n      <th>4</th>\n      <td>2019136111836</td>\n      <td>429149.0</td>\n      <td>431736.0</td>\n      <td>-1.559127</td>\n      <td>53.781158</td>\n      <td>13</td>\n      <td>2</td>\n      <td>2</td>\n      <td>1</td>\n      <td>1</td>\n      <td>...</td>\n      <td>0</td>\n      <td>0</td>\n      <td>4</td>\n      <td>1</td>\n      <td>1</td>\n      <td>0</td>\n      <td>0</td>\n      <td>1</td>\n      <td>1</td>\n      <td>E01011366</td>\n    </tr>\n    <tr>\n      <th>5</th>\n      <td>2019136120357</td>\n      <td>428760.0</td>\n      <td>432723.0</td>\n      <td>-1.564938</td>\n      <td>53.790050</td>\n      <td>13</td>\n      <td>2</td>\n      <td>2</td>\n      <td>1</td>\n      <td>1</td>\n      <td>...</td>\n      <td>0</td>\n      <td>0</td>\n      <td>1</td>\n      <td>1</td>\n      <td>1</td>\n      <td>0</td>\n      <td>0</td>\n      <td>1</td>\n      <td>1</td>\n      <td>E01033013</td>\n    </tr>\n    <tr>\n      <th>12</th>\n      <td>2019136170679</td>\n      <td>432347.0</td>\n      <td>430836.0</td>\n      <td>-1.510690</td>\n      <td>53.772881</td>\n      <td>13</td>\n      <td>3</td>\n      <td>2</td>\n      <td>1</td>\n      <td>1</td>\n      <td>...</td>\n      <td>0</td>\n      <td>0</td>\n      <td>6</td>\n      <td>1</td>\n      <td>1</td>\n      <td>0</td>\n      <td>0</td>\n      <td>1</td>\n      <td>2</td>\n      <td>E01011470</td>\n    </tr>\n    <tr>\n      <th>17</th>\n      <td>2019136180248</td>\n      <td>429558.0</td>\n      <td>431566.0</td>\n      <td>-1.552937</td>\n      <td>53.779607</td>\n      <td>13</td>\n      <td>3</td>\n      <td>2</td>\n      <td>1</td>\n      <td>1</td>\n      <td>...</td>\n      <td>0</td>\n      <td>1</td>\n      <td>1</td>\n      <td>1</td>\n      <td>1</td>\n      <td>0</td>\n      <td>0</td>\n      <td>1</td>\n      <td>1</td>\n      <td>E01011364</td>\n    </tr>\n    <tr>\n      <th>...</th>\n      <td>...</td>\n      <td>...</td>\n      <td>...</td>\n      <td>...</td>\n      <td>...</td>\n      <td>...</td>\n      <td>...</td>\n      <td>...</td>\n      <td>...</td>\n      <td>...</td>\n      <td>...</td>\n      <td>...</td>\n      <td>...</td>\n      <td>...</td>\n      <td>...</td>\n      <td>...</td>\n      <td>...</td>\n      <td>...</td>\n      <td>...</td>\n      <td>...</td>\n      <td>...</td>\n    </tr>\n    <tr>\n      <th>1404</th>\n      <td>2019136CF0784</td>\n      <td>425916.0</td>\n      <td>435496.0</td>\n      <td>-1.607873</td>\n      <td>53.815122</td>\n      <td>13</td>\n      <td>2</td>\n      <td>2</td>\n      <td>1</td>\n      <td>12</td>\n      <td>...</td>\n      <td>0</td>\n      <td>0</td>\n      <td>1</td>\n      <td>1</td>\n      <td>2</td>\n      <td>0</td>\n      <td>0</td>\n      <td>1</td>\n      <td>1</td>\n      <td>E01011281</td>\n    </tr>\n    <tr>\n      <th>1416</th>\n      <td>2019136CI0859</td>\n      <td>439303.0</td>\n      <td>432396.0</td>\n      <td>-1.404956</td>\n      <td>53.786425</td>\n      <td>13</td>\n      <td>3</td>\n      <td>2</td>\n      <td>1</td>\n      <td>12</td>\n      <td>...</td>\n      <td>0</td>\n      <td>0</td>\n      <td>1</td>\n      <td>1</td>\n      <td>2</td>\n      <td>0</td>\n      <td>0</td>\n      <td>2</td>\n      <td>2</td>\n      <td>E01011402</td>\n    </tr>\n    <tr>\n      <th>1417</th>\n      <td>2019136CI1657</td>\n      <td>431062.0</td>\n      <td>430364.0</td>\n      <td>-1.530234</td>\n      <td>53.768716</td>\n      <td>13</td>\n      <td>3</td>\n      <td>2</td>\n      <td>1</td>\n      <td>12</td>\n      <td>...</td>\n      <td>0</td>\n      <td>0</td>\n      <td>4</td>\n      <td>2</td>\n      <td>2</td>\n      <td>0</td>\n      <td>0</td>\n      <td>1</td>\n      <td>1</td>\n      <td>E01011472</td>\n    </tr>\n    <tr>\n      <th>1425</th>\n      <td>2019136CK2067</td>\n      <td>430765.0</td>\n      <td>433846.0</td>\n      <td>-1.534394</td>\n      <td>53.800029</td>\n      <td>13</td>\n      <td>3</td>\n      <td>2</td>\n      <td>1</td>\n      <td>12</td>\n      <td>...</td>\n      <td>2</td>\n      <td>4</td>\n      <td>4</td>\n      <td>1</td>\n      <td>1</td>\n      <td>0</td>\n      <td>0</td>\n      <td>1</td>\n      <td>1</td>\n      <td>E01033031</td>\n    </tr>\n    <tr>\n      <th>1449</th>\n      <td>2019136CV0723</td>\n      <td>436853.0</td>\n      <td>442515.0</td>\n      <td>-1.440932</td>\n      <td>53.877548</td>\n      <td>13</td>\n      <td>2</td>\n      <td>2</td>\n      <td>1</td>\n      <td>12</td>\n      <td>...</td>\n      <td>0</td>\n      <td>0</td>\n      <td>1</td>\n      <td>1</td>\n      <td>1</td>\n      <td>0</td>\n      <td>0</td>\n      <td>2</td>\n      <td>1</td>\n      <td>E01011713</td>\n    </tr>\n  </tbody>\n</table>\n<p>238 rows × 32 columns</p>\n</div>"
     },
     "metadata": {},
     "execution_count": 33
    }
   ],
   "source": [
    "BIKE_ACCIDENTS['accidents']"
   ]
  },
  {
   "cell_type": "code",
   "execution_count": 25,
   "metadata": {},
   "outputs": [],
   "source": [
    "accidents_with_bikes = DATA_LEEDS['vehicles'][DATA_LEEDS['vehicles']['Accident_Index'].isin(bike_accidents_indexes)]\n",
    "other_vehicles = accidents_with_bikes[accidents_with_bikes['Vehicle_Type'] != 1]"
   ]
  },
  {
   "cell_type": "code",
   "execution_count": 26,
   "metadata": {},
   "outputs": [
    {
     "output_type": "execute_result",
     "data": {
      "text/plain": [
       "     Accident_Index  Vehicle_Reference  Vehicle_Type  Towing_and_Articulation  \\\n",
       "6     2019136111190                  1             9                        0   \n",
       "9     2019136111836                  1             9                        0   \n",
       "11    2019136120357                  1            19                        0   \n",
       "25    2019136170679                  1             9                        0   \n",
       "32    2019136180248                  1             9                        0   \n",
       "...             ...                ...           ...                      ...   \n",
       "2601  2019136CF0784                  1             9                        0   \n",
       "2625  2019136CI0859                  1             9                        0   \n",
       "2627  2019136CI1657                  1             9                        0   \n",
       "2641  2019136CK2067                  1             9                        0   \n",
       "2683  2019136CV0723                  1             9                        0   \n",
       "\n",
       "      Vehicle_Manoeuvre  Vehicle_Location-Restricted_Lane  Junction_Location  \\\n",
       "6                    18                                 0                  8   \n",
       "9                     9                                 0                  1   \n",
       "11                    5                                 0                  4   \n",
       "25                    4                                 0                  1   \n",
       "32                   18                                 0                  8   \n",
       "...                 ...                               ...                ...   \n",
       "2601                  9                                 0                  8   \n",
       "2625                 18                                 0                  1   \n",
       "2627                  5                                 0                  6   \n",
       "2641                 17                                 0                  0   \n",
       "2683                 18                                 0                  0   \n",
       "\n",
       "      Skidding_and_Overturning  Hit_Object_in_Carriageway  \\\n",
       "6                            0                          0   \n",
       "9                            0                          0   \n",
       "11                           0                          0   \n",
       "25                           0                          0   \n",
       "32                           0                          0   \n",
       "...                        ...                        ...   \n",
       "2601                         0                          0   \n",
       "2625                         0                          0   \n",
       "2627                         0                          0   \n",
       "2641                         0                          0   \n",
       "2683                         0                          0   \n",
       "\n",
       "      Vehicle_Leaving_Carriageway  ...  Journey_Purpose_of_Driver  \\\n",
       "6                               0  ...                          6   \n",
       "9                               0  ...                          1   \n",
       "11                              0  ...                          1   \n",
       "25                              0  ...                          1   \n",
       "32                              0  ...                          2   \n",
       "...                           ...  ...                        ...   \n",
       "2601                            0  ...                          6   \n",
       "2625                            0  ...                          6   \n",
       "2627                            0  ...                          6   \n",
       "2641                            0  ...                          6   \n",
       "2683                            0  ...                          6   \n",
       "\n",
       "      Sex_of_Driver  Age_of_Driver  Age_Band_of_Driver  Engine_Capacity_(CC)  \\\n",
       "6                 1             48                   8                  1686   \n",
       "9                 1             51                   8                  1598   \n",
       "11                1             33                   6                    -1   \n",
       "25                1             52                   8                  1998   \n",
       "32                1             22                   5                  1995   \n",
       "...             ...            ...                 ...                   ...   \n",
       "2601              1             68                  10                  1461   \n",
       "2625              3             -1                  -1                    -1   \n",
       "2627              1             21                   5                   998   \n",
       "2641              1             56                   9                  1339   \n",
       "2683              1             72                  10                  1968   \n",
       "\n",
       "      Propulsion_Code  Age_of_Vehicle  Driver_IMD_Decile  \\\n",
       "6                   2              15                  7   \n",
       "9                   2               7                 -1   \n",
       "11                  3               3                  1   \n",
       "25                  2              11                  9   \n",
       "32                  2              14                  1   \n",
       "...               ...             ...                ...   \n",
       "2601                2               7                  2   \n",
       "2625               -1              -1                 -1   \n",
       "2627                1               1                  6   \n",
       "2641                1              15                  1   \n",
       "2683                2               4                 10   \n",
       "\n",
       "      Driver_Home_Area_Type  Vehicle_IMD_Decile  \n",
       "6                         1                   7  \n",
       "9                        -1                  -1  \n",
       "11                        1                   1  \n",
       "25                        1                   9  \n",
       "32                        1                   1  \n",
       "...                     ...                 ...  \n",
       "2601                      1                   2  \n",
       "2625                     -1                  -1  \n",
       "2627                      1                   6  \n",
       "2641                      1                   1  \n",
       "2683                      1                  10  \n",
       "\n",
       "[242 rows x 23 columns]"
      ],
      "text/html": "<div>\n<style scoped>\n    .dataframe tbody tr th:only-of-type {\n        vertical-align: middle;\n    }\n\n    .dataframe tbody tr th {\n        vertical-align: top;\n    }\n\n    .dataframe thead th {\n        text-align: right;\n    }\n</style>\n<table border=\"1\" class=\"dataframe\">\n  <thead>\n    <tr style=\"text-align: right;\">\n      <th></th>\n      <th>Accident_Index</th>\n      <th>Vehicle_Reference</th>\n      <th>Vehicle_Type</th>\n      <th>Towing_and_Articulation</th>\n      <th>Vehicle_Manoeuvre</th>\n      <th>Vehicle_Location-Restricted_Lane</th>\n      <th>Junction_Location</th>\n      <th>Skidding_and_Overturning</th>\n      <th>Hit_Object_in_Carriageway</th>\n      <th>Vehicle_Leaving_Carriageway</th>\n      <th>...</th>\n      <th>Journey_Purpose_of_Driver</th>\n      <th>Sex_of_Driver</th>\n      <th>Age_of_Driver</th>\n      <th>Age_Band_of_Driver</th>\n      <th>Engine_Capacity_(CC)</th>\n      <th>Propulsion_Code</th>\n      <th>Age_of_Vehicle</th>\n      <th>Driver_IMD_Decile</th>\n      <th>Driver_Home_Area_Type</th>\n      <th>Vehicle_IMD_Decile</th>\n    </tr>\n  </thead>\n  <tbody>\n    <tr>\n      <th>6</th>\n      <td>2019136111190</td>\n      <td>1</td>\n      <td>9</td>\n      <td>0</td>\n      <td>18</td>\n      <td>0</td>\n      <td>8</td>\n      <td>0</td>\n      <td>0</td>\n      <td>0</td>\n      <td>...</td>\n      <td>6</td>\n      <td>1</td>\n      <td>48</td>\n      <td>8</td>\n      <td>1686</td>\n      <td>2</td>\n      <td>15</td>\n      <td>7</td>\n      <td>1</td>\n      <td>7</td>\n    </tr>\n    <tr>\n      <th>9</th>\n      <td>2019136111836</td>\n      <td>1</td>\n      <td>9</td>\n      <td>0</td>\n      <td>9</td>\n      <td>0</td>\n      <td>1</td>\n      <td>0</td>\n      <td>0</td>\n      <td>0</td>\n      <td>...</td>\n      <td>1</td>\n      <td>1</td>\n      <td>51</td>\n      <td>8</td>\n      <td>1598</td>\n      <td>2</td>\n      <td>7</td>\n      <td>-1</td>\n      <td>-1</td>\n      <td>-1</td>\n    </tr>\n    <tr>\n      <th>11</th>\n      <td>2019136120357</td>\n      <td>1</td>\n      <td>19</td>\n      <td>0</td>\n      <td>5</td>\n      <td>0</td>\n      <td>4</td>\n      <td>0</td>\n      <td>0</td>\n      <td>0</td>\n      <td>...</td>\n      <td>1</td>\n      <td>1</td>\n      <td>33</td>\n      <td>6</td>\n      <td>-1</td>\n      <td>3</td>\n      <td>3</td>\n      <td>1</td>\n      <td>1</td>\n      <td>1</td>\n    </tr>\n    <tr>\n      <th>25</th>\n      <td>2019136170679</td>\n      <td>1</td>\n      <td>9</td>\n      <td>0</td>\n      <td>4</td>\n      <td>0</td>\n      <td>1</td>\n      <td>0</td>\n      <td>0</td>\n      <td>0</td>\n      <td>...</td>\n      <td>1</td>\n      <td>1</td>\n      <td>52</td>\n      <td>8</td>\n      <td>1998</td>\n      <td>2</td>\n      <td>11</td>\n      <td>9</td>\n      <td>1</td>\n      <td>9</td>\n    </tr>\n    <tr>\n      <th>32</th>\n      <td>2019136180248</td>\n      <td>1</td>\n      <td>9</td>\n      <td>0</td>\n      <td>18</td>\n      <td>0</td>\n      <td>8</td>\n      <td>0</td>\n      <td>0</td>\n      <td>0</td>\n      <td>...</td>\n      <td>2</td>\n      <td>1</td>\n      <td>22</td>\n      <td>5</td>\n      <td>1995</td>\n      <td>2</td>\n      <td>14</td>\n      <td>1</td>\n      <td>1</td>\n      <td>1</td>\n    </tr>\n    <tr>\n      <th>...</th>\n      <td>...</td>\n      <td>...</td>\n      <td>...</td>\n      <td>...</td>\n      <td>...</td>\n      <td>...</td>\n      <td>...</td>\n      <td>...</td>\n      <td>...</td>\n      <td>...</td>\n      <td>...</td>\n      <td>...</td>\n      <td>...</td>\n      <td>...</td>\n      <td>...</td>\n      <td>...</td>\n      <td>...</td>\n      <td>...</td>\n      <td>...</td>\n      <td>...</td>\n      <td>...</td>\n    </tr>\n    <tr>\n      <th>2601</th>\n      <td>2019136CF0784</td>\n      <td>1</td>\n      <td>9</td>\n      <td>0</td>\n      <td>9</td>\n      <td>0</td>\n      <td>8</td>\n      <td>0</td>\n      <td>0</td>\n      <td>0</td>\n      <td>...</td>\n      <td>6</td>\n      <td>1</td>\n      <td>68</td>\n      <td>10</td>\n      <td>1461</td>\n      <td>2</td>\n      <td>7</td>\n      <td>2</td>\n      <td>1</td>\n      <td>2</td>\n    </tr>\n    <tr>\n      <th>2625</th>\n      <td>2019136CI0859</td>\n      <td>1</td>\n      <td>9</td>\n      <td>0</td>\n      <td>18</td>\n      <td>0</td>\n      <td>1</td>\n      <td>0</td>\n      <td>0</td>\n      <td>0</td>\n      <td>...</td>\n      <td>6</td>\n      <td>3</td>\n      <td>-1</td>\n      <td>-1</td>\n      <td>-1</td>\n      <td>-1</td>\n      <td>-1</td>\n      <td>-1</td>\n      <td>-1</td>\n      <td>-1</td>\n    </tr>\n    <tr>\n      <th>2627</th>\n      <td>2019136CI1657</td>\n      <td>1</td>\n      <td>9</td>\n      <td>0</td>\n      <td>5</td>\n      <td>0</td>\n      <td>6</td>\n      <td>0</td>\n      <td>0</td>\n      <td>0</td>\n      <td>...</td>\n      <td>6</td>\n      <td>1</td>\n      <td>21</td>\n      <td>5</td>\n      <td>998</td>\n      <td>1</td>\n      <td>1</td>\n      <td>6</td>\n      <td>1</td>\n      <td>6</td>\n    </tr>\n    <tr>\n      <th>2641</th>\n      <td>2019136CK2067</td>\n      <td>1</td>\n      <td>9</td>\n      <td>0</td>\n      <td>17</td>\n      <td>0</td>\n      <td>0</td>\n      <td>0</td>\n      <td>0</td>\n      <td>0</td>\n      <td>...</td>\n      <td>6</td>\n      <td>1</td>\n      <td>56</td>\n      <td>9</td>\n      <td>1339</td>\n      <td>1</td>\n      <td>15</td>\n      <td>1</td>\n      <td>1</td>\n      <td>1</td>\n    </tr>\n    <tr>\n      <th>2683</th>\n      <td>2019136CV0723</td>\n      <td>1</td>\n      <td>9</td>\n      <td>0</td>\n      <td>18</td>\n      <td>0</td>\n      <td>0</td>\n      <td>0</td>\n      <td>0</td>\n      <td>0</td>\n      <td>...</td>\n      <td>6</td>\n      <td>1</td>\n      <td>72</td>\n      <td>10</td>\n      <td>1968</td>\n      <td>2</td>\n      <td>4</td>\n      <td>10</td>\n      <td>1</td>\n      <td>10</td>\n    </tr>\n  </tbody>\n</table>\n<p>242 rows × 23 columns</p>\n</div>"
     },
     "metadata": {},
     "execution_count": 26
    }
   ],
   "source": [
    "other_vehicles"
   ]
  },
  {
   "cell_type": "code",
   "execution_count": null,
   "metadata": {},
   "outputs": [],
   "source": [
    "# we want to use the exact same functions as we used for exploring the whole leeds dataset"
   ]
  }
 ]
}
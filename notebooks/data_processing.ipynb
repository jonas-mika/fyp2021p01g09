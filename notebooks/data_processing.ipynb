{
 "metadata": {
  "language_info": {
   "codemirror_mode": {
    "name": "ipython",
    "version": 3
   },
   "file_extension": ".py",
   "mimetype": "text/x-python",
   "name": "python",
   "nbconvert_exporter": "python",
   "pygments_lexer": "ipython3",
   "version": "3.8.3-final"
  },
  "orig_nbformat": 2,
  "kernelspec": {
   "name": "python3",
   "display_name": "Python 3",
   "language": "python"
  }
 },
 "nbformat": 4,
 "nbformat_minor": 2,
 "cells": [
  {
   "source": [
    "# Data Processing\n",
    "---\n",
    "### First inspection of dataset, data filtering and cleaning\n",
    "\n",
    "Creation: 05.02.2021"
   ],
   "cell_type": "markdown",
   "metadata": {}
  },
  {
   "source": [
    "## Required Libraries\n",
    "---"
   ],
   "cell_type": "markdown",
   "metadata": {}
  },
  {
   "cell_type": "code",
   "execution_count": 2,
   "metadata": {},
   "outputs": [],
   "source": [
    "import numpy as np\n",
    "import pandas as pd"
   ]
  },
  {
   "source": [
    "## Loading in the Dataset\n",
    "---\n",
    "Starting of the data analysis, we import the given three datasets into a 'pandas' dataframe. "
   ],
   "cell_type": "markdown",
   "metadata": {}
  },
  {
   "cell_type": "code",
   "execution_count": 3,
   "metadata": {},
   "outputs": [],
   "source": [
    "# load in the dataset into a numpy array\n",
    "raw_data_accidents = pd.read_csv('../data/raw/accidents.csv') # 117.536 rows × 32 columns\n",
    "raw_data_vehicles = pd.read_csv('../data/raw/vehicles.csv') # 216.381 rows × 23 columns\n",
    "raw_data_casualties = pd.read_csv('../data/raw/casualties.csv') # 153158 rows × 16 columns"
   ]
  },
  {
   "source": [
    "## Filtering \n",
    "---\n",
    "Next, we filter the main dataset 'accidents.csv' for the city of interest 'Leeds', which can be identified by several variables in the dataset. We here chose the column 'Local Authority (District)', where 'Leeds' is identified as 204. The resulting, filtered dataframe is saved into a new variable."
   ],
   "cell_type": "markdown",
   "metadata": {}
  },
  {
   "cell_type": "code",
   "execution_count": 4,
   "metadata": {},
   "outputs": [],
   "source": [
    "leeds_accidents = raw_data_accidents[raw_data_accidents['Local_Authority_(District)'] == 204]"
   ]
  },
  {
   "source": [
    "However, the other two datasets cannont be identified by the variable attributes, but need to be filtered through the unique accident indexes that we can obtain from our filtered dataframe of accidents in 'Leeds'. We obtain a list of all accident indexes of the accidents that occured in Leeds and use this index list to filter both the 'vehicles.csv' and 'casualties.csv' datasets."
   ],
   "cell_type": "markdown",
   "metadata": {}
  },
  {
   "cell_type": "code",
   "execution_count": 5,
   "metadata": {
    "tags": []
   },
   "outputs": [],
   "source": [
    "leeds_indexes = list(leeds_accidents['Accident_Index'])"
   ]
  },
  {
   "cell_type": "code",
   "execution_count": 6,
   "metadata": {},
   "outputs": [],
   "source": [
    "leeds_vehicles = raw_data_vehicles[raw_data_vehicles['Accident_Index'].isin(leeds_indexes)]\n",
    "leeds_casualties = raw_data_casualties[raw_data_casualties['Accident_Index'].isin(leeds_indexes)]"
   ]
  },
  {
   "source": [
    "## Process Data\n",
    "---\n",
    "In this section, the 'Date' and 'Time' attributes in the 'accidents.csv' module will be cleaned for easy use in the single variable analysis."
   ],
   "cell_type": "markdown",
   "metadata": {}
  },
  {
   "source": [
    "### Time"
   ],
   "cell_type": "markdown",
   "metadata": {}
  },
  {
   "cell_type": "code",
   "execution_count": 7,
   "metadata": {},
   "outputs": [],
   "source": [
    "time = np.array(leeds_accidents['Time'])\n",
    "for i in range(len(time)):\n",
    "    try: \n",
    "        time[i] = time[i][:2]\n",
    "    except:\n",
    "        time[i] = '-1'\n",
    "\n",
    "leeds_accidents['Time'] = time"
   ]
  },
  {
   "source": [
    "### Date"
   ],
   "cell_type": "markdown",
   "metadata": {}
  },
  {
   "cell_type": "code",
   "execution_count": 8,
   "metadata": {},
   "outputs": [],
   "source": [
    "date = np.array(leeds_accidents['Date'])"
   ]
  },
  {
   "source": [
    "## Overview \n",
    "---\n",
    "For each of the datasets, we want to get a first good impression of its size and the information it stores. To gain this information, we print out each of the datasets, and get a summary of each of the columns and the uniques."
   ],
   "cell_type": "markdown",
   "metadata": {}
  },
  {
   "source": [
    "### Accidents\n",
    "---"
   ],
   "cell_type": "markdown",
   "metadata": {}
  },
  {
   "cell_type": "code",
   "execution_count": 9,
   "metadata": {},
   "outputs": [
    {
     "output_type": "execute_result",
     "data": {
      "text/plain": [
       "(1451, 32)"
      ]
     },
     "metadata": {},
     "execution_count": 9
    }
   ],
   "source": [
    "leeds_accidents.shape # prints out the number of columns and rows"
   ]
  },
  {
   "cell_type": "code",
   "execution_count": 10,
   "metadata": {},
   "outputs": [
    {
     "output_type": "execute_result",
     "data": {
      "text/plain": [
       "      Accident_Index  Location_Easting_OSGR  Location_Northing_OSGR  \\\n",
       "41052  2019131901350               443576.0                438198.0   \n",
       "41053  20191358F1730               436147.0                434957.0   \n",
       "41055  2019136111190               435904.0                425850.0   \n",
       "41057  2019136111674               423194.0                438111.0   \n",
       "41058  2019136111836               429149.0                431736.0   \n",
       "...              ...                    ...                     ...   \n",
       "44657  2019136CT0238               430040.0                434040.0   \n",
       "44661  2019136CU0181               442094.0                434619.0   \n",
       "44662  2019136CU0363               423019.0                437653.0   \n",
       "44669  2019136CV0723               436853.0                442515.0   \n",
       "44670  2019136CV1518               421466.0                433999.0   \n",
       "\n",
       "       Longitude   Latitude  Police_Force  Accident_Severity  \\\n",
       "41052  -1.339288  53.838231            13                  2   \n",
       "41053  -1.452556  53.809670            13                  3   \n",
       "41055  -1.457300  53.727837            13                  3   \n",
       "41057  -1.649019  53.838752            13                  3   \n",
       "41058  -1.559127  53.781158            13                  2   \n",
       "...          ...        ...           ...                ...   \n",
       "44657  -1.545382  53.801815            13                  2   \n",
       "44661  -1.362295  53.806186            13                  3   \n",
       "44662  -1.651713  53.834643            13                  2   \n",
       "44669  -1.440932  53.877548            13                  2   \n",
       "44670  -1.675563  53.801868            13                  3   \n",
       "\n",
       "       Number_of_Vehicles  Number_of_Casualties        Date  ...  \\\n",
       "41052                   4                     1  27/09/2019  ...   \n",
       "41053                   2                     7  15/08/2019  ...   \n",
       "41055                   2                     1  01/01/2019  ...   \n",
       "41057                   1                     1  01/01/2019  ...   \n",
       "41058                   2                     1  01/01/2019  ...   \n",
       "...                   ...                   ...         ...  ...   \n",
       "44657                   1                     1  29/12/2019  ...   \n",
       "44661                   1                     1  30/12/2019  ...   \n",
       "44662                   1                     1  30/12/2019  ...   \n",
       "44669                   2                     1  31/12/2019  ...   \n",
       "44670                   3                     2  31/12/2019  ...   \n",
       "\n",
       "       Pedestrian_Crossing-Human_Control  \\\n",
       "41052                                  0   \n",
       "41053                                  0   \n",
       "41055                                  0   \n",
       "41057                                  0   \n",
       "41058                                  0   \n",
       "...                                  ...   \n",
       "44657                                  0   \n",
       "44661                                  0   \n",
       "44662                                  0   \n",
       "44669                                  0   \n",
       "44670                                  0   \n",
       "\n",
       "      Pedestrian_Crossing-Physical_Facilities  Light_Conditions  \\\n",
       "41052                                       0                 1   \n",
       "41053                                       0                 1   \n",
       "41055                                       0                 1   \n",
       "41057                                       0                 1   \n",
       "41058                                       0                 4   \n",
       "...                                       ...               ...   \n",
       "44657                                       0                 4   \n",
       "44661                                       0                 4   \n",
       "44662                                       0                 1   \n",
       "44669                                       0                 1   \n",
       "44670                                       0                 4   \n",
       "\n",
       "      Weather_Conditions  Road_Surface_Conditions  Special_Conditions_at_Site  \\\n",
       "41052                  2                        2                           0   \n",
       "41053                  1                        1                           0   \n",
       "41055                  1                        1                           0   \n",
       "41057                  1                        1                           0   \n",
       "41058                  1                        1                           0   \n",
       "...                  ...                      ...                         ...   \n",
       "44657                  1                        1                           0   \n",
       "44661                  4                        2                           0   \n",
       "44662                  1                        4                           7   \n",
       "44669                  1                        1                           0   \n",
       "44670                  1                        1                           0   \n",
       "\n",
       "       Carriageway_Hazards  Urban_or_Rural_Area  \\\n",
       "41052                    0                    2   \n",
       "41053                    0                    1   \n",
       "41055                    0                    2   \n",
       "41057                    0                    1   \n",
       "41058                    0                    1   \n",
       "...                    ...                  ...   \n",
       "44657                    0                    1   \n",
       "44661                    0                    2   \n",
       "44662                    0                    1   \n",
       "44669                    0                    2   \n",
       "44670                    0                    1   \n",
       "\n",
       "       Did_Police_Officer_Attend_Scene_of_Accident  LSOA_of_Accident_Location  \n",
       "41052                                            1                  E01011309  \n",
       "41053                                            2                  E01011666  \n",
       "41055                                            1                  E01011636  \n",
       "41057                                            1                  E01011461  \n",
       "41058                                            1                  E01011366  \n",
       "...                                            ...                        ...  \n",
       "44657                                            1                  E01033010  \n",
       "44661                                            1                  E01011297  \n",
       "44662                                            1                  E01011452  \n",
       "44669                                            1                  E01011713  \n",
       "44670                                            2                  E01011585  \n",
       "\n",
       "[1451 rows x 32 columns]"
      ],
      "text/html": "<div>\n<style scoped>\n    .dataframe tbody tr th:only-of-type {\n        vertical-align: middle;\n    }\n\n    .dataframe tbody tr th {\n        vertical-align: top;\n    }\n\n    .dataframe thead th {\n        text-align: right;\n    }\n</style>\n<table border=\"1\" class=\"dataframe\">\n  <thead>\n    <tr style=\"text-align: right;\">\n      <th></th>\n      <th>Accident_Index</th>\n      <th>Location_Easting_OSGR</th>\n      <th>Location_Northing_OSGR</th>\n      <th>Longitude</th>\n      <th>Latitude</th>\n      <th>Police_Force</th>\n      <th>Accident_Severity</th>\n      <th>Number_of_Vehicles</th>\n      <th>Number_of_Casualties</th>\n      <th>Date</th>\n      <th>...</th>\n      <th>Pedestrian_Crossing-Human_Control</th>\n      <th>Pedestrian_Crossing-Physical_Facilities</th>\n      <th>Light_Conditions</th>\n      <th>Weather_Conditions</th>\n      <th>Road_Surface_Conditions</th>\n      <th>Special_Conditions_at_Site</th>\n      <th>Carriageway_Hazards</th>\n      <th>Urban_or_Rural_Area</th>\n      <th>Did_Police_Officer_Attend_Scene_of_Accident</th>\n      <th>LSOA_of_Accident_Location</th>\n    </tr>\n  </thead>\n  <tbody>\n    <tr>\n      <th>41052</th>\n      <td>2019131901350</td>\n      <td>443576.0</td>\n      <td>438198.0</td>\n      <td>-1.339288</td>\n      <td>53.838231</td>\n      <td>13</td>\n      <td>2</td>\n      <td>4</td>\n      <td>1</td>\n      <td>27/09/2019</td>\n      <td>...</td>\n      <td>0</td>\n      <td>0</td>\n      <td>1</td>\n      <td>2</td>\n      <td>2</td>\n      <td>0</td>\n      <td>0</td>\n      <td>2</td>\n      <td>1</td>\n      <td>E01011309</td>\n    </tr>\n    <tr>\n      <th>41053</th>\n      <td>20191358F1730</td>\n      <td>436147.0</td>\n      <td>434957.0</td>\n      <td>-1.452556</td>\n      <td>53.809670</td>\n      <td>13</td>\n      <td>3</td>\n      <td>2</td>\n      <td>7</td>\n      <td>15/08/2019</td>\n      <td>...</td>\n      <td>0</td>\n      <td>0</td>\n      <td>1</td>\n      <td>1</td>\n      <td>1</td>\n      <td>0</td>\n      <td>0</td>\n      <td>1</td>\n      <td>2</td>\n      <td>E01011666</td>\n    </tr>\n    <tr>\n      <th>41055</th>\n      <td>2019136111190</td>\n      <td>435904.0</td>\n      <td>425850.0</td>\n      <td>-1.457300</td>\n      <td>53.727837</td>\n      <td>13</td>\n      <td>3</td>\n      <td>2</td>\n      <td>1</td>\n      <td>01/01/2019</td>\n      <td>...</td>\n      <td>0</td>\n      <td>0</td>\n      <td>1</td>\n      <td>1</td>\n      <td>1</td>\n      <td>0</td>\n      <td>0</td>\n      <td>2</td>\n      <td>1</td>\n      <td>E01011636</td>\n    </tr>\n    <tr>\n      <th>41057</th>\n      <td>2019136111674</td>\n      <td>423194.0</td>\n      <td>438111.0</td>\n      <td>-1.649019</td>\n      <td>53.838752</td>\n      <td>13</td>\n      <td>3</td>\n      <td>1</td>\n      <td>1</td>\n      <td>01/01/2019</td>\n      <td>...</td>\n      <td>0</td>\n      <td>0</td>\n      <td>1</td>\n      <td>1</td>\n      <td>1</td>\n      <td>0</td>\n      <td>0</td>\n      <td>1</td>\n      <td>1</td>\n      <td>E01011461</td>\n    </tr>\n    <tr>\n      <th>41058</th>\n      <td>2019136111836</td>\n      <td>429149.0</td>\n      <td>431736.0</td>\n      <td>-1.559127</td>\n      <td>53.781158</td>\n      <td>13</td>\n      <td>2</td>\n      <td>2</td>\n      <td>1</td>\n      <td>01/01/2019</td>\n      <td>...</td>\n      <td>0</td>\n      <td>0</td>\n      <td>4</td>\n      <td>1</td>\n      <td>1</td>\n      <td>0</td>\n      <td>0</td>\n      <td>1</td>\n      <td>1</td>\n      <td>E01011366</td>\n    </tr>\n    <tr>\n      <th>...</th>\n      <td>...</td>\n      <td>...</td>\n      <td>...</td>\n      <td>...</td>\n      <td>...</td>\n      <td>...</td>\n      <td>...</td>\n      <td>...</td>\n      <td>...</td>\n      <td>...</td>\n      <td>...</td>\n      <td>...</td>\n      <td>...</td>\n      <td>...</td>\n      <td>...</td>\n      <td>...</td>\n      <td>...</td>\n      <td>...</td>\n      <td>...</td>\n      <td>...</td>\n      <td>...</td>\n    </tr>\n    <tr>\n      <th>44657</th>\n      <td>2019136CT0238</td>\n      <td>430040.0</td>\n      <td>434040.0</td>\n      <td>-1.545382</td>\n      <td>53.801815</td>\n      <td>13</td>\n      <td>2</td>\n      <td>1</td>\n      <td>1</td>\n      <td>29/12/2019</td>\n      <td>...</td>\n      <td>0</td>\n      <td>0</td>\n      <td>4</td>\n      <td>1</td>\n      <td>1</td>\n      <td>0</td>\n      <td>0</td>\n      <td>1</td>\n      <td>1</td>\n      <td>E01033010</td>\n    </tr>\n    <tr>\n      <th>44661</th>\n      <td>2019136CU0181</td>\n      <td>442094.0</td>\n      <td>434619.0</td>\n      <td>-1.362295</td>\n      <td>53.806186</td>\n      <td>13</td>\n      <td>3</td>\n      <td>1</td>\n      <td>1</td>\n      <td>30/12/2019</td>\n      <td>...</td>\n      <td>0</td>\n      <td>0</td>\n      <td>4</td>\n      <td>4</td>\n      <td>2</td>\n      <td>0</td>\n      <td>0</td>\n      <td>2</td>\n      <td>1</td>\n      <td>E01011297</td>\n    </tr>\n    <tr>\n      <th>44662</th>\n      <td>2019136CU0363</td>\n      <td>423019.0</td>\n      <td>437653.0</td>\n      <td>-1.651713</td>\n      <td>53.834643</td>\n      <td>13</td>\n      <td>2</td>\n      <td>1</td>\n      <td>1</td>\n      <td>30/12/2019</td>\n      <td>...</td>\n      <td>0</td>\n      <td>0</td>\n      <td>1</td>\n      <td>1</td>\n      <td>4</td>\n      <td>7</td>\n      <td>0</td>\n      <td>1</td>\n      <td>1</td>\n      <td>E01011452</td>\n    </tr>\n    <tr>\n      <th>44669</th>\n      <td>2019136CV0723</td>\n      <td>436853.0</td>\n      <td>442515.0</td>\n      <td>-1.440932</td>\n      <td>53.877548</td>\n      <td>13</td>\n      <td>2</td>\n      <td>2</td>\n      <td>1</td>\n      <td>31/12/2019</td>\n      <td>...</td>\n      <td>0</td>\n      <td>0</td>\n      <td>1</td>\n      <td>1</td>\n      <td>1</td>\n      <td>0</td>\n      <td>0</td>\n      <td>2</td>\n      <td>1</td>\n      <td>E01011713</td>\n    </tr>\n    <tr>\n      <th>44670</th>\n      <td>2019136CV1518</td>\n      <td>421466.0</td>\n      <td>433999.0</td>\n      <td>-1.675563</td>\n      <td>53.801868</td>\n      <td>13</td>\n      <td>3</td>\n      <td>3</td>\n      <td>2</td>\n      <td>31/12/2019</td>\n      <td>...</td>\n      <td>0</td>\n      <td>0</td>\n      <td>4</td>\n      <td>1</td>\n      <td>1</td>\n      <td>0</td>\n      <td>0</td>\n      <td>1</td>\n      <td>2</td>\n      <td>E01011585</td>\n    </tr>\n  </tbody>\n</table>\n<p>1451 rows × 32 columns</p>\n</div>"
     },
     "metadata": {},
     "execution_count": 10
    }
   ],
   "source": [
    "leeds_accidents # prints out an overview of the dataframe (and the number of rows and columns)"
   ]
  },
  {
   "cell_type": "code",
   "execution_count": 11,
   "metadata": {},
   "outputs": [
    {
     "output_type": "execute_result",
     "data": {
      "text/plain": [
       "Accident_Index                                 1451\n",
       "Location_Easting_OSGR                          1353\n",
       "Location_Northing_OSGR                         1319\n",
       "Longitude                                      1407\n",
       "Latitude                                       1404\n",
       "Police_Force                                      1\n",
       "Accident_Severity                                 3\n",
       "Number_of_Vehicles                                6\n",
       "Number_of_Casualties                              9\n",
       "Date                                            348\n",
       "Day_of_Week                                       7\n",
       "Time                                             25\n",
       "Local_Authority_(District)                        1\n",
       "Local_Authority_(Highway)                         1\n",
       "1st_Road_Class                                    6\n",
       "1st_Road_Number                                  38\n",
       "Road_Type                                         6\n",
       "Speed_limit                                       6\n",
       "Junction_Detail                                   9\n",
       "Junction_Control                                  5\n",
       "2nd_Road_Class                                    7\n",
       "2nd_Road_Number                                  32\n",
       "Pedestrian_Crossing-Human_Control                 3\n",
       "Pedestrian_Crossing-Physical_Facilities           5\n",
       "Light_Conditions                                  5\n",
       "Weather_Conditions                                8\n",
       "Road_Surface_Conditions                           5\n",
       "Special_Conditions_at_Site                        5\n",
       "Carriageway_Hazards                               6\n",
       "Urban_or_Rural_Area                               2\n",
       "Did_Police_Officer_Attend_Scene_of_Accident       2\n",
       "LSOA_of_Accident_Location                       379\n",
       "dtype: int64"
      ]
     },
     "metadata": {},
     "execution_count": 11
    }
   ],
   "source": [
    "leeds_accidents.nunique() # prints out the column names and the corresponding number of unique values "
   ]
  },
  {
   "source": [
    "We see, that the main dataset 'accidents_processed.csv' stores all recorded accidents in 2019 in Leeds. It consist of 1451 columns (which leads to 1450 recorded accidents) and has 32 columns providing more detailed information about the accident. The different variables and the number of its unique values can be studied in the output of the above cell. We see, that we can differentiate the attributes as follows:\n",
    "- Categorical Attributes (Most of the columns are categorical)\n",
    "- Geographical Attributes (There are several measures of the location of the accident)\n",
    "- Time Attribute (Each accident specifies a date and time)"
   ],
   "cell_type": "markdown",
   "metadata": {}
  },
  {
   "source": [
    "### Vehicles\n",
    "---"
   ],
   "cell_type": "markdown",
   "metadata": {}
  },
  {
   "cell_type": "code",
   "execution_count": null,
   "metadata": {},
   "outputs": [],
   "source": [
    "leeds_vehicles.shape # prints out the number of columns and rows"
   ]
  },
  {
   "cell_type": "code",
   "execution_count": null,
   "metadata": {},
   "outputs": [],
   "source": [
    "leeds_vehicles # prints out an overview of the dataframe (and the number of rows and columns)"
   ]
  },
  {
   "cell_type": "code",
   "execution_count": null,
   "metadata": {},
   "outputs": [],
   "source": [
    "leeds_vehicles.nunique() # prints out the column names and the corresponding number of unique values "
   ]
  },
  {
   "source": [
    "We see, that the side dataset 'vehicles_processed.csv' provides more detailed information about all vehicles involved in each of the accidents. It consist of 2688 columns (which leads to 2688 records on involved vehicles) and has 23 columns providing more detailed information about the vehicle. The different variables and the number of its unique values can be studied in the output of the above cell. We see, that we can differentiate the attributes as follows:\n",
    "- Linking Attributes (Accident Indexes link the vehicles to the accidents dataset and the vehicle references the casualties)\n",
    "- Categorical Attributes (Most of the columns are categorical)"
   ],
   "cell_type": "markdown",
   "metadata": {}
  },
  {
   "cell_type": "code",
   "execution_count": null,
   "metadata": {},
   "outputs": [],
   "source": [
    "### Casualties\n",
    "---"
   ]
  },
  {
   "cell_type": "code",
   "execution_count": null,
   "metadata": {},
   "outputs": [],
   "source": [
    "leeds_casualties.shape # prints out the number of columns and rows"
   ]
  },
  {
   "cell_type": "code",
   "execution_count": null,
   "metadata": {},
   "outputs": [],
   "source": [
    "leeds_casualties # prints out an overview of the dataframe (and the number of rows and columns)"
   ]
  },
  {
   "cell_type": "code",
   "execution_count": null,
   "metadata": {},
   "outputs": [],
   "source": [
    "leeds_casualties.nunique() # prints out the column names and the corresponding number of unique values "
   ]
  },
  {
   "source": [
    "We see, that the side dataset 'casualties_processed.csv' provides more detailed information about the casualties of all lethal accidents. It consist of 1908 columns (which leads to 1907 records on casualties) and has 16 columns providing more detailed information about the vehicle. The different variables and the number of its unique values can be studied in the output of the above cell. We see, that we can differentiate the attributes as follows:\n",
    "- Linking Attributes (Accident Indexes link the vehicles to the accidents dataset and the vehicle references the casualties)\n",
    "- Categorical Attributes (Most of the columns are categorical)"
   ],
   "cell_type": "markdown",
   "metadata": {}
  },
  {
   "source": [
    "## Export Processed Datasets\n",
    "--- \n",
    "Finally, we export the processed datasets into a new subfolder. From now on, all Jupyter Notebooks will work with those processed datasets."
   ],
   "cell_type": "markdown",
   "metadata": {}
  },
  {
   "cell_type": "code",
   "execution_count": 7,
   "metadata": {},
   "outputs": [],
   "source": [
    "leeds_accidents.to_csv('../data/processed/accidents_processed.csv', index=False)\n",
    "leeds_vehicles.to_csv('../data/processed/vehicles_processed.csv', index=False)\n",
    "leeds_casualties.to_csv('../data/processed/casualties_processed.csv', index=False)"
   ]
  }
 ]
}
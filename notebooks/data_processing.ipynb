{
 "metadata": {
  "language_info": {
   "codemirror_mode": {
    "name": "ipython",
    "version": 3
   },
   "file_extension": ".py",
   "mimetype": "text/x-python",
   "name": "python",
   "nbconvert_exporter": "python",
   "pygments_lexer": "ipython3",
   "version": "3.8.3-final"
  },
  "orig_nbformat": 2,
  "kernelspec": {
   "name": "python3",
   "display_name": "Python 3",
   "language": "python"
  }
 },
 "nbformat": 4,
 "nbformat_minor": 2,
 "cells": [
  {
   "source": [
    "# Data Processing\n",
    "---\n",
    "### First inspection of dataset, data filtering and cleaning\n",
    "\n",
    "Creation: 05.02.2021"
   ],
   "cell_type": "markdown",
   "metadata": {}
  },
  {
   "source": [
    "## Required Libraries\n",
    "---"
   ],
   "cell_type": "markdown",
   "metadata": {}
  },
  {
   "cell_type": "code",
   "execution_count": 1,
   "metadata": {},
   "outputs": [],
   "source": [
    "import numpy as np\n",
    "import pandas as pd"
   ]
  },
  {
   "source": [
    "## Loading in the Dataset\n",
    "---\n",
    "Starting of the data analysis, we import the given three datasets into a 'pandas' dataframe. "
   ],
   "cell_type": "markdown",
   "metadata": {}
  },
  {
   "cell_type": "code",
   "execution_count": 2,
   "metadata": {},
   "outputs": [],
   "source": [
    "# load in the dataset into a numpy array\n",
    "raw_data_accidents = pd.read_csv('../data/raw/accidents.csv') # 117.536 rows × 32 columns\n",
    "raw_data_vehicles = pd.read_csv('../data/raw/vehicles.csv') # 216.381 rows × 23 columns\n",
    "raw_data_casualties = pd.read_csv('../data/raw/casualties.csv') # 153158 rows × 16 columns"
   ]
  },
  {
   "source": [
    "## Filtering \n",
    "---\n",
    "Next, we filter the main dataset 'accidents.csv' for the city of interest 'Leeds', which can be identified by several variables in the dataset. We here chose the column 'Local Authority (District)', where 'Leeds' is identified as 204. The resulting, filtered dataframe is saved into a new variable."
   ],
   "cell_type": "markdown",
   "metadata": {}
  },
  {
   "cell_type": "code",
   "execution_count": 3,
   "metadata": {},
   "outputs": [],
   "source": [
    "leeds_accidents = raw_data_accidents[raw_data_accidents['Local_Authority_(District)'] == 204]"
   ]
  },
  {
   "source": [
    "However, the other two datasets cannont be identified by the variable attributes, but need to be filtered through the unique accident indexes that we can obtain from our filtered dataframe of accidents in 'Leeds'. We obtain a list of all accident indexes of the accidents that occured in Leeds and use this index list to filter both the 'vehicles.csv' and 'casualties.csv' datasets."
   ],
   "cell_type": "markdown",
   "metadata": {}
  },
  {
   "cell_type": "code",
   "execution_count": 4,
   "metadata": {
    "tags": []
   },
   "outputs": [],
   "source": [
    "leeds_indexes = list(leeds_accidents['Accident_Index'])"
   ]
  },
  {
   "cell_type": "code",
   "execution_count": 5,
   "metadata": {},
   "outputs": [],
   "source": [
    "leeds_vehicles = raw_data_vehicles[raw_data_vehicles['Accident_Index'].isin(leeds_indexes)]\n",
    "leeds_casualties = raw_data_casualties[raw_data_casualties['Accident_Index'].isin(leeds_indexes)]"
   ]
  },
  {
   "source": [
    "## Process Data\n",
    "---\n",
    "In this section, the 'Date' and 'Time' attributes in the 'accidents.csv' module will be cleaned for easy use in the single variable analysis."
   ],
   "cell_type": "markdown",
   "metadata": {}
  },
  {
   "source": [
    "### Time"
   ],
   "cell_type": "markdown",
   "metadata": {}
  },
  {
   "cell_type": "code",
   "execution_count": 6,
   "metadata": {},
   "outputs": [],
   "source": [
    "time = np.array(leeds_accidents['Time'])\n",
    "for i in range(len(time)):\n",
    "    try: \n",
    "        time[i] = time[i][:2]\n",
    "    except:\n",
    "        time[i] = '-1'\n",
    "\n",
    "leeds_accidents['Time'] = time"
   ]
  },
  {
   "source": [
    "### Date"
   ],
   "cell_type": "markdown",
   "metadata": {}
  },
  {
   "cell_type": "code",
   "execution_count": 47,
   "metadata": {},
   "outputs": [
    {
     "output_type": "stream",
     "name": "stdout",
     "text": [
      "(array(['01/01/2019', '01/02/2019', '01/03/2019', '01/05/2019',\n       '01/06/2019', '01/07/2019', '01/08/2019', '01/09/2019',\n       '01/10/2019', '01/11/2019', '01/12/2019', '02/01/2019',\n       '02/02/2019', '02/03/2019', '02/04/2019', '02/05/2019',\n       '02/07/2019', '02/08/2019', '02/09/2019', '02/10/2019',\n       '02/11/2019', '03/01/2019', '03/03/2019', '03/04/2019',\n       '03/05/2019', '03/07/2019', '03/09/2019', '03/10/2019',\n       '03/11/2019', '03/12/2019', '04/01/2019', '04/02/2019',\n       '04/03/2019', '04/04/2019', '04/05/2019', '04/06/2019',\n       '04/07/2019', '04/08/2019', '04/09/2019', '04/10/2019',\n       '04/11/2019', '04/12/2019', '05/02/2019', '05/03/2019',\n       '05/04/2019', '05/06/2019', '05/07/2019', '05/08/2019',\n       '05/09/2019', '05/10/2019', '05/11/2019', '05/12/2019',\n       '06/02/2019', '06/03/2019', '06/04/2019', '06/05/2019',\n       '06/06/2019', '06/07/2019', '06/08/2019', '06/09/2019',\n       '06/10/2019', '06/11/2019', '06/12/2019', '07/01/2019',\n       '07/02/2019', '07/03/2019', '07/04/2019', '07/05/2019',\n       '07/06/2019', '07/07/2019', '07/08/2019', '07/09/2019',\n       '07/10/2019', '07/11/2019', '07/12/2019', '08/01/2019',\n       '08/02/2019', '08/03/2019', '08/04/2019', '08/05/2019',\n       '08/06/2019', '08/07/2019', '08/08/2019', '08/09/2019',\n       '08/10/2019', '08/11/2019', '09/01/2019', '09/02/2019',\n       '09/03/2019', '09/04/2019', '09/05/2019', '09/06/2019',\n       '09/07/2019', '09/08/2019', '09/09/2019', '09/10/2019',\n       '09/11/2019', '09/12/2019', '10/01/2019', '10/02/2019',\n       '10/03/2019', '10/04/2019', '10/05/2019', '10/06/2019',\n       '10/07/2019', '10/08/2019', '10/09/2019', '10/10/2019',\n       '10/11/2019', '10/12/2019', '11/01/2019', '11/02/2019',\n       '11/03/2019', '11/04/2019', '11/05/2019', '11/06/2019',\n       '11/07/2019', '11/08/2019', '11/09/2019', '11/10/2019',\n       '11/11/2019', '11/12/2019', '12/01/2019', '12/02/2019',\n       '12/03/2019', '12/04/2019', '12/05/2019', '12/06/2019',\n       '12/07/2019', '12/08/2019', '12/09/2019', '12/10/2019',\n       '12/11/2019', '12/12/2019', '13/01/2019', '13/02/2019',\n       '13/03/2019', '13/04/2019', '13/05/2019', '13/06/2019',\n       '13/07/2019', '13/08/2019', '13/09/2019', '13/10/2019',\n       '13/11/2019', '13/12/2019', '14/01/2019', '14/02/2019',\n       '14/03/2019', '14/04/2019', '14/05/2019', '14/06/2019',\n       '14/07/2019', '14/08/2019', '14/09/2019', '14/10/2019',\n       '14/11/2019', '14/12/2019', '15/01/2019', '15/02/2019',\n       '15/03/2019', '15/04/2019', '15/05/2019', '15/06/2019',\n       '15/07/2019', '15/08/2019', '15/09/2019', '15/10/2019',\n       '15/11/2019', '15/12/2019', '16/01/2019', '16/02/2019',\n       '16/03/2019', '16/04/2019', '16/05/2019', '16/06/2019',\n       '16/07/2019', '16/08/2019', '16/09/2019', '16/10/2019',\n       '16/11/2019', '16/12/2019', '17/01/2019', '17/02/2019',\n       '17/03/2019', '17/04/2019', '17/05/2019', '17/06/2019',\n       '17/07/2019', '17/08/2019', '17/09/2019', '17/10/2019',\n       '17/11/2019', '17/12/2019', '18/01/2019', '18/02/2019',\n       '18/03/2019', '18/04/2019', '18/05/2019', '18/06/2019',\n       '18/07/2019', '18/08/2019', '18/09/2019', '18/10/2019',\n       '18/11/2019', '18/12/2019', '19/01/2019', '19/02/2019',\n       '19/03/2019', '19/04/2019', '19/05/2019', '19/06/2019',\n       '19/07/2019', '19/08/2019', '19/09/2019', '19/10/2019',\n       '19/11/2019', '19/12/2019', '20/02/2019', '20/03/2019',\n       '20/04/2019', '20/05/2019', '20/06/2019', '20/07/2019',\n       '20/08/2019', '20/09/2019', '20/10/2019', '20/11/2019',\n       '20/12/2019', '21/01/2019', '21/02/2019', '21/03/2019',\n       '21/04/2019', '21/05/2019', '21/06/2019', '21/07/2019',\n       '21/08/2019', '21/09/2019', '21/10/2019', '21/11/2019',\n       '21/12/2019', '22/01/2019', '22/02/2019', '22/03/2019',\n       '22/04/2019', '22/05/2019', '22/07/2019', '22/08/2019',\n       '22/09/2019', '22/10/2019', '22/11/2019', '22/12/2019',\n       '23/01/2019', '23/02/2019', '23/03/2019', '23/04/2019',\n       '23/05/2019', '23/06/2019', '23/07/2019', '23/08/2019',\n       '23/09/2019', '23/10/2019', '23/11/2019', '23/12/2019',\n       '24/01/2019', '24/02/2019', '24/03/2019', '24/04/2019',\n       '24/05/2019', '24/06/2019', '24/07/2019', '24/08/2019',\n       '24/09/2019', '24/10/2019', '24/11/2019', '24/12/2019',\n       '25/01/2019', '25/02/2019', '25/03/2019', '25/04/2019',\n       '25/05/2019', '25/06/2019', '25/07/2019', '25/08/2019',\n       '25/09/2019', '25/10/2019', '25/11/2019', '26/01/2019',\n       '26/02/2019', '26/03/2019', '26/04/2019', '26/05/2019',\n       '26/06/2019', '26/07/2019', '26/08/2019', '26/09/2019',\n       '26/10/2019', '26/11/2019', '27/01/2019', '27/02/2019',\n       '27/03/2019', '27/04/2019', '27/06/2019', '27/07/2019',\n       '27/08/2019', '27/09/2019', '27/10/2019', '27/11/2019',\n       '27/12/2019', '28/01/2019', '28/02/2019', '28/03/2019',\n       '28/04/2019', '28/05/2019', '28/06/2019', '28/07/2019',\n       '28/08/2019', '28/09/2019', '28/10/2019', '28/11/2019',\n       '29/01/2019', '29/03/2019', '29/04/2019', '29/05/2019',\n       '29/06/2019', '29/07/2019', '29/08/2019', '29/09/2019',\n       '29/10/2019', '29/11/2019', '29/12/2019', '30/01/2019',\n       '30/03/2019', '30/04/2019', '30/05/2019', '30/06/2019',\n       '30/07/2019', '30/08/2019', '30/09/2019', '30/11/2019',\n       '30/12/2019', '31/01/2019', '31/03/2019', '31/05/2019',\n       '31/07/2019', '31/08/2019', '31/10/2019', '31/12/2019'],\n      dtype=object), array([ 3,  4,  8,  5,  6,  7,  4,  1,  5,  5,  5,  2,  9,  6,  5,  2,  4,\n        1,  4,  7,  3,  3,  2,  3,  3,  3,  1,  4,  2,  9,  2,  9,  2,  2,\n        2,  4,  8,  2,  3,  6,  5,  9,  4,  7,  8,  1,  6,  4,  4,  1,  8,\n        6,  4,  7,  7,  4,  6,  3,  3,  1,  4,  3,  6,  5,  1,  4,  1,  1,\n        1,  5,  1,  5,  3, 10,  1,  5,  6,  6,  1,  5,  2,  1,  2,  2,  6,\n       14,  2,  3,  5,  3,  1,  3,  3,  4,  2,  3,  3,  6,  4,  2,  3,  5,\n        5,  5,  3,  4,  8,  4,  2,  5,  2,  7,  1,  2,  8,  7,  7,  4,  7,\n        6,  3,  5,  3,  3,  6,  6,  3,  4,  5,  4,  4,  4,  5,  4,  2,  4,\n        4,  4,  2,  2,  3,  3,  6,  4,  3,  2,  4,  4,  4,  2,  2,  3,  3,\n        1,  1,  2,  7,  2,  5,  6,  5,  8, 10,  3,  5,  6,  4,  2,  2,  5,\n        7,  1,  4,  3,  5,  3,  4,  4,  7,  7,  4,  2,  2,  4,  1,  5,  3,\n        2,  3,  2,  6, 11,  3,  5,  6,  3,  2,  3,  2,  5,  7,  4,  5,  5,\n        3,  5,  5,  3,  1,  5,  1,  5,  7,  4,  6,  6,  7,  2,  4,  7,  4,\n        2,  4,  3,  3,  8,  3, 11,  5,  6,  5,  4,  4,  3,  5,  3,  8, 10,\n        4,  7,  6,  7,  3,  4,  5,  4,  2,  4,  2,  2,  5,  4,  8,  7,  3,\n        4,  2,  1,  4,  9,  6,  2,  4,  3,  3,  2,  2,  3,  3,  7,  6,  4,\n        6,  5,  2,  4, 12,  3,  8,  4,  6,  6,  4,  6,  5,  7,  3,  2,  2,\n        2,  8,  7,  2,  4,  5,  1,  3,  7,  3,  5,  5,  1,  6,  4,  3,  5,\n        2,  5,  1,  7,  5,  4,  3,  1,  5,  2,  4,  3,  1,  4,  4,  5,  5,\n        1,  6,  2,  7,  4,  4,  7,  2,  5,  8,  3,  3,  2,  1,  2,  5,  3,\n        2,  2,  4,  1,  6,  3,  7,  2]))\n"
     ]
    }
   ],
   "source": [
    "date = np.array(leeds_accidents['Date'])"
   ]
  },
  {
   "source": [
    "## Export Processed Datasets\n",
    "--- \n",
    "Finally, we export the processed datasets into a new subfolder. From now on, all Jupyter Notebooks will work with those processed datasets."
   ],
   "cell_type": "markdown",
   "metadata": {}
  },
  {
   "cell_type": "code",
   "execution_count": 7,
   "metadata": {},
   "outputs": [],
   "source": [
    "leeds_accidents.to_csv('../data/processed/accidents_processed.csv', index=False)\n",
    "leeds_vehicles.to_csv('../data/processed/vehicles_processed.csv', index=False)\n",
    "leeds_casualties.to_csv('../data/processed/casualties_processed.csv', index=False)"
   ]
  }
 ]
}
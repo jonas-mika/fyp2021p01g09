{
 "cells": [
  {
   "cell_type": "markdown",
   "metadata": {},
   "source": [
    "# Data Processing\n",
    "---\n",
    "### First inspection of dataset, data filtering and cleaning\n",
    "\n",
    "Creation: 05.02.2021"
   ]
  },
  {
   "cell_type": "markdown",
   "metadata": {},
   "source": [
    "## Required Libraries\n",
    "---"
   ]
  },
  {
   "cell_type": "code",
   "execution_count": 1,
   "metadata": {},
   "outputs": [],
   "source": [
    "import numpy as np\n",
    "import pandas as pd"
   ]
  },
  {
   "cell_type": "markdown",
   "metadata": {},
   "source": [
    "## Loading in the Dataset\n",
    "---\n",
    "Starting of the data analysis, we import the given three datasets into a 'pandas' dataframe. "
   ]
  },
  {
   "cell_type": "code",
   "execution_count": 2,
   "metadata": {},
   "outputs": [],
   "source": [
    "# load in the dataset into a numpy array\n",
    "raw_data_accidents = pd.read_csv('../data/raw/accidents.csv') # 117.536 rows × 32 columns\n",
    "raw_data_vehicles = pd.read_csv('../data/raw/vehicles.csv') # 216.381 rows × 23 columns\n",
    "raw_data_casualties = pd.read_csv('../data/raw/casualties.csv') # 153158 rows × 16 columns"
   ]
  },
  {
   "source": [
    "## Initial Sanity Check\n",
    "---\n",
    "Before continuing with the data analysis, we want to make sure that the dataset is clean. We do this in a several ways. \n",
    "- (a) Are there multiple indexes in 'accidents.csv'\n",
    "- (b) We check if there are indexes in the sub datasets 'raw_data_vehicles' and 'raw_data_casualties' that are not in the central dataset 'raw_accidents.csv'\n",
    "- (c) We check the missing values in each column"
   ],
   "cell_type": "markdown",
   "metadata": {}
  },
  {
   "source": [
    "### Mulitple Indexes\n",
    "We are first evaluating if there are mulitple indexes in the big dataset 'accidents.csv'. This is a first, very basic metric to determine whether the data in the dataset has been inputted correctly. In this case it is even more important since the accident indexes link the main dataset 'accidents.csv' to the two sub datasets."
   ],
   "cell_type": "markdown",
   "metadata": {}
  },
  {
   "cell_type": "code",
   "execution_count": 52,
   "metadata": {},
   "outputs": [
    {
     "output_type": "execute_result",
     "data": {
      "text/plain": [
       "True"
      ]
     },
     "metadata": {},
     "execution_count": 52
    }
   ],
   "source": [
    "# here we check if there are mulitple indexes in the accidents dataset\n",
    "raw_data_accidents.shape[0] == len(set(raw_data_accidents['Accident_Index']))"
   ]
  },
  {
   "source": [
    "Perfect. There do not seem to be any multiple indexes. Each row in the dataset 'accidents.csv' seems to refer to a unique accident that we can reference in the two sub datasets."
   ],
   "cell_type": "markdown",
   "metadata": {}
  },
  {
   "source": [
    "### Wrong Indexes in Sub-Datasets\n",
    "It would be bad if there is information on vehicles and casualties in the two subsets that are referenced by an Accident ID that is not in the main dataset 'accidents.csv'. So we check for those using the below code."
   ],
   "cell_type": "markdown",
   "metadata": {}
  },
  {
   "cell_type": "code",
   "execution_count": 126,
   "metadata": {},
   "outputs": [
    {
     "output_type": "stream",
     "name": "stdout",
     "text": [
      "#Wrong Indexes: 21498\n#Wrong Indexes: 19325\n"
     ]
    }
   ],
   "source": [
    "def check_indexes_in_subset(sub_dataset):\n",
    "    wrong_indexes = [i for i in set(sub_dataset['Accident_Index']) if i not in raw_accidents_indexes]\n",
    "\n",
    "    if len(wrong_indexes) == 0:\n",
    "        return f\"Everything clean. No wrong indexes in the sub dataset\"\n",
    "    else:\n",
    "        return f\"#Wrong Indexes: {len(wrong_indexes)}\"\n",
    "\n",
    "print(check_indexes_in_subset(raw_data_vehicles))\n",
    "print(check_indexes_in_subset(raw_data_casualties))"
   ]
  },
  {
   "source": [
    "This is rather bad. Roughly 21.500 indexes in the 'vehicles.csv' raw dataset are linking to an accident that is not registered in the 'accidents.csv', 19.300 in the 'casualties.csv' are linking casualties to accidents that are not registered int the 'accidents.csv'. If a similar behavior can be observed in the dataset that is filtered for Leeds, we have to think about how to deal with those obvious wrong input of data. "
   ],
   "cell_type": "markdown",
   "metadata": {}
  },
  {
   "source": [
    "### Check for missing values\n",
    "Here we check in all columns of all datasets to see if there are missing values (empty string) to get a feeling on which columns we need to further do processing."
   ],
   "cell_type": "markdown",
   "metadata": {}
  },
  {
   "cell_type": "code",
   "execution_count": 103,
   "metadata": {},
   "outputs": [],
   "source": [
    "def check_column_for_missing_value(column):\n",
    "    return sum(column.isnull())"
   ]
  },
  {
   "cell_type": "code",
   "execution_count": 116,
   "metadata": {},
   "outputs": [],
   "source": [
    "def check_all_columns(data):\n",
    "    for column in range(data.shape[1]):\n",
    "        if check_column_for_missing_value(data.iloc[:,column]) != 0:\n",
    "            print(f'{check_column_for_missing_value(data.iloc[:,column])} ({data.columns[column]}({column}))')"
   ]
  },
  {
   "cell_type": "code",
   "execution_count": 117,
   "metadata": {},
   "outputs": [
    {
     "output_type": "stream",
     "name": "stdout",
     "text": [
      "28 (Location_Easting_OSGR(1))\n",
      "28 (Location_Northing_OSGR(2))\n",
      "28 (Longitude(3))\n",
      "28 (Latitude(4))\n",
      "63 (Time(11))\n",
      "5714 (LSOA_of_Accident_Location(31))\n"
     ]
    }
   ],
   "source": [
    "check_all_columns(raw_data_accidents)"
   ]
  },
  {
   "cell_type": "code",
   "execution_count": 118,
   "metadata": {},
   "outputs": [],
   "source": [
    "check_all_columns(raw_data_vehicles)"
   ]
  },
  {
   "cell_type": "code",
   "execution_count": 119,
   "metadata": {},
   "outputs": [],
   "source": [
    "check_all_columns(raw_data_vehicles)"
   ]
  },
  {
   "source": [
    "That's not bad! There are no missing values in both sub datasets. \n",
    "It seems like in the accidents dataset, there are 28 accidents that have no information on their location. This only gets important for our analysis if one of those accidents is located in Leeds, then we would need to deal with this issue later. The LSOA Metric - which is another measure of the accident location of the accident - hasn't been registered for 5714 accidents. This is not important for our analysis, since we will use the longitude and latitude to plot the accidents' location. \n",
    "There are, however, 63 accidents for which the time of accident is not registered. If any of those accidents are located in Leeds, we have to deal with them later."
   ],
   "cell_type": "markdown",
   "metadata": {}
  },
  {
   "cell_type": "markdown",
   "metadata": {},
   "source": [
    "## Filtering \n",
    "---\n",
    "Next, we filter the main dataset 'accidents.csv' for the city of interest 'Leeds', which can be identified by several variables in the dataset. We here chose the column 'Local Authority (District)', where 'Leeds' is identified as 204. The resulting, filtered dataframe is saved into a new variable."
   ]
  },
  {
   "cell_type": "code",
   "execution_count": 3,
   "metadata": {},
   "outputs": [],
   "source": [
    "leeds_accidents = raw_data_accidents[raw_data_accidents['Local_Authority_(District)'] == 204]"
   ]
  },
  {
   "cell_type": "markdown",
   "metadata": {},
   "source": [
    "However, the other two datasets cannont be identified by the variable attributes, but need to be filtered through the unique accident indexes that we can obtain from our filtered dataframe of accidents in 'Leeds'. We obtain a list of all accident indexes of the accidents that occured in Leeds and use this index list to filter both the 'vehicles.csv' and 'casualties.csv' datasets."
   ]
  },
  {
   "cell_type": "code",
   "execution_count": 4,
   "metadata": {
    "tags": []
   },
   "outputs": [],
   "source": [
    "leeds_indexes = list(leeds_accidents['Accident_Index'])"
   ]
  },
  {
   "cell_type": "code",
   "execution_count": 5,
   "metadata": {},
   "outputs": [],
   "source": [
    "leeds_vehicles = raw_data_vehicles[raw_data_vehicles['Accident_Index'].isin(leeds_indexes)]\n",
    "leeds_casualties = raw_data_casualties[raw_data_casualties['Accident_Index'].isin(leeds_indexes)]"
   ]
  },
  {
   "source": [
    "## Sanity Check for Leeds\n",
    "--- \n",
    "Now, that we filtered the dataset, we do the exact same snaity checks that we performed on the raw datasets."
   ],
   "cell_type": "markdown",
   "metadata": {}
  },
  {
   "source": [
    "### Mulitple Indexes"
   ],
   "cell_type": "markdown",
   "metadata": {}
  },
  {
   "cell_type": "code",
   "execution_count": 121,
   "metadata": {},
   "outputs": [
    {
     "output_type": "execute_result",
     "data": {
      "text/plain": [
       "True"
      ]
     },
     "metadata": {},
     "execution_count": 121
    }
   ],
   "source": [
    "leeds_accidents.shape[0] == len(set(leeds_accidents['Accident_Index']))"
   ]
  },
  {
   "source": [
    "### Wrong Indexes in Sub-Datasets"
   ],
   "cell_type": "markdown",
   "metadata": {}
  },
  {
   "cell_type": "code",
   "execution_count": 125,
   "metadata": {},
   "outputs": [
    {
     "output_type": "stream",
     "name": "stdout",
     "text": [
      "Everything clean. No wrong indexes in the sub dataset\nEverything clean. No wrong indexes in the sub dataset\n"
     ]
    }
   ],
   "source": [
    "def check_indexes_in_subset(sub_dataset):\n",
    "    wrong_indexes = [i for i in set(sub_dataset['Accident_Index']) if i not in raw_accidents_indexes]\n",
    "\n",
    "    if len(wrong_indexes) == 0:\n",
    "        return f\"Everything clean. No wrong indexes in the sub dataset\"\n",
    "    else:\n",
    "        return f\"#Wrong Indexes: {len(wrong_indexes)}\"\n",
    "\n",
    "print(check_indexes_in_subset(leeds_vehicles))\n",
    "print(check_indexes_in_subset(leeds_casualties))"
   ]
  },
  {
   "source": [
    "### Missing Values"
   ],
   "cell_type": "markdown",
   "metadata": {}
  },
  {
   "cell_type": "code",
   "execution_count": 127,
   "metadata": {},
   "outputs": [
    {
     "output_type": "stream",
     "name": "stdout",
     "text": [
      "None\nNone\nNone\n"
     ]
    }
   ],
   "source": [
    "print(check_all_columns(leeds_accidents))\n",
    "print(check_all_columns(leeds_vehicles))\n",
    "print(check_all_columns(leeds_casualties))"
   ]
  },
  {
   "source": [
    "Perfect. None of the sanity checks reports any problems on our dataset. At this point we could export the dataset and work on the filtered ones. However, we are making some adjustments in the below section to make our analysis easier."
   ],
   "cell_type": "markdown",
   "metadata": {}
  },
  {
   "cell_type": "markdown",
   "metadata": {},
   "source": [
    "## Process Data\n",
    "---\n",
    "In this section, the 'Date' and 'Time' attributes in the 'accidents.csv' module will be cleaned for easy use in the single variable analysis."
   ]
  },
  {
   "cell_type": "markdown",
   "metadata": {},
   "source": [
    "### Time"
   ]
  },
  {
   "cell_type": "code",
   "execution_count": 6,
   "metadata": {},
   "outputs": [],
   "source": [
    "time = np.array(leeds_accidents['Time'])\n",
    "for i in range(len(time)):\n",
    "    try: \n",
    "        time[i] = time[i][:2]\n",
    "    except:\n",
    "        time[i] = '-1'\n",
    "\n",
    "leeds_accidents['Time'] = time"
   ]
  },
  {
   "cell_type": "markdown",
   "metadata": {},
   "source": [
    "### Date"
   ]
  },
  {
   "cell_type": "code",
   "execution_count": 68,
   "metadata": {},
   "outputs": [],
   "source": [
    "date = np.array(leeds_accidents['Date'])"
   ]
  },
  {
   "cell_type": "markdown",
   "metadata": {},
   "source": [
    "## Overview \n",
    "---\n",
    "For each of the datasets, we want to get a first good impression of its size and the information it stores. To gain this information, we print out each of the datasets, and get a summary of each of the columns and the uniques."
   ]
  },
  {
   "cell_type": "markdown",
   "metadata": {},
   "source": [
    "### Accidents\n",
    "---"
   ]
  },
  {
   "cell_type": "code",
   "execution_count": 7,
   "metadata": {},
   "outputs": [
    {
     "output_type": "execute_result",
     "data": {
      "text/plain": [
       "(1451, 32)"
      ]
     },
     "metadata": {},
     "execution_count": 7
    }
   ],
   "source": [
    "leeds_accidents.shape # prints out the number of columns and rows"
   ]
  },
  {
   "cell_type": "code",
   "execution_count": 8,
   "metadata": {},
   "outputs": [
    {
     "output_type": "execute_result",
     "data": {
      "text/plain": [
       "      Accident_Index  Location_Easting_OSGR  Location_Northing_OSGR  \\\n",
       "41052  2019131901350               443576.0                438198.0   \n",
       "41053  20191358F1730               436147.0                434957.0   \n",
       "41055  2019136111190               435904.0                425850.0   \n",
       "41057  2019136111674               423194.0                438111.0   \n",
       "41058  2019136111836               429149.0                431736.0   \n",
       "...              ...                    ...                     ...   \n",
       "44657  2019136CT0238               430040.0                434040.0   \n",
       "44661  2019136CU0181               442094.0                434619.0   \n",
       "44662  2019136CU0363               423019.0                437653.0   \n",
       "44669  2019136CV0723               436853.0                442515.0   \n",
       "44670  2019136CV1518               421466.0                433999.0   \n",
       "\n",
       "       Longitude   Latitude  Police_Force  Accident_Severity  \\\n",
       "41052  -1.339288  53.838231            13                  2   \n",
       "41053  -1.452556  53.809670            13                  3   \n",
       "41055  -1.457300  53.727837            13                  3   \n",
       "41057  -1.649019  53.838752            13                  3   \n",
       "41058  -1.559127  53.781158            13                  2   \n",
       "...          ...        ...           ...                ...   \n",
       "44657  -1.545382  53.801815            13                  2   \n",
       "44661  -1.362295  53.806186            13                  3   \n",
       "44662  -1.651713  53.834643            13                  2   \n",
       "44669  -1.440932  53.877548            13                  2   \n",
       "44670  -1.675563  53.801868            13                  3   \n",
       "\n",
       "       Number_of_Vehicles  Number_of_Casualties        Date  ...  \\\n",
       "41052                   4                     1  27/09/2019  ...   \n",
       "41053                   2                     7  15/08/2019  ...   \n",
       "41055                   2                     1  01/01/2019  ...   \n",
       "41057                   1                     1  01/01/2019  ...   \n",
       "41058                   2                     1  01/01/2019  ...   \n",
       "...                   ...                   ...         ...  ...   \n",
       "44657                   1                     1  29/12/2019  ...   \n",
       "44661                   1                     1  30/12/2019  ...   \n",
       "44662                   1                     1  30/12/2019  ...   \n",
       "44669                   2                     1  31/12/2019  ...   \n",
       "44670                   3                     2  31/12/2019  ...   \n",
       "\n",
       "       Pedestrian_Crossing-Human_Control  \\\n",
       "41052                                  0   \n",
       "41053                                  0   \n",
       "41055                                  0   \n",
       "41057                                  0   \n",
       "41058                                  0   \n",
       "...                                  ...   \n",
       "44657                                  0   \n",
       "44661                                  0   \n",
       "44662                                  0   \n",
       "44669                                  0   \n",
       "44670                                  0   \n",
       "\n",
       "      Pedestrian_Crossing-Physical_Facilities  Light_Conditions  \\\n",
       "41052                                       0                 1   \n",
       "41053                                       0                 1   \n",
       "41055                                       0                 1   \n",
       "41057                                       0                 1   \n",
       "41058                                       0                 4   \n",
       "...                                       ...               ...   \n",
       "44657                                       0                 4   \n",
       "44661                                       0                 4   \n",
       "44662                                       0                 1   \n",
       "44669                                       0                 1   \n",
       "44670                                       0                 4   \n",
       "\n",
       "      Weather_Conditions  Road_Surface_Conditions  Special_Conditions_at_Site  \\\n",
       "41052                  2                        2                           0   \n",
       "41053                  1                        1                           0   \n",
       "41055                  1                        1                           0   \n",
       "41057                  1                        1                           0   \n",
       "41058                  1                        1                           0   \n",
       "...                  ...                      ...                         ...   \n",
       "44657                  1                        1                           0   \n",
       "44661                  4                        2                           0   \n",
       "44662                  1                        4                           7   \n",
       "44669                  1                        1                           0   \n",
       "44670                  1                        1                           0   \n",
       "\n",
       "       Carriageway_Hazards  Urban_or_Rural_Area  \\\n",
       "41052                    0                    2   \n",
       "41053                    0                    1   \n",
       "41055                    0                    2   \n",
       "41057                    0                    1   \n",
       "41058                    0                    1   \n",
       "...                    ...                  ...   \n",
       "44657                    0                    1   \n",
       "44661                    0                    2   \n",
       "44662                    0                    1   \n",
       "44669                    0                    2   \n",
       "44670                    0                    1   \n",
       "\n",
       "       Did_Police_Officer_Attend_Scene_of_Accident  LSOA_of_Accident_Location  \n",
       "41052                                            1                  E01011309  \n",
       "41053                                            2                  E01011666  \n",
       "41055                                            1                  E01011636  \n",
       "41057                                            1                  E01011461  \n",
       "41058                                            1                  E01011366  \n",
       "...                                            ...                        ...  \n",
       "44657                                            1                  E01033010  \n",
       "44661                                            1                  E01011297  \n",
       "44662                                            1                  E01011452  \n",
       "44669                                            1                  E01011713  \n",
       "44670                                            2                  E01011585  \n",
       "\n",
       "[1451 rows x 32 columns]"
      ],
      "text/html": "<div>\n<style scoped>\n    .dataframe tbody tr th:only-of-type {\n        vertical-align: middle;\n    }\n\n    .dataframe tbody tr th {\n        vertical-align: top;\n    }\n\n    .dataframe thead th {\n        text-align: right;\n    }\n</style>\n<table border=\"1\" class=\"dataframe\">\n  <thead>\n    <tr style=\"text-align: right;\">\n      <th></th>\n      <th>Accident_Index</th>\n      <th>Location_Easting_OSGR</th>\n      <th>Location_Northing_OSGR</th>\n      <th>Longitude</th>\n      <th>Latitude</th>\n      <th>Police_Force</th>\n      <th>Accident_Severity</th>\n      <th>Number_of_Vehicles</th>\n      <th>Number_of_Casualties</th>\n      <th>Date</th>\n      <th>...</th>\n      <th>Pedestrian_Crossing-Human_Control</th>\n      <th>Pedestrian_Crossing-Physical_Facilities</th>\n      <th>Light_Conditions</th>\n      <th>Weather_Conditions</th>\n      <th>Road_Surface_Conditions</th>\n      <th>Special_Conditions_at_Site</th>\n      <th>Carriageway_Hazards</th>\n      <th>Urban_or_Rural_Area</th>\n      <th>Did_Police_Officer_Attend_Scene_of_Accident</th>\n      <th>LSOA_of_Accident_Location</th>\n    </tr>\n  </thead>\n  <tbody>\n    <tr>\n      <th>41052</th>\n      <td>2019131901350</td>\n      <td>443576.0</td>\n      <td>438198.0</td>\n      <td>-1.339288</td>\n      <td>53.838231</td>\n      <td>13</td>\n      <td>2</td>\n      <td>4</td>\n      <td>1</td>\n      <td>27/09/2019</td>\n      <td>...</td>\n      <td>0</td>\n      <td>0</td>\n      <td>1</td>\n      <td>2</td>\n      <td>2</td>\n      <td>0</td>\n      <td>0</td>\n      <td>2</td>\n      <td>1</td>\n      <td>E01011309</td>\n    </tr>\n    <tr>\n      <th>41053</th>\n      <td>20191358F1730</td>\n      <td>436147.0</td>\n      <td>434957.0</td>\n      <td>-1.452556</td>\n      <td>53.809670</td>\n      <td>13</td>\n      <td>3</td>\n      <td>2</td>\n      <td>7</td>\n      <td>15/08/2019</td>\n      <td>...</td>\n      <td>0</td>\n      <td>0</td>\n      <td>1</td>\n      <td>1</td>\n      <td>1</td>\n      <td>0</td>\n      <td>0</td>\n      <td>1</td>\n      <td>2</td>\n      <td>E01011666</td>\n    </tr>\n    <tr>\n      <th>41055</th>\n      <td>2019136111190</td>\n      <td>435904.0</td>\n      <td>425850.0</td>\n      <td>-1.457300</td>\n      <td>53.727837</td>\n      <td>13</td>\n      <td>3</td>\n      <td>2</td>\n      <td>1</td>\n      <td>01/01/2019</td>\n      <td>...</td>\n      <td>0</td>\n      <td>0</td>\n      <td>1</td>\n      <td>1</td>\n      <td>1</td>\n      <td>0</td>\n      <td>0</td>\n      <td>2</td>\n      <td>1</td>\n      <td>E01011636</td>\n    </tr>\n    <tr>\n      <th>41057</th>\n      <td>2019136111674</td>\n      <td>423194.0</td>\n      <td>438111.0</td>\n      <td>-1.649019</td>\n      <td>53.838752</td>\n      <td>13</td>\n      <td>3</td>\n      <td>1</td>\n      <td>1</td>\n      <td>01/01/2019</td>\n      <td>...</td>\n      <td>0</td>\n      <td>0</td>\n      <td>1</td>\n      <td>1</td>\n      <td>1</td>\n      <td>0</td>\n      <td>0</td>\n      <td>1</td>\n      <td>1</td>\n      <td>E01011461</td>\n    </tr>\n    <tr>\n      <th>41058</th>\n      <td>2019136111836</td>\n      <td>429149.0</td>\n      <td>431736.0</td>\n      <td>-1.559127</td>\n      <td>53.781158</td>\n      <td>13</td>\n      <td>2</td>\n      <td>2</td>\n      <td>1</td>\n      <td>01/01/2019</td>\n      <td>...</td>\n      <td>0</td>\n      <td>0</td>\n      <td>4</td>\n      <td>1</td>\n      <td>1</td>\n      <td>0</td>\n      <td>0</td>\n      <td>1</td>\n      <td>1</td>\n      <td>E01011366</td>\n    </tr>\n    <tr>\n      <th>...</th>\n      <td>...</td>\n      <td>...</td>\n      <td>...</td>\n      <td>...</td>\n      <td>...</td>\n      <td>...</td>\n      <td>...</td>\n      <td>...</td>\n      <td>...</td>\n      <td>...</td>\n      <td>...</td>\n      <td>...</td>\n      <td>...</td>\n      <td>...</td>\n      <td>...</td>\n      <td>...</td>\n      <td>...</td>\n      <td>...</td>\n      <td>...</td>\n      <td>...</td>\n      <td>...</td>\n    </tr>\n    <tr>\n      <th>44657</th>\n      <td>2019136CT0238</td>\n      <td>430040.0</td>\n      <td>434040.0</td>\n      <td>-1.545382</td>\n      <td>53.801815</td>\n      <td>13</td>\n      <td>2</td>\n      <td>1</td>\n      <td>1</td>\n      <td>29/12/2019</td>\n      <td>...</td>\n      <td>0</td>\n      <td>0</td>\n      <td>4</td>\n      <td>1</td>\n      <td>1</td>\n      <td>0</td>\n      <td>0</td>\n      <td>1</td>\n      <td>1</td>\n      <td>E01033010</td>\n    </tr>\n    <tr>\n      <th>44661</th>\n      <td>2019136CU0181</td>\n      <td>442094.0</td>\n      <td>434619.0</td>\n      <td>-1.362295</td>\n      <td>53.806186</td>\n      <td>13</td>\n      <td>3</td>\n      <td>1</td>\n      <td>1</td>\n      <td>30/12/2019</td>\n      <td>...</td>\n      <td>0</td>\n      <td>0</td>\n      <td>4</td>\n      <td>4</td>\n      <td>2</td>\n      <td>0</td>\n      <td>0</td>\n      <td>2</td>\n      <td>1</td>\n      <td>E01011297</td>\n    </tr>\n    <tr>\n      <th>44662</th>\n      <td>2019136CU0363</td>\n      <td>423019.0</td>\n      <td>437653.0</td>\n      <td>-1.651713</td>\n      <td>53.834643</td>\n      <td>13</td>\n      <td>2</td>\n      <td>1</td>\n      <td>1</td>\n      <td>30/12/2019</td>\n      <td>...</td>\n      <td>0</td>\n      <td>0</td>\n      <td>1</td>\n      <td>1</td>\n      <td>4</td>\n      <td>7</td>\n      <td>0</td>\n      <td>1</td>\n      <td>1</td>\n      <td>E01011452</td>\n    </tr>\n    <tr>\n      <th>44669</th>\n      <td>2019136CV0723</td>\n      <td>436853.0</td>\n      <td>442515.0</td>\n      <td>-1.440932</td>\n      <td>53.877548</td>\n      <td>13</td>\n      <td>2</td>\n      <td>2</td>\n      <td>1</td>\n      <td>31/12/2019</td>\n      <td>...</td>\n      <td>0</td>\n      <td>0</td>\n      <td>1</td>\n      <td>1</td>\n      <td>1</td>\n      <td>0</td>\n      <td>0</td>\n      <td>2</td>\n      <td>1</td>\n      <td>E01011713</td>\n    </tr>\n    <tr>\n      <th>44670</th>\n      <td>2019136CV1518</td>\n      <td>421466.0</td>\n      <td>433999.0</td>\n      <td>-1.675563</td>\n      <td>53.801868</td>\n      <td>13</td>\n      <td>3</td>\n      <td>3</td>\n      <td>2</td>\n      <td>31/12/2019</td>\n      <td>...</td>\n      <td>0</td>\n      <td>0</td>\n      <td>4</td>\n      <td>1</td>\n      <td>1</td>\n      <td>0</td>\n      <td>0</td>\n      <td>1</td>\n      <td>2</td>\n      <td>E01011585</td>\n    </tr>\n  </tbody>\n</table>\n<p>1451 rows × 32 columns</p>\n</div>"
     },
     "metadata": {},
     "execution_count": 8
    }
   ],
   "source": [
    "leeds_accidents # prints out an overview of the dataframe (and the number of rows and columns)"
   ]
  },
  {
   "cell_type": "code",
   "execution_count": 10,
   "metadata": {},
   "outputs": [
    {
     "output_type": "execute_result",
     "data": {
      "text/plain": [
       "Accident_Index                                 1451\n",
       "Location_Easting_OSGR                          1353\n",
       "Location_Northing_OSGR                         1319\n",
       "Longitude                                      1407\n",
       "Latitude                                       1404\n",
       "Police_Force                                      1\n",
       "Accident_Severity                                 3\n",
       "Number_of_Vehicles                                6\n",
       "Number_of_Casualties                              9\n",
       "Date                                            348\n",
       "Day_of_Week                                       7\n",
       "Time                                             25\n",
       "Local_Authority_(District)                        1\n",
       "Local_Authority_(Highway)                         1\n",
       "1st_Road_Class                                    6\n",
       "1st_Road_Number                                  38\n",
       "Road_Type                                         6\n",
       "Speed_limit                                       6\n",
       "Junction_Detail                                   9\n",
       "Junction_Control                                  5\n",
       "2nd_Road_Class                                    7\n",
       "2nd_Road_Number                                  32\n",
       "Pedestrian_Crossing-Human_Control                 3\n",
       "Pedestrian_Crossing-Physical_Facilities           5\n",
       "Light_Conditions                                  5\n",
       "Weather_Conditions                                8\n",
       "Road_Surface_Conditions                           5\n",
       "Special_Conditions_at_Site                        5\n",
       "Carriageway_Hazards                               6\n",
       "Urban_or_Rural_Area                               2\n",
       "Did_Police_Officer_Attend_Scene_of_Accident       2\n",
       "LSOA_of_Accident_Location                       379\n",
       "dtype: int64"
      ]
     },
     "metadata": {},
     "execution_count": 10
    }
   ],
   "source": [
    "leeds_accidents.nunique() # prints out the column names and the corresponding number of unique values "
   ]
  },
  {
   "cell_type": "markdown",
   "metadata": {},
   "source": [
    "We see, that the main dataset 'accidents_processed.csv' stores all recorded accidents in 2019 in Leeds. It consist of 1451 columns (which leads to 1450 recorded accidents) and has 32 columns providing more detailed information about the accident. The different variables and the number of its unique values can be studied in the output of the above cell. We see, that we can differentiate the attributes as follows:\n",
    "- Categorical Attributes (Most of the columns are categorical)\n",
    "- Geographical Attributes (There are several measures of the location of the accident)\n",
    "- Time Attribute (Each accident specifies a date and time)"
   ]
  },
  {
   "cell_type": "markdown",
   "metadata": {},
   "source": [
    "### Vehicles\n",
    "---"
   ]
  },
  {
   "cell_type": "code",
   "execution_count": 11,
   "metadata": {},
   "outputs": [
    {
     "output_type": "execute_result",
     "data": {
      "text/plain": [
       "(2688, 23)"
      ]
     },
     "metadata": {},
     "execution_count": 11
    }
   ],
   "source": [
    "leeds_vehicles.shape # prints out the number of columns and rows"
   ]
  },
  {
   "cell_type": "code",
   "execution_count": 12,
   "metadata": {},
   "outputs": [
    {
     "output_type": "execute_result",
     "data": {
      "text/plain": [
       "      Accident_Index  Vehicle_Reference  Vehicle_Type  \\\n",
       "74565  2019131901350                  1            21   \n",
       "74566  2019131901350                  2            21   \n",
       "74567  2019131901350                  3            21   \n",
       "74568  2019131901350                  4            21   \n",
       "74569  20191358F1730                  1             9   \n",
       "...              ...                ...           ...   \n",
       "81157  2019136CV0723                  1             9   \n",
       "81158  2019136CV0723                  2             1   \n",
       "81159  2019136CV1518                  1             9   \n",
       "81160  2019136CV1518                  2             9   \n",
       "81161  2019136CV1518                  3             9   \n",
       "\n",
       "       Towing_and_Articulation  Vehicle_Manoeuvre  \\\n",
       "74565                        1                 11   \n",
       "74566                        0                  4   \n",
       "74567                        1                  4   \n",
       "74568                        1                  4   \n",
       "74569                        0                 18   \n",
       "...                        ...                ...   \n",
       "81157                        0                 18   \n",
       "81158                        0                 18   \n",
       "81159                        0                  4   \n",
       "81160                        0                  4   \n",
       "81161                        0                  4   \n",
       "\n",
       "       Vehicle_Location-Restricted_Lane  Junction_Location  \\\n",
       "74565                                 0                  0   \n",
       "74566                                 0                  0   \n",
       "74567                                 0                  0   \n",
       "74568                                 0                  0   \n",
       "74569                                 0                  0   \n",
       "...                                 ...                ...   \n",
       "81157                                 0                  0   \n",
       "81158                                 0                  0   \n",
       "81159                                 0                  0   \n",
       "81160                                 0                  0   \n",
       "81161                                 0                  0   \n",
       "\n",
       "       Skidding_and_Overturning  Hit_Object_in_Carriageway  \\\n",
       "74565                         0                          0   \n",
       "74566                         0                          0   \n",
       "74567                         0                          0   \n",
       "74568                         0                          0   \n",
       "74569                         0                          0   \n",
       "...                         ...                        ...   \n",
       "81157                         0                          0   \n",
       "81158                         0                          0   \n",
       "81159                         0                          0   \n",
       "81160                         0                          0   \n",
       "81161                         0                          0   \n",
       "\n",
       "       Vehicle_Leaving_Carriageway  ...  Journey_Purpose_of_Driver  \\\n",
       "74565                            0  ...                          1   \n",
       "74566                            0  ...                          1   \n",
       "74567                            0  ...                          1   \n",
       "74568                            0  ...                          1   \n",
       "74569                            0  ...                          6   \n",
       "...                            ...  ...                        ...   \n",
       "81157                            0  ...                          6   \n",
       "81158                            0  ...                          6   \n",
       "81159                            0  ...                          6   \n",
       "81160                            0  ...                          6   \n",
       "81161                            0  ...                          6   \n",
       "\n",
       "       Sex_of_Driver  Age_of_Driver  Age_Band_of_Driver  Engine_Capacity_(CC)  \\\n",
       "74565              1             39                   7                 12419   \n",
       "74566              1             56                   9                  6374   \n",
       "74567              1             40                   7                 10837   \n",
       "74568              1             35                   6                    -1   \n",
       "74569              3             -1                  -1                    -1   \n",
       "...              ...            ...                 ...                   ...   \n",
       "81157              1             72                  10                  1968   \n",
       "81158              1             59                   9                    -1   \n",
       "81159              3             -1                  -1                  1598   \n",
       "81160              1             41                   7                  2183   \n",
       "81161              2             31                   6                  1197   \n",
       "\n",
       "       Propulsion_Code  Age_of_Vehicle  Driver_IMD_Decile  \\\n",
       "74565                2               3                  1   \n",
       "74566                2               5                  2   \n",
       "74567                2               2                  4   \n",
       "74568               -1              -1                 -1   \n",
       "74569               -1              -1                 -1   \n",
       "...                ...             ...                ...   \n",
       "81157                2               4                 10   \n",
       "81158               -1              -1                 10   \n",
       "81159                2               7                  7   \n",
       "81160                2               7                  3   \n",
       "81161                1               8                  4   \n",
       "\n",
       "       Driver_Home_Area_Type  Vehicle_IMD_Decile  \n",
       "74565                      1                   1  \n",
       "74566                      1                   2  \n",
       "74567                      1                   4  \n",
       "74568                     -1                  -1  \n",
       "74569                     -1                  -1  \n",
       "...                      ...                 ...  \n",
       "81157                      1                  10  \n",
       "81158                      1                  10  \n",
       "81159                      1                   7  \n",
       "81160                      1                   3  \n",
       "81161                      1                   4  \n",
       "\n",
       "[2688 rows x 23 columns]"
      ],
      "text/html": "<div>\n<style scoped>\n    .dataframe tbody tr th:only-of-type {\n        vertical-align: middle;\n    }\n\n    .dataframe tbody tr th {\n        vertical-align: top;\n    }\n\n    .dataframe thead th {\n        text-align: right;\n    }\n</style>\n<table border=\"1\" class=\"dataframe\">\n  <thead>\n    <tr style=\"text-align: right;\">\n      <th></th>\n      <th>Accident_Index</th>\n      <th>Vehicle_Reference</th>\n      <th>Vehicle_Type</th>\n      <th>Towing_and_Articulation</th>\n      <th>Vehicle_Manoeuvre</th>\n      <th>Vehicle_Location-Restricted_Lane</th>\n      <th>Junction_Location</th>\n      <th>Skidding_and_Overturning</th>\n      <th>Hit_Object_in_Carriageway</th>\n      <th>Vehicle_Leaving_Carriageway</th>\n      <th>...</th>\n      <th>Journey_Purpose_of_Driver</th>\n      <th>Sex_of_Driver</th>\n      <th>Age_of_Driver</th>\n      <th>Age_Band_of_Driver</th>\n      <th>Engine_Capacity_(CC)</th>\n      <th>Propulsion_Code</th>\n      <th>Age_of_Vehicle</th>\n      <th>Driver_IMD_Decile</th>\n      <th>Driver_Home_Area_Type</th>\n      <th>Vehicle_IMD_Decile</th>\n    </tr>\n  </thead>\n  <tbody>\n    <tr>\n      <th>74565</th>\n      <td>2019131901350</td>\n      <td>1</td>\n      <td>21</td>\n      <td>1</td>\n      <td>11</td>\n      <td>0</td>\n      <td>0</td>\n      <td>0</td>\n      <td>0</td>\n      <td>0</td>\n      <td>...</td>\n      <td>1</td>\n      <td>1</td>\n      <td>39</td>\n      <td>7</td>\n      <td>12419</td>\n      <td>2</td>\n      <td>3</td>\n      <td>1</td>\n      <td>1</td>\n      <td>1</td>\n    </tr>\n    <tr>\n      <th>74566</th>\n      <td>2019131901350</td>\n      <td>2</td>\n      <td>21</td>\n      <td>0</td>\n      <td>4</td>\n      <td>0</td>\n      <td>0</td>\n      <td>0</td>\n      <td>0</td>\n      <td>0</td>\n      <td>...</td>\n      <td>1</td>\n      <td>1</td>\n      <td>56</td>\n      <td>9</td>\n      <td>6374</td>\n      <td>2</td>\n      <td>5</td>\n      <td>2</td>\n      <td>1</td>\n      <td>2</td>\n    </tr>\n    <tr>\n      <th>74567</th>\n      <td>2019131901350</td>\n      <td>3</td>\n      <td>21</td>\n      <td>1</td>\n      <td>4</td>\n      <td>0</td>\n      <td>0</td>\n      <td>0</td>\n      <td>0</td>\n      <td>0</td>\n      <td>...</td>\n      <td>1</td>\n      <td>1</td>\n      <td>40</td>\n      <td>7</td>\n      <td>10837</td>\n      <td>2</td>\n      <td>2</td>\n      <td>4</td>\n      <td>1</td>\n      <td>4</td>\n    </tr>\n    <tr>\n      <th>74568</th>\n      <td>2019131901350</td>\n      <td>4</td>\n      <td>21</td>\n      <td>1</td>\n      <td>4</td>\n      <td>0</td>\n      <td>0</td>\n      <td>0</td>\n      <td>0</td>\n      <td>0</td>\n      <td>...</td>\n      <td>1</td>\n      <td>1</td>\n      <td>35</td>\n      <td>6</td>\n      <td>-1</td>\n      <td>-1</td>\n      <td>-1</td>\n      <td>-1</td>\n      <td>-1</td>\n      <td>-1</td>\n    </tr>\n    <tr>\n      <th>74569</th>\n      <td>20191358F1730</td>\n      <td>1</td>\n      <td>9</td>\n      <td>0</td>\n      <td>18</td>\n      <td>0</td>\n      <td>0</td>\n      <td>0</td>\n      <td>0</td>\n      <td>0</td>\n      <td>...</td>\n      <td>6</td>\n      <td>3</td>\n      <td>-1</td>\n      <td>-1</td>\n      <td>-1</td>\n      <td>-1</td>\n      <td>-1</td>\n      <td>-1</td>\n      <td>-1</td>\n      <td>-1</td>\n    </tr>\n    <tr>\n      <th>...</th>\n      <td>...</td>\n      <td>...</td>\n      <td>...</td>\n      <td>...</td>\n      <td>...</td>\n      <td>...</td>\n      <td>...</td>\n      <td>...</td>\n      <td>...</td>\n      <td>...</td>\n      <td>...</td>\n      <td>...</td>\n      <td>...</td>\n      <td>...</td>\n      <td>...</td>\n      <td>...</td>\n      <td>...</td>\n      <td>...</td>\n      <td>...</td>\n      <td>...</td>\n      <td>...</td>\n    </tr>\n    <tr>\n      <th>81157</th>\n      <td>2019136CV0723</td>\n      <td>1</td>\n      <td>9</td>\n      <td>0</td>\n      <td>18</td>\n      <td>0</td>\n      <td>0</td>\n      <td>0</td>\n      <td>0</td>\n      <td>0</td>\n      <td>...</td>\n      <td>6</td>\n      <td>1</td>\n      <td>72</td>\n      <td>10</td>\n      <td>1968</td>\n      <td>2</td>\n      <td>4</td>\n      <td>10</td>\n      <td>1</td>\n      <td>10</td>\n    </tr>\n    <tr>\n      <th>81158</th>\n      <td>2019136CV0723</td>\n      <td>2</td>\n      <td>1</td>\n      <td>0</td>\n      <td>18</td>\n      <td>0</td>\n      <td>0</td>\n      <td>0</td>\n      <td>0</td>\n      <td>0</td>\n      <td>...</td>\n      <td>6</td>\n      <td>1</td>\n      <td>59</td>\n      <td>9</td>\n      <td>-1</td>\n      <td>-1</td>\n      <td>-1</td>\n      <td>10</td>\n      <td>1</td>\n      <td>10</td>\n    </tr>\n    <tr>\n      <th>81159</th>\n      <td>2019136CV1518</td>\n      <td>1</td>\n      <td>9</td>\n      <td>0</td>\n      <td>4</td>\n      <td>0</td>\n      <td>0</td>\n      <td>0</td>\n      <td>0</td>\n      <td>0</td>\n      <td>...</td>\n      <td>6</td>\n      <td>3</td>\n      <td>-1</td>\n      <td>-1</td>\n      <td>1598</td>\n      <td>2</td>\n      <td>7</td>\n      <td>7</td>\n      <td>1</td>\n      <td>7</td>\n    </tr>\n    <tr>\n      <th>81160</th>\n      <td>2019136CV1518</td>\n      <td>2</td>\n      <td>9</td>\n      <td>0</td>\n      <td>4</td>\n      <td>0</td>\n      <td>0</td>\n      <td>0</td>\n      <td>0</td>\n      <td>0</td>\n      <td>...</td>\n      <td>6</td>\n      <td>1</td>\n      <td>41</td>\n      <td>7</td>\n      <td>2183</td>\n      <td>2</td>\n      <td>7</td>\n      <td>3</td>\n      <td>1</td>\n      <td>3</td>\n    </tr>\n    <tr>\n      <th>81161</th>\n      <td>2019136CV1518</td>\n      <td>3</td>\n      <td>9</td>\n      <td>0</td>\n      <td>4</td>\n      <td>0</td>\n      <td>0</td>\n      <td>0</td>\n      <td>0</td>\n      <td>0</td>\n      <td>...</td>\n      <td>6</td>\n      <td>2</td>\n      <td>31</td>\n      <td>6</td>\n      <td>1197</td>\n      <td>1</td>\n      <td>8</td>\n      <td>4</td>\n      <td>1</td>\n      <td>4</td>\n    </tr>\n  </tbody>\n</table>\n<p>2688 rows × 23 columns</p>\n</div>"
     },
     "metadata": {},
     "execution_count": 12
    }
   ],
   "source": [
    "leeds_vehicles # prints out an overview of the dataframe (and the number of rows and columns)"
   ]
  },
  {
   "cell_type": "code",
   "execution_count": 13,
   "metadata": {},
   "outputs": [
    {
     "output_type": "execute_result",
     "data": {
      "text/plain": [
       "Accident_Index                      1451\n",
       "Vehicle_Reference                      6\n",
       "Vehicle_Type                          17\n",
       "Towing_and_Articulation                5\n",
       "Vehicle_Manoeuvre                     18\n",
       "Vehicle_Location-Restricted_Lane       7\n",
       "Junction_Location                      9\n",
       "Skidding_and_Overturning               5\n",
       "Hit_Object_in_Carriageway              9\n",
       "Vehicle_Leaving_Carriageway            9\n",
       "Hit_Object_off_Carriageway            11\n",
       "1st_Point_of_Impact                    5\n",
       "Was_Vehicle_Left_Hand_Drive?           2\n",
       "Journey_Purpose_of_Driver              5\n",
       "Sex_of_Driver                          3\n",
       "Age_of_Driver                         84\n",
       "Age_Band_of_Driver                    11\n",
       "Engine_Capacity_(CC)                 229\n",
       "Propulsion_Code                        6\n",
       "Age_of_Vehicle                        30\n",
       "Driver_IMD_Decile                     11\n",
       "Driver_Home_Area_Type                  4\n",
       "Vehicle_IMD_Decile                    11\n",
       "dtype: int64"
      ]
     },
     "metadata": {},
     "execution_count": 13
    }
   ],
   "source": [
    "leeds_vehicles.nunique() # prints out the column names and the corresponding number of unique values "
   ]
  },
  {
   "cell_type": "markdown",
   "metadata": {},
   "source": [
    "We see, that the side dataset 'vehicles_processed.csv' provides more detailed information about all vehicles involved in each of the accidents. It consist of 2688 columns (which leads to 2688 records on involved vehicles) and has 23 columns providing more detailed information about the vehicle. The different variables and the number of its unique values can be studied in the output of the above cell. We see, that we can differentiate the attributes as follows:\n",
    "- Linking Attributes (Accident Indexes link the vehicles to the accidents dataset and the vehicle references the casualties)\n",
    "- Categorical Attributes (Most of the columns are categorical)"
   ]
  },
  {
   "cell_type": "markdown",
   "metadata": {},
   "source": [
    "### Casualties\n",
    "---"
   ]
  },
  {
   "cell_type": "code",
   "execution_count": 14,
   "metadata": {},
   "outputs": [
    {
     "output_type": "execute_result",
     "data": {
      "text/plain": [
       "(1908, 16)"
      ]
     },
     "metadata": {},
     "execution_count": 14
    }
   ],
   "source": [
    "leeds_casualties.shape # prints out the number of columns and rows"
   ]
  },
  {
   "cell_type": "code",
   "execution_count": 15,
   "metadata": {},
   "outputs": [
    {
     "output_type": "execute_result",
     "data": {
      "text/plain": [
       "      Accident_Index  Vehicle_Reference  Casualty_Reference  Casualty_Class  \\\n",
       "51140  2019131901350                  1                   1               1   \n",
       "51141  20191358F1730                  2                   1               2   \n",
       "51142  20191358F1730                  2                   2               2   \n",
       "51143  20191358F1730                  2                   3               2   \n",
       "51144  20191358F1730                  2                   4               2   \n",
       "...              ...                ...                 ...             ...   \n",
       "55919  2019136CU0181                  1                   1               1   \n",
       "55920  2019136CU0363                  1                   1               1   \n",
       "55929  2019136CV0723                  2                   1               1   \n",
       "55930  2019136CV1518                  2                   1               1   \n",
       "55931  2019136CV1518                  2                   2               2   \n",
       "\n",
       "       Sex_of_Casualty  Age_of_Casualty  Age_Band_of_Casualty  \\\n",
       "51140                1               39                     7   \n",
       "51141                2                6                     2   \n",
       "51142                1                9                     2   \n",
       "51143                2               39                     7   \n",
       "51144                1                5                     1   \n",
       "...                ...              ...                   ...   \n",
       "55919                1               27                     6   \n",
       "55920                1               36                     7   \n",
       "55929                1               59                     9   \n",
       "55930                1               41                     7   \n",
       "55931                1               26                     6   \n",
       "\n",
       "       Casualty_Severity  Pedestrian_Location  Pedestrian_Movement  \\\n",
       "51140                  2                    0                    0   \n",
       "51141                  3                    0                    0   \n",
       "51142                  3                    0                    0   \n",
       "51143                  3                    0                    0   \n",
       "51144                  3                    0                    0   \n",
       "...                  ...                  ...                  ...   \n",
       "55919                  3                    0                    0   \n",
       "55920                  2                    0                    0   \n",
       "55929                  2                    0                    0   \n",
       "55930                  3                    0                    0   \n",
       "55931                  3                    0                    0   \n",
       "\n",
       "       Car_Passenger  Bus_or_Coach_Passenger  \\\n",
       "51140              0                       0   \n",
       "51141              0                       4   \n",
       "51142              0                       4   \n",
       "51143              0                       4   \n",
       "51144              0                       4   \n",
       "...              ...                     ...   \n",
       "55919              0                       0   \n",
       "55920              0                       0   \n",
       "55929              0                       0   \n",
       "55930              0                       0   \n",
       "55931              1                       0   \n",
       "\n",
       "       Pedestrian_Road_Maintenance_Worker  Casualty_Type  \\\n",
       "51140                                   0             21   \n",
       "51141                                   0             11   \n",
       "51142                                   0             11   \n",
       "51143                                   0             11   \n",
       "51144                                   0             11   \n",
       "...                                   ...            ...   \n",
       "55919                                   0              9   \n",
       "55920                                   0              5   \n",
       "55929                                   0              1   \n",
       "55930                                   0              9   \n",
       "55931                                   0              9   \n",
       "\n",
       "       Casualty_Home_Area_Type  Casualty_IMD_Decile  \n",
       "51140                        1                    1  \n",
       "51141                        1                    1  \n",
       "51142                        1                    1  \n",
       "51143                        1                    2  \n",
       "51144                        1                    2  \n",
       "...                        ...                  ...  \n",
       "55919                        2                    9  \n",
       "55920                        1                    3  \n",
       "55929                        1                   10  \n",
       "55930                        1                    3  \n",
       "55931                        1                    3  \n",
       "\n",
       "[1908 rows x 16 columns]"
      ],
      "text/html": "<div>\n<style scoped>\n    .dataframe tbody tr th:only-of-type {\n        vertical-align: middle;\n    }\n\n    .dataframe tbody tr th {\n        vertical-align: top;\n    }\n\n    .dataframe thead th {\n        text-align: right;\n    }\n</style>\n<table border=\"1\" class=\"dataframe\">\n  <thead>\n    <tr style=\"text-align: right;\">\n      <th></th>\n      <th>Accident_Index</th>\n      <th>Vehicle_Reference</th>\n      <th>Casualty_Reference</th>\n      <th>Casualty_Class</th>\n      <th>Sex_of_Casualty</th>\n      <th>Age_of_Casualty</th>\n      <th>Age_Band_of_Casualty</th>\n      <th>Casualty_Severity</th>\n      <th>Pedestrian_Location</th>\n      <th>Pedestrian_Movement</th>\n      <th>Car_Passenger</th>\n      <th>Bus_or_Coach_Passenger</th>\n      <th>Pedestrian_Road_Maintenance_Worker</th>\n      <th>Casualty_Type</th>\n      <th>Casualty_Home_Area_Type</th>\n      <th>Casualty_IMD_Decile</th>\n    </tr>\n  </thead>\n  <tbody>\n    <tr>\n      <th>51140</th>\n      <td>2019131901350</td>\n      <td>1</td>\n      <td>1</td>\n      <td>1</td>\n      <td>1</td>\n      <td>39</td>\n      <td>7</td>\n      <td>2</td>\n      <td>0</td>\n      <td>0</td>\n      <td>0</td>\n      <td>0</td>\n      <td>0</td>\n      <td>21</td>\n      <td>1</td>\n      <td>1</td>\n    </tr>\n    <tr>\n      <th>51141</th>\n      <td>20191358F1730</td>\n      <td>2</td>\n      <td>1</td>\n      <td>2</td>\n      <td>2</td>\n      <td>6</td>\n      <td>2</td>\n      <td>3</td>\n      <td>0</td>\n      <td>0</td>\n      <td>0</td>\n      <td>4</td>\n      <td>0</td>\n      <td>11</td>\n      <td>1</td>\n      <td>1</td>\n    </tr>\n    <tr>\n      <th>51142</th>\n      <td>20191358F1730</td>\n      <td>2</td>\n      <td>2</td>\n      <td>2</td>\n      <td>1</td>\n      <td>9</td>\n      <td>2</td>\n      <td>3</td>\n      <td>0</td>\n      <td>0</td>\n      <td>0</td>\n      <td>4</td>\n      <td>0</td>\n      <td>11</td>\n      <td>1</td>\n      <td>1</td>\n    </tr>\n    <tr>\n      <th>51143</th>\n      <td>20191358F1730</td>\n      <td>2</td>\n      <td>3</td>\n      <td>2</td>\n      <td>2</td>\n      <td>39</td>\n      <td>7</td>\n      <td>3</td>\n      <td>0</td>\n      <td>0</td>\n      <td>0</td>\n      <td>4</td>\n      <td>0</td>\n      <td>11</td>\n      <td>1</td>\n      <td>2</td>\n    </tr>\n    <tr>\n      <th>51144</th>\n      <td>20191358F1730</td>\n      <td>2</td>\n      <td>4</td>\n      <td>2</td>\n      <td>1</td>\n      <td>5</td>\n      <td>1</td>\n      <td>3</td>\n      <td>0</td>\n      <td>0</td>\n      <td>0</td>\n      <td>4</td>\n      <td>0</td>\n      <td>11</td>\n      <td>1</td>\n      <td>2</td>\n    </tr>\n    <tr>\n      <th>...</th>\n      <td>...</td>\n      <td>...</td>\n      <td>...</td>\n      <td>...</td>\n      <td>...</td>\n      <td>...</td>\n      <td>...</td>\n      <td>...</td>\n      <td>...</td>\n      <td>...</td>\n      <td>...</td>\n      <td>...</td>\n      <td>...</td>\n      <td>...</td>\n      <td>...</td>\n      <td>...</td>\n    </tr>\n    <tr>\n      <th>55919</th>\n      <td>2019136CU0181</td>\n      <td>1</td>\n      <td>1</td>\n      <td>1</td>\n      <td>1</td>\n      <td>27</td>\n      <td>6</td>\n      <td>3</td>\n      <td>0</td>\n      <td>0</td>\n      <td>0</td>\n      <td>0</td>\n      <td>0</td>\n      <td>9</td>\n      <td>2</td>\n      <td>9</td>\n    </tr>\n    <tr>\n      <th>55920</th>\n      <td>2019136CU0363</td>\n      <td>1</td>\n      <td>1</td>\n      <td>1</td>\n      <td>1</td>\n      <td>36</td>\n      <td>7</td>\n      <td>2</td>\n      <td>0</td>\n      <td>0</td>\n      <td>0</td>\n      <td>0</td>\n      <td>0</td>\n      <td>5</td>\n      <td>1</td>\n      <td>3</td>\n    </tr>\n    <tr>\n      <th>55929</th>\n      <td>2019136CV0723</td>\n      <td>2</td>\n      <td>1</td>\n      <td>1</td>\n      <td>1</td>\n      <td>59</td>\n      <td>9</td>\n      <td>2</td>\n      <td>0</td>\n      <td>0</td>\n      <td>0</td>\n      <td>0</td>\n      <td>0</td>\n      <td>1</td>\n      <td>1</td>\n      <td>10</td>\n    </tr>\n    <tr>\n      <th>55930</th>\n      <td>2019136CV1518</td>\n      <td>2</td>\n      <td>1</td>\n      <td>1</td>\n      <td>1</td>\n      <td>41</td>\n      <td>7</td>\n      <td>3</td>\n      <td>0</td>\n      <td>0</td>\n      <td>0</td>\n      <td>0</td>\n      <td>0</td>\n      <td>9</td>\n      <td>1</td>\n      <td>3</td>\n    </tr>\n    <tr>\n      <th>55931</th>\n      <td>2019136CV1518</td>\n      <td>2</td>\n      <td>2</td>\n      <td>2</td>\n      <td>1</td>\n      <td>26</td>\n      <td>6</td>\n      <td>3</td>\n      <td>0</td>\n      <td>0</td>\n      <td>1</td>\n      <td>0</td>\n      <td>0</td>\n      <td>9</td>\n      <td>1</td>\n      <td>3</td>\n    </tr>\n  </tbody>\n</table>\n<p>1908 rows × 16 columns</p>\n</div>"
     },
     "metadata": {},
     "execution_count": 15
    }
   ],
   "source": [
    "leeds_casualties # prints out an overview of the dataframe (and the number of rows and columns)"
   ]
  },
  {
   "cell_type": "code",
   "execution_count": 16,
   "metadata": {},
   "outputs": [
    {
     "output_type": "execute_result",
     "data": {
      "text/plain": [
       "Accident_Index                        1451\n",
       "Vehicle_Reference                        5\n",
       "Casualty_Reference                      13\n",
       "Casualty_Class                           3\n",
       "Sex_of_Casualty                          2\n",
       "Age_of_Casualty                         92\n",
       "Age_Band_of_Casualty                    11\n",
       "Casualty_Severity                        3\n",
       "Pedestrian_Location                      9\n",
       "Pedestrian_Movement                     10\n",
       "Car_Passenger                            3\n",
       "Bus_or_Coach_Passenger                   5\n",
       "Pedestrian_Road_Maintenance_Worker       1\n",
       "Casualty_Type                           18\n",
       "Casualty_Home_Area_Type                  4\n",
       "Casualty_IMD_Decile                     11\n",
       "dtype: int64"
      ]
     },
     "metadata": {},
     "execution_count": 16
    }
   ],
   "source": [
    "leeds_casualties.nunique() # prints out the column names and the corresponding number of unique values "
   ]
  },
  {
   "cell_type": "markdown",
   "metadata": {},
   "source": [
    "We see, that the side dataset 'casualties_processed.csv' provides more detailed information about the casualties of all lethal accidents. It consist of 1908 columns (which leads to 1907 records on casualties) and has 16 columns providing more detailed information about the vehicle. The different variables and the number of its unique values can be studied in the output of the above cell. We see, that we can differentiate the attributes as follows:\n",
    "- Linking Attributes (Accident Indexes link the vehicles to the accidents dataset and the vehicle references the casualties)\n",
    "- Categorical Attributes (Most of the columns are categorical)"
   ]
  },
  {
   "cell_type": "markdown",
   "metadata": {},
   "source": [
    "## Export Processed Datasets\n",
    "--- \n",
    "Finally, we export the processed datasets into a new subfolder. From now on, all Jupyter Notebooks will work with those processed datasets."
   ]
  },
  {
   "cell_type": "code",
   "execution_count": 17,
   "metadata": {},
   "outputs": [],
   "source": [
    "leeds_accidents.to_csv('../data/processed/accidents_processed.csv', index=False)\n",
    "leeds_vehicles.to_csv('../data/processed/vehicles_processed.csv', index=False)\n",
    "leeds_casualties.to_csv('../data/processed/casualties_processed.csv', index=False)"
   ]
  }
 ],
 "metadata": {
  "kernelspec": {
   "display_name": "Python 3",
   "language": "python",
   "name": "python3"
  },
  "language_info": {
   "codemirror_mode": {
    "name": "ipython",
    "version": 3
   },
   "file_extension": ".py",
   "mimetype": "text/x-python",
   "name": "python",
   "nbconvert_exporter": "python",
   "pygments_lexer": "ipython3",
   "version": "3.8.3-final"
  }
 },
 "nbformat": 4,
 "nbformat_minor": 2
}
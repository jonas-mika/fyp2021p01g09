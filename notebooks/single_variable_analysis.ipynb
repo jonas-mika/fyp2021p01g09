{
 "metadata": {
  "language_info": {
   "codemirror_mode": {
    "name": "ipython",
    "version": 3
   },
   "file_extension": ".py",
   "mimetype": "text/x-python",
   "name": "python",
   "nbconvert_exporter": "python",
   "pygments_lexer": "ipython3",
   "version": "3.8.3-final"
  },
  "orig_nbformat": 2,
  "kernelspec": {
   "name": "python3",
   "display_name": "Python 3",
   "language": "python"
  }
 },
 "nbformat": 4,
 "nbformat_minor": 2,
 "cells": [
  {
   "source": [
    "# Single Variable Analysis\n",
    "---\n",
    "### Notebook for Single Variable Analysis in all three processed datasets\n",
    "\n",
    "Creation: 07.02.2021"
   ],
   "cell_type": "markdown",
   "metadata": {}
  },
  {
   "source": [
    "## Required Libraries\n",
    "---"
   ],
   "cell_type": "markdown",
   "metadata": {}
  },
  {
   "cell_type": "code",
   "execution_count": 9,
   "metadata": {},
   "outputs": [],
   "source": [
    "import pandas as pd\n",
    "import numpy as np\n",
    "import matplotlib.pyplot as plt"
   ]
  },
  {
   "source": [
    "## Importing Processed Datasets\n",
    "---"
   ],
   "cell_type": "markdown",
   "metadata": {}
  },
  {
   "cell_type": "code",
   "execution_count": 20,
   "metadata": {},
   "outputs": [],
   "source": [
    "leeds_accidents = pd.read_csv('../data/processed/accidents_processed.csv')\n",
    "leeds_vehicles = pd.read_csv('../data/processed/vehicles_processed.csv')\n",
    "leeds_casualties = pd.read_csv('../data/processed/casualties_processed.csv')"
   ]
  },
  {
   "source": [
    "## Overview \n",
    "---\n",
    "For each of the datasets, we want to get a first good impression of its size and the information it stores. To gain this information, we print out each of the datasets, and get a summary of each of the columns and the uniques."
   ],
   "cell_type": "markdown",
   "metadata": {}
  },
  {
   "source": [
    "### Accidents\n",
    "---"
   ],
   "cell_type": "markdown",
   "metadata": {}
  },
  {
   "cell_type": "code",
   "execution_count": 21,
   "metadata": {},
   "outputs": [
    {
     "output_type": "execute_result",
     "data": {
      "text/plain": [
       "(1451, 32)"
      ]
     },
     "metadata": {},
     "execution_count": 21
    }
   ],
   "source": [
    "leeds_accidents.shape # prints out the number of columns and rows"
   ]
  },
  {
   "cell_type": "code",
   "execution_count": 22,
   "metadata": {},
   "outputs": [
    {
     "output_type": "execute_result",
     "data": {
      "text/plain": [
       "     Accident_Index  Location_Easting_OSGR  Location_Northing_OSGR  Longitude  \\\n",
       "0     2019131901350               443576.0                438198.0  -1.339288   \n",
       "1     20191358F1730               436147.0                434957.0  -1.452556   \n",
       "2     2019136111190               435904.0                425850.0  -1.457300   \n",
       "3     2019136111674               423194.0                438111.0  -1.649019   \n",
       "4     2019136111836               429149.0                431736.0  -1.559127   \n",
       "...             ...                    ...                     ...        ...   \n",
       "1446  2019136CT0238               430040.0                434040.0  -1.545382   \n",
       "1447  2019136CU0181               442094.0                434619.0  -1.362295   \n",
       "1448  2019136CU0363               423019.0                437653.0  -1.651713   \n",
       "1449  2019136CV0723               436853.0                442515.0  -1.440932   \n",
       "1450  2019136CV1518               421466.0                433999.0  -1.675563   \n",
       "\n",
       "       Latitude  Police_Force  Accident_Severity  Number_of_Vehicles  \\\n",
       "0     53.838231            13                  2                   4   \n",
       "1     53.809670            13                  3                   2   \n",
       "2     53.727837            13                  3                   2   \n",
       "3     53.838752            13                  3                   1   \n",
       "4     53.781158            13                  2                   2   \n",
       "...         ...           ...                ...                 ...   \n",
       "1446  53.801815            13                  2                   1   \n",
       "1447  53.806186            13                  3                   1   \n",
       "1448  53.834643            13                  2                   1   \n",
       "1449  53.877548            13                  2                   2   \n",
       "1450  53.801868            13                  3                   3   \n",
       "\n",
       "      Number_of_Casualties        Date  ...  \\\n",
       "0                        1  27/09/2019  ...   \n",
       "1                        7  15/08/2019  ...   \n",
       "2                        1  01/01/2019  ...   \n",
       "3                        1  01/01/2019  ...   \n",
       "4                        1  01/01/2019  ...   \n",
       "...                    ...         ...  ...   \n",
       "1446                     1  29/12/2019  ...   \n",
       "1447                     1  30/12/2019  ...   \n",
       "1448                     1  30/12/2019  ...   \n",
       "1449                     1  31/12/2019  ...   \n",
       "1450                     2  31/12/2019  ...   \n",
       "\n",
       "      Pedestrian_Crossing-Human_Control  \\\n",
       "0                                     0   \n",
       "1                                     0   \n",
       "2                                     0   \n",
       "3                                     0   \n",
       "4                                     0   \n",
       "...                                 ...   \n",
       "1446                                  0   \n",
       "1447                                  0   \n",
       "1448                                  0   \n",
       "1449                                  0   \n",
       "1450                                  0   \n",
       "\n",
       "     Pedestrian_Crossing-Physical_Facilities  Light_Conditions  \\\n",
       "0                                          0                 1   \n",
       "1                                          0                 1   \n",
       "2                                          0                 1   \n",
       "3                                          0                 1   \n",
       "4                                          0                 4   \n",
       "...                                      ...               ...   \n",
       "1446                                       0                 4   \n",
       "1447                                       0                 4   \n",
       "1448                                       0                 1   \n",
       "1449                                       0                 1   \n",
       "1450                                       0                 4   \n",
       "\n",
       "     Weather_Conditions  Road_Surface_Conditions  Special_Conditions_at_Site  \\\n",
       "0                     2                        2                           0   \n",
       "1                     1                        1                           0   \n",
       "2                     1                        1                           0   \n",
       "3                     1                        1                           0   \n",
       "4                     1                        1                           0   \n",
       "...                 ...                      ...                         ...   \n",
       "1446                  1                        1                           0   \n",
       "1447                  4                        2                           0   \n",
       "1448                  1                        4                           7   \n",
       "1449                  1                        1                           0   \n",
       "1450                  1                        1                           0   \n",
       "\n",
       "      Carriageway_Hazards  Urban_or_Rural_Area  \\\n",
       "0                       0                    2   \n",
       "1                       0                    1   \n",
       "2                       0                    2   \n",
       "3                       0                    1   \n",
       "4                       0                    1   \n",
       "...                   ...                  ...   \n",
       "1446                    0                    1   \n",
       "1447                    0                    2   \n",
       "1448                    0                    1   \n",
       "1449                    0                    2   \n",
       "1450                    0                    1   \n",
       "\n",
       "      Did_Police_Officer_Attend_Scene_of_Accident  LSOA_of_Accident_Location  \n",
       "0                                               1                  E01011309  \n",
       "1                                               2                  E01011666  \n",
       "2                                               1                  E01011636  \n",
       "3                                               1                  E01011461  \n",
       "4                                               1                  E01011366  \n",
       "...                                           ...                        ...  \n",
       "1446                                            1                  E01033010  \n",
       "1447                                            1                  E01011297  \n",
       "1448                                            1                  E01011452  \n",
       "1449                                            1                  E01011713  \n",
       "1450                                            2                  E01011585  \n",
       "\n",
       "[1451 rows x 32 columns]"
      ],
      "text/html": "<div>\n<style scoped>\n    .dataframe tbody tr th:only-of-type {\n        vertical-align: middle;\n    }\n\n    .dataframe tbody tr th {\n        vertical-align: top;\n    }\n\n    .dataframe thead th {\n        text-align: right;\n    }\n</style>\n<table border=\"1\" class=\"dataframe\">\n  <thead>\n    <tr style=\"text-align: right;\">\n      <th></th>\n      <th>Accident_Index</th>\n      <th>Location_Easting_OSGR</th>\n      <th>Location_Northing_OSGR</th>\n      <th>Longitude</th>\n      <th>Latitude</th>\n      <th>Police_Force</th>\n      <th>Accident_Severity</th>\n      <th>Number_of_Vehicles</th>\n      <th>Number_of_Casualties</th>\n      <th>Date</th>\n      <th>...</th>\n      <th>Pedestrian_Crossing-Human_Control</th>\n      <th>Pedestrian_Crossing-Physical_Facilities</th>\n      <th>Light_Conditions</th>\n      <th>Weather_Conditions</th>\n      <th>Road_Surface_Conditions</th>\n      <th>Special_Conditions_at_Site</th>\n      <th>Carriageway_Hazards</th>\n      <th>Urban_or_Rural_Area</th>\n      <th>Did_Police_Officer_Attend_Scene_of_Accident</th>\n      <th>LSOA_of_Accident_Location</th>\n    </tr>\n  </thead>\n  <tbody>\n    <tr>\n      <th>0</th>\n      <td>2019131901350</td>\n      <td>443576.0</td>\n      <td>438198.0</td>\n      <td>-1.339288</td>\n      <td>53.838231</td>\n      <td>13</td>\n      <td>2</td>\n      <td>4</td>\n      <td>1</td>\n      <td>27/09/2019</td>\n      <td>...</td>\n      <td>0</td>\n      <td>0</td>\n      <td>1</td>\n      <td>2</td>\n      <td>2</td>\n      <td>0</td>\n      <td>0</td>\n      <td>2</td>\n      <td>1</td>\n      <td>E01011309</td>\n    </tr>\n    <tr>\n      <th>1</th>\n      <td>20191358F1730</td>\n      <td>436147.0</td>\n      <td>434957.0</td>\n      <td>-1.452556</td>\n      <td>53.809670</td>\n      <td>13</td>\n      <td>3</td>\n      <td>2</td>\n      <td>7</td>\n      <td>15/08/2019</td>\n      <td>...</td>\n      <td>0</td>\n      <td>0</td>\n      <td>1</td>\n      <td>1</td>\n      <td>1</td>\n      <td>0</td>\n      <td>0</td>\n      <td>1</td>\n      <td>2</td>\n      <td>E01011666</td>\n    </tr>\n    <tr>\n      <th>2</th>\n      <td>2019136111190</td>\n      <td>435904.0</td>\n      <td>425850.0</td>\n      <td>-1.457300</td>\n      <td>53.727837</td>\n      <td>13</td>\n      <td>3</td>\n      <td>2</td>\n      <td>1</td>\n      <td>01/01/2019</td>\n      <td>...</td>\n      <td>0</td>\n      <td>0</td>\n      <td>1</td>\n      <td>1</td>\n      <td>1</td>\n      <td>0</td>\n      <td>0</td>\n      <td>2</td>\n      <td>1</td>\n      <td>E01011636</td>\n    </tr>\n    <tr>\n      <th>3</th>\n      <td>2019136111674</td>\n      <td>423194.0</td>\n      <td>438111.0</td>\n      <td>-1.649019</td>\n      <td>53.838752</td>\n      <td>13</td>\n      <td>3</td>\n      <td>1</td>\n      <td>1</td>\n      <td>01/01/2019</td>\n      <td>...</td>\n      <td>0</td>\n      <td>0</td>\n      <td>1</td>\n      <td>1</td>\n      <td>1</td>\n      <td>0</td>\n      <td>0</td>\n      <td>1</td>\n      <td>1</td>\n      <td>E01011461</td>\n    </tr>\n    <tr>\n      <th>4</th>\n      <td>2019136111836</td>\n      <td>429149.0</td>\n      <td>431736.0</td>\n      <td>-1.559127</td>\n      <td>53.781158</td>\n      <td>13</td>\n      <td>2</td>\n      <td>2</td>\n      <td>1</td>\n      <td>01/01/2019</td>\n      <td>...</td>\n      <td>0</td>\n      <td>0</td>\n      <td>4</td>\n      <td>1</td>\n      <td>1</td>\n      <td>0</td>\n      <td>0</td>\n      <td>1</td>\n      <td>1</td>\n      <td>E01011366</td>\n    </tr>\n    <tr>\n      <th>...</th>\n      <td>...</td>\n      <td>...</td>\n      <td>...</td>\n      <td>...</td>\n      <td>...</td>\n      <td>...</td>\n      <td>...</td>\n      <td>...</td>\n      <td>...</td>\n      <td>...</td>\n      <td>...</td>\n      <td>...</td>\n      <td>...</td>\n      <td>...</td>\n      <td>...</td>\n      <td>...</td>\n      <td>...</td>\n      <td>...</td>\n      <td>...</td>\n      <td>...</td>\n      <td>...</td>\n    </tr>\n    <tr>\n      <th>1446</th>\n      <td>2019136CT0238</td>\n      <td>430040.0</td>\n      <td>434040.0</td>\n      <td>-1.545382</td>\n      <td>53.801815</td>\n      <td>13</td>\n      <td>2</td>\n      <td>1</td>\n      <td>1</td>\n      <td>29/12/2019</td>\n      <td>...</td>\n      <td>0</td>\n      <td>0</td>\n      <td>4</td>\n      <td>1</td>\n      <td>1</td>\n      <td>0</td>\n      <td>0</td>\n      <td>1</td>\n      <td>1</td>\n      <td>E01033010</td>\n    </tr>\n    <tr>\n      <th>1447</th>\n      <td>2019136CU0181</td>\n      <td>442094.0</td>\n      <td>434619.0</td>\n      <td>-1.362295</td>\n      <td>53.806186</td>\n      <td>13</td>\n      <td>3</td>\n      <td>1</td>\n      <td>1</td>\n      <td>30/12/2019</td>\n      <td>...</td>\n      <td>0</td>\n      <td>0</td>\n      <td>4</td>\n      <td>4</td>\n      <td>2</td>\n      <td>0</td>\n      <td>0</td>\n      <td>2</td>\n      <td>1</td>\n      <td>E01011297</td>\n    </tr>\n    <tr>\n      <th>1448</th>\n      <td>2019136CU0363</td>\n      <td>423019.0</td>\n      <td>437653.0</td>\n      <td>-1.651713</td>\n      <td>53.834643</td>\n      <td>13</td>\n      <td>2</td>\n      <td>1</td>\n      <td>1</td>\n      <td>30/12/2019</td>\n      <td>...</td>\n      <td>0</td>\n      <td>0</td>\n      <td>1</td>\n      <td>1</td>\n      <td>4</td>\n      <td>7</td>\n      <td>0</td>\n      <td>1</td>\n      <td>1</td>\n      <td>E01011452</td>\n    </tr>\n    <tr>\n      <th>1449</th>\n      <td>2019136CV0723</td>\n      <td>436853.0</td>\n      <td>442515.0</td>\n      <td>-1.440932</td>\n      <td>53.877548</td>\n      <td>13</td>\n      <td>2</td>\n      <td>2</td>\n      <td>1</td>\n      <td>31/12/2019</td>\n      <td>...</td>\n      <td>0</td>\n      <td>0</td>\n      <td>1</td>\n      <td>1</td>\n      <td>1</td>\n      <td>0</td>\n      <td>0</td>\n      <td>2</td>\n      <td>1</td>\n      <td>E01011713</td>\n    </tr>\n    <tr>\n      <th>1450</th>\n      <td>2019136CV1518</td>\n      <td>421466.0</td>\n      <td>433999.0</td>\n      <td>-1.675563</td>\n      <td>53.801868</td>\n      <td>13</td>\n      <td>3</td>\n      <td>3</td>\n      <td>2</td>\n      <td>31/12/2019</td>\n      <td>...</td>\n      <td>0</td>\n      <td>0</td>\n      <td>4</td>\n      <td>1</td>\n      <td>1</td>\n      <td>0</td>\n      <td>0</td>\n      <td>1</td>\n      <td>2</td>\n      <td>E01011585</td>\n    </tr>\n  </tbody>\n</table>\n<p>1451 rows × 32 columns</p>\n</div>"
     },
     "metadata": {},
     "execution_count": 22
    }
   ],
   "source": [
    "leeds_accidents # prints out an overview of the dataframe (and the number of rows and columns)"
   ]
  },
  {
   "cell_type": "code",
   "execution_count": 23,
   "metadata": {},
   "outputs": [
    {
     "output_type": "execute_result",
     "data": {
      "text/plain": [
       "Accident_Index                                 1451\n",
       "Location_Easting_OSGR                          1353\n",
       "Location_Northing_OSGR                         1319\n",
       "Longitude                                      1407\n",
       "Latitude                                       1404\n",
       "Police_Force                                      1\n",
       "Accident_Severity                                 3\n",
       "Number_of_Vehicles                                6\n",
       "Number_of_Casualties                              9\n",
       "Date                                            348\n",
       "Day_of_Week                                       7\n",
       "Time                                            616\n",
       "Local_Authority_(District)                        1\n",
       "Local_Authority_(Highway)                         1\n",
       "1st_Road_Class                                    6\n",
       "1st_Road_Number                                  38\n",
       "Road_Type                                         6\n",
       "Speed_limit                                       6\n",
       "Junction_Detail                                   9\n",
       "Junction_Control                                  5\n",
       "2nd_Road_Class                                    7\n",
       "2nd_Road_Number                                  32\n",
       "Pedestrian_Crossing-Human_Control                 3\n",
       "Pedestrian_Crossing-Physical_Facilities           5\n",
       "Light_Conditions                                  5\n",
       "Weather_Conditions                                8\n",
       "Road_Surface_Conditions                           5\n",
       "Special_Conditions_at_Site                        5\n",
       "Carriageway_Hazards                               6\n",
       "Urban_or_Rural_Area                               2\n",
       "Did_Police_Officer_Attend_Scene_of_Accident       2\n",
       "LSOA_of_Accident_Location                       379\n",
       "dtype: int64"
      ]
     },
     "metadata": {},
     "execution_count": 23
    }
   ],
   "source": [
    "leeds_accidents.nunique() # prints out the column names and the corresponding number of unique values "
   ]
  },
  {
   "source": [
    "We see, that the main dataset 'accidents_processed.csv' stores all recorded accidents in 2019 in Leeds. It consist of 1451 columns (which leads to 1450 recorded accidents) and has 32 columns providing more detailed information about the accident. The different variables and the number of its unique values can be studied in the output of the above cell. We see, that we can differentiate the attributes as follows:\n",
    "- Categorical Attributes (Most of the columns are categorical)\n",
    "- Geographical Attributes (There are several measures of the location of the accident)\n",
    "- Time Attribute (Each accident specifies a date and time)"
   ],
   "cell_type": "markdown",
   "metadata": {}
  },
  {
   "source": [
    "### Vehicles\n",
    "---"
   ],
   "cell_type": "markdown",
   "metadata": {}
  },
  {
   "cell_type": "code",
   "execution_count": 26,
   "metadata": {},
   "outputs": [
    {
     "output_type": "execute_result",
     "data": {
      "text/plain": [
       "(2688, 23)"
      ]
     },
     "metadata": {},
     "execution_count": 26
    }
   ],
   "source": [
    "leeds_vehicles.shape # prints out the number of columns and rows"
   ]
  },
  {
   "cell_type": "code",
   "execution_count": 27,
   "metadata": {},
   "outputs": [
    {
     "output_type": "execute_result",
     "data": {
      "text/plain": [
       "     Accident_Index  Vehicle_Reference  Vehicle_Type  Towing_and_Articulation  \\\n",
       "0     2019131901350                  1            21                        1   \n",
       "1     2019131901350                  2            21                        0   \n",
       "2     2019131901350                  3            21                        1   \n",
       "3     2019131901350                  4            21                        1   \n",
       "4     20191358F1730                  1             9                        0   \n",
       "...             ...                ...           ...                      ...   \n",
       "2683  2019136CV0723                  1             9                        0   \n",
       "2684  2019136CV0723                  2             1                        0   \n",
       "2685  2019136CV1518                  1             9                        0   \n",
       "2686  2019136CV1518                  2             9                        0   \n",
       "2687  2019136CV1518                  3             9                        0   \n",
       "\n",
       "      Vehicle_Manoeuvre  Vehicle_Location-Restricted_Lane  Junction_Location  \\\n",
       "0                    11                                 0                  0   \n",
       "1                     4                                 0                  0   \n",
       "2                     4                                 0                  0   \n",
       "3                     4                                 0                  0   \n",
       "4                    18                                 0                  0   \n",
       "...                 ...                               ...                ...   \n",
       "2683                 18                                 0                  0   \n",
       "2684                 18                                 0                  0   \n",
       "2685                  4                                 0                  0   \n",
       "2686                  4                                 0                  0   \n",
       "2687                  4                                 0                  0   \n",
       "\n",
       "      Skidding_and_Overturning  Hit_Object_in_Carriageway  \\\n",
       "0                            0                          0   \n",
       "1                            0                          0   \n",
       "2                            0                          0   \n",
       "3                            0                          0   \n",
       "4                            0                          0   \n",
       "...                        ...                        ...   \n",
       "2683                         0                          0   \n",
       "2684                         0                          0   \n",
       "2685                         0                          0   \n",
       "2686                         0                          0   \n",
       "2687                         0                          0   \n",
       "\n",
       "      Vehicle_Leaving_Carriageway  ...  Journey_Purpose_of_Driver  \\\n",
       "0                               0  ...                          1   \n",
       "1                               0  ...                          1   \n",
       "2                               0  ...                          1   \n",
       "3                               0  ...                          1   \n",
       "4                               0  ...                          6   \n",
       "...                           ...  ...                        ...   \n",
       "2683                            0  ...                          6   \n",
       "2684                            0  ...                          6   \n",
       "2685                            0  ...                          6   \n",
       "2686                            0  ...                          6   \n",
       "2687                            0  ...                          6   \n",
       "\n",
       "      Sex_of_Driver  Age_of_Driver  Age_Band_of_Driver  Engine_Capacity_(CC)  \\\n",
       "0                 1             39                   7                 12419   \n",
       "1                 1             56                   9                  6374   \n",
       "2                 1             40                   7                 10837   \n",
       "3                 1             35                   6                    -1   \n",
       "4                 3             -1                  -1                    -1   \n",
       "...             ...            ...                 ...                   ...   \n",
       "2683              1             72                  10                  1968   \n",
       "2684              1             59                   9                    -1   \n",
       "2685              3             -1                  -1                  1598   \n",
       "2686              1             41                   7                  2183   \n",
       "2687              2             31                   6                  1197   \n",
       "\n",
       "      Propulsion_Code  Age_of_Vehicle  Driver_IMD_Decile  \\\n",
       "0                   2               3                  1   \n",
       "1                   2               5                  2   \n",
       "2                   2               2                  4   \n",
       "3                  -1              -1                 -1   \n",
       "4                  -1              -1                 -1   \n",
       "...               ...             ...                ...   \n",
       "2683                2               4                 10   \n",
       "2684               -1              -1                 10   \n",
       "2685                2               7                  7   \n",
       "2686                2               7                  3   \n",
       "2687                1               8                  4   \n",
       "\n",
       "      Driver_Home_Area_Type  Vehicle_IMD_Decile  \n",
       "0                         1                   1  \n",
       "1                         1                   2  \n",
       "2                         1                   4  \n",
       "3                        -1                  -1  \n",
       "4                        -1                  -1  \n",
       "...                     ...                 ...  \n",
       "2683                      1                  10  \n",
       "2684                      1                  10  \n",
       "2685                      1                   7  \n",
       "2686                      1                   3  \n",
       "2687                      1                   4  \n",
       "\n",
       "[2688 rows x 23 columns]"
      ],
      "text/html": "<div>\n<style scoped>\n    .dataframe tbody tr th:only-of-type {\n        vertical-align: middle;\n    }\n\n    .dataframe tbody tr th {\n        vertical-align: top;\n    }\n\n    .dataframe thead th {\n        text-align: right;\n    }\n</style>\n<table border=\"1\" class=\"dataframe\">\n  <thead>\n    <tr style=\"text-align: right;\">\n      <th></th>\n      <th>Accident_Index</th>\n      <th>Vehicle_Reference</th>\n      <th>Vehicle_Type</th>\n      <th>Towing_and_Articulation</th>\n      <th>Vehicle_Manoeuvre</th>\n      <th>Vehicle_Location-Restricted_Lane</th>\n      <th>Junction_Location</th>\n      <th>Skidding_and_Overturning</th>\n      <th>Hit_Object_in_Carriageway</th>\n      <th>Vehicle_Leaving_Carriageway</th>\n      <th>...</th>\n      <th>Journey_Purpose_of_Driver</th>\n      <th>Sex_of_Driver</th>\n      <th>Age_of_Driver</th>\n      <th>Age_Band_of_Driver</th>\n      <th>Engine_Capacity_(CC)</th>\n      <th>Propulsion_Code</th>\n      <th>Age_of_Vehicle</th>\n      <th>Driver_IMD_Decile</th>\n      <th>Driver_Home_Area_Type</th>\n      <th>Vehicle_IMD_Decile</th>\n    </tr>\n  </thead>\n  <tbody>\n    <tr>\n      <th>0</th>\n      <td>2019131901350</td>\n      <td>1</td>\n      <td>21</td>\n      <td>1</td>\n      <td>11</td>\n      <td>0</td>\n      <td>0</td>\n      <td>0</td>\n      <td>0</td>\n      <td>0</td>\n      <td>...</td>\n      <td>1</td>\n      <td>1</td>\n      <td>39</td>\n      <td>7</td>\n      <td>12419</td>\n      <td>2</td>\n      <td>3</td>\n      <td>1</td>\n      <td>1</td>\n      <td>1</td>\n    </tr>\n    <tr>\n      <th>1</th>\n      <td>2019131901350</td>\n      <td>2</td>\n      <td>21</td>\n      <td>0</td>\n      <td>4</td>\n      <td>0</td>\n      <td>0</td>\n      <td>0</td>\n      <td>0</td>\n      <td>0</td>\n      <td>...</td>\n      <td>1</td>\n      <td>1</td>\n      <td>56</td>\n      <td>9</td>\n      <td>6374</td>\n      <td>2</td>\n      <td>5</td>\n      <td>2</td>\n      <td>1</td>\n      <td>2</td>\n    </tr>\n    <tr>\n      <th>2</th>\n      <td>2019131901350</td>\n      <td>3</td>\n      <td>21</td>\n      <td>1</td>\n      <td>4</td>\n      <td>0</td>\n      <td>0</td>\n      <td>0</td>\n      <td>0</td>\n      <td>0</td>\n      <td>...</td>\n      <td>1</td>\n      <td>1</td>\n      <td>40</td>\n      <td>7</td>\n      <td>10837</td>\n      <td>2</td>\n      <td>2</td>\n      <td>4</td>\n      <td>1</td>\n      <td>4</td>\n    </tr>\n    <tr>\n      <th>3</th>\n      <td>2019131901350</td>\n      <td>4</td>\n      <td>21</td>\n      <td>1</td>\n      <td>4</td>\n      <td>0</td>\n      <td>0</td>\n      <td>0</td>\n      <td>0</td>\n      <td>0</td>\n      <td>...</td>\n      <td>1</td>\n      <td>1</td>\n      <td>35</td>\n      <td>6</td>\n      <td>-1</td>\n      <td>-1</td>\n      <td>-1</td>\n      <td>-1</td>\n      <td>-1</td>\n      <td>-1</td>\n    </tr>\n    <tr>\n      <th>4</th>\n      <td>20191358F1730</td>\n      <td>1</td>\n      <td>9</td>\n      <td>0</td>\n      <td>18</td>\n      <td>0</td>\n      <td>0</td>\n      <td>0</td>\n      <td>0</td>\n      <td>0</td>\n      <td>...</td>\n      <td>6</td>\n      <td>3</td>\n      <td>-1</td>\n      <td>-1</td>\n      <td>-1</td>\n      <td>-1</td>\n      <td>-1</td>\n      <td>-1</td>\n      <td>-1</td>\n      <td>-1</td>\n    </tr>\n    <tr>\n      <th>...</th>\n      <td>...</td>\n      <td>...</td>\n      <td>...</td>\n      <td>...</td>\n      <td>...</td>\n      <td>...</td>\n      <td>...</td>\n      <td>...</td>\n      <td>...</td>\n      <td>...</td>\n      <td>...</td>\n      <td>...</td>\n      <td>...</td>\n      <td>...</td>\n      <td>...</td>\n      <td>...</td>\n      <td>...</td>\n      <td>...</td>\n      <td>...</td>\n      <td>...</td>\n      <td>...</td>\n    </tr>\n    <tr>\n      <th>2683</th>\n      <td>2019136CV0723</td>\n      <td>1</td>\n      <td>9</td>\n      <td>0</td>\n      <td>18</td>\n      <td>0</td>\n      <td>0</td>\n      <td>0</td>\n      <td>0</td>\n      <td>0</td>\n      <td>...</td>\n      <td>6</td>\n      <td>1</td>\n      <td>72</td>\n      <td>10</td>\n      <td>1968</td>\n      <td>2</td>\n      <td>4</td>\n      <td>10</td>\n      <td>1</td>\n      <td>10</td>\n    </tr>\n    <tr>\n      <th>2684</th>\n      <td>2019136CV0723</td>\n      <td>2</td>\n      <td>1</td>\n      <td>0</td>\n      <td>18</td>\n      <td>0</td>\n      <td>0</td>\n      <td>0</td>\n      <td>0</td>\n      <td>0</td>\n      <td>...</td>\n      <td>6</td>\n      <td>1</td>\n      <td>59</td>\n      <td>9</td>\n      <td>-1</td>\n      <td>-1</td>\n      <td>-1</td>\n      <td>10</td>\n      <td>1</td>\n      <td>10</td>\n    </tr>\n    <tr>\n      <th>2685</th>\n      <td>2019136CV1518</td>\n      <td>1</td>\n      <td>9</td>\n      <td>0</td>\n      <td>4</td>\n      <td>0</td>\n      <td>0</td>\n      <td>0</td>\n      <td>0</td>\n      <td>0</td>\n      <td>...</td>\n      <td>6</td>\n      <td>3</td>\n      <td>-1</td>\n      <td>-1</td>\n      <td>1598</td>\n      <td>2</td>\n      <td>7</td>\n      <td>7</td>\n      <td>1</td>\n      <td>7</td>\n    </tr>\n    <tr>\n      <th>2686</th>\n      <td>2019136CV1518</td>\n      <td>2</td>\n      <td>9</td>\n      <td>0</td>\n      <td>4</td>\n      <td>0</td>\n      <td>0</td>\n      <td>0</td>\n      <td>0</td>\n      <td>0</td>\n      <td>...</td>\n      <td>6</td>\n      <td>1</td>\n      <td>41</td>\n      <td>7</td>\n      <td>2183</td>\n      <td>2</td>\n      <td>7</td>\n      <td>3</td>\n      <td>1</td>\n      <td>3</td>\n    </tr>\n    <tr>\n      <th>2687</th>\n      <td>2019136CV1518</td>\n      <td>3</td>\n      <td>9</td>\n      <td>0</td>\n      <td>4</td>\n      <td>0</td>\n      <td>0</td>\n      <td>0</td>\n      <td>0</td>\n      <td>0</td>\n      <td>...</td>\n      <td>6</td>\n      <td>2</td>\n      <td>31</td>\n      <td>6</td>\n      <td>1197</td>\n      <td>1</td>\n      <td>8</td>\n      <td>4</td>\n      <td>1</td>\n      <td>4</td>\n    </tr>\n  </tbody>\n</table>\n<p>2688 rows × 23 columns</p>\n</div>"
     },
     "metadata": {},
     "execution_count": 27
    }
   ],
   "source": [
    "leeds_vehicles # prints out an overview of the dataframe (and the number of rows and columns)"
   ]
  },
  {
   "cell_type": "code",
   "execution_count": 28,
   "metadata": {},
   "outputs": [
    {
     "output_type": "execute_result",
     "data": {
      "text/plain": [
       "Accident_Index                      1451\n",
       "Vehicle_Reference                      6\n",
       "Vehicle_Type                          17\n",
       "Towing_and_Articulation                5\n",
       "Vehicle_Manoeuvre                     18\n",
       "Vehicle_Location-Restricted_Lane       7\n",
       "Junction_Location                      9\n",
       "Skidding_and_Overturning               5\n",
       "Hit_Object_in_Carriageway              9\n",
       "Vehicle_Leaving_Carriageway            9\n",
       "Hit_Object_off_Carriageway            11\n",
       "1st_Point_of_Impact                    5\n",
       "Was_Vehicle_Left_Hand_Drive?           2\n",
       "Journey_Purpose_of_Driver              5\n",
       "Sex_of_Driver                          3\n",
       "Age_of_Driver                         84\n",
       "Age_Band_of_Driver                    11\n",
       "Engine_Capacity_(CC)                 229\n",
       "Propulsion_Code                        6\n",
       "Age_of_Vehicle                        30\n",
       "Driver_IMD_Decile                     11\n",
       "Driver_Home_Area_Type                  4\n",
       "Vehicle_IMD_Decile                    11\n",
       "dtype: int64"
      ]
     },
     "metadata": {},
     "execution_count": 28
    }
   ],
   "source": [
    "leeds_vehicles.nunique() # prints out the column names and the corresponding number of unique values "
   ]
  },
  {
   "source": [
    "We see, that the side dataset 'vehicles_processed.csv' provides more detailed information about all vehicles involved in each of the accidents. It consist of 2688 columns (which leads to 2688 records on involved vehicles) and has 23 columns providing more detailed information about the vehicle. The different variables and the number of its unique values can be studied in the output of the above cell. We see, that we can differentiate the attributes as follows:\n",
    "- Linking Attributes (Accident Indexes link the vehicles to the accidents dataset and the vehicle references the casualties)\n",
    "- Categorical Attributes (Most of the columns are categorical)"
   ],
   "cell_type": "markdown",
   "metadata": {}
  },
  {
   "source": [
    "### Casualties\n",
    "---"
   ],
   "cell_type": "markdown",
   "metadata": {}
  },
  {
   "cell_type": "code",
   "execution_count": 30,
   "metadata": {},
   "outputs": [
    {
     "output_type": "execute_result",
     "data": {
      "text/plain": [
       "(1908, 16)"
      ]
     },
     "metadata": {},
     "execution_count": 30
    }
   ],
   "source": [
    "leeds_casualties.shape # prints out the number of columns and rows"
   ]
  },
  {
   "cell_type": "code",
   "execution_count": 32,
   "metadata": {},
   "outputs": [
    {
     "output_type": "execute_result",
     "data": {
      "text/plain": [
       "     Accident_Index  Vehicle_Reference  Casualty_Reference  Casualty_Class  \\\n",
       "0     2019131901350                  1                   1               1   \n",
       "1     20191358F1730                  2                   1               2   \n",
       "2     20191358F1730                  2                   2               2   \n",
       "3     20191358F1730                  2                   3               2   \n",
       "4     20191358F1730                  2                   4               2   \n",
       "...             ...                ...                 ...             ...   \n",
       "1903  2019136CU0181                  1                   1               1   \n",
       "1904  2019136CU0363                  1                   1               1   \n",
       "1905  2019136CV0723                  2                   1               1   \n",
       "1906  2019136CV1518                  2                   1               1   \n",
       "1907  2019136CV1518                  2                   2               2   \n",
       "\n",
       "      Sex_of_Casualty  Age_of_Casualty  Age_Band_of_Casualty  \\\n",
       "0                   1               39                     7   \n",
       "1                   2                6                     2   \n",
       "2                   1                9                     2   \n",
       "3                   2               39                     7   \n",
       "4                   1                5                     1   \n",
       "...               ...              ...                   ...   \n",
       "1903                1               27                     6   \n",
       "1904                1               36                     7   \n",
       "1905                1               59                     9   \n",
       "1906                1               41                     7   \n",
       "1907                1               26                     6   \n",
       "\n",
       "      Casualty_Severity  Pedestrian_Location  Pedestrian_Movement  \\\n",
       "0                     2                    0                    0   \n",
       "1                     3                    0                    0   \n",
       "2                     3                    0                    0   \n",
       "3                     3                    0                    0   \n",
       "4                     3                    0                    0   \n",
       "...                 ...                  ...                  ...   \n",
       "1903                  3                    0                    0   \n",
       "1904                  2                    0                    0   \n",
       "1905                  2                    0                    0   \n",
       "1906                  3                    0                    0   \n",
       "1907                  3                    0                    0   \n",
       "\n",
       "      Car_Passenger  Bus_or_Coach_Passenger  \\\n",
       "0                 0                       0   \n",
       "1                 0                       4   \n",
       "2                 0                       4   \n",
       "3                 0                       4   \n",
       "4                 0                       4   \n",
       "...             ...                     ...   \n",
       "1903              0                       0   \n",
       "1904              0                       0   \n",
       "1905              0                       0   \n",
       "1906              0                       0   \n",
       "1907              1                       0   \n",
       "\n",
       "      Pedestrian_Road_Maintenance_Worker  Casualty_Type  \\\n",
       "0                                      0             21   \n",
       "1                                      0             11   \n",
       "2                                      0             11   \n",
       "3                                      0             11   \n",
       "4                                      0             11   \n",
       "...                                  ...            ...   \n",
       "1903                                   0              9   \n",
       "1904                                   0              5   \n",
       "1905                                   0              1   \n",
       "1906                                   0              9   \n",
       "1907                                   0              9   \n",
       "\n",
       "      Casualty_Home_Area_Type  Casualty_IMD_Decile  \n",
       "0                           1                    1  \n",
       "1                           1                    1  \n",
       "2                           1                    1  \n",
       "3                           1                    2  \n",
       "4                           1                    2  \n",
       "...                       ...                  ...  \n",
       "1903                        2                    9  \n",
       "1904                        1                    3  \n",
       "1905                        1                   10  \n",
       "1906                        1                    3  \n",
       "1907                        1                    3  \n",
       "\n",
       "[1908 rows x 16 columns]"
      ],
      "text/html": "<div>\n<style scoped>\n    .dataframe tbody tr th:only-of-type {\n        vertical-align: middle;\n    }\n\n    .dataframe tbody tr th {\n        vertical-align: top;\n    }\n\n    .dataframe thead th {\n        text-align: right;\n    }\n</style>\n<table border=\"1\" class=\"dataframe\">\n  <thead>\n    <tr style=\"text-align: right;\">\n      <th></th>\n      <th>Accident_Index</th>\n      <th>Vehicle_Reference</th>\n      <th>Casualty_Reference</th>\n      <th>Casualty_Class</th>\n      <th>Sex_of_Casualty</th>\n      <th>Age_of_Casualty</th>\n      <th>Age_Band_of_Casualty</th>\n      <th>Casualty_Severity</th>\n      <th>Pedestrian_Location</th>\n      <th>Pedestrian_Movement</th>\n      <th>Car_Passenger</th>\n      <th>Bus_or_Coach_Passenger</th>\n      <th>Pedestrian_Road_Maintenance_Worker</th>\n      <th>Casualty_Type</th>\n      <th>Casualty_Home_Area_Type</th>\n      <th>Casualty_IMD_Decile</th>\n    </tr>\n  </thead>\n  <tbody>\n    <tr>\n      <th>0</th>\n      <td>2019131901350</td>\n      <td>1</td>\n      <td>1</td>\n      <td>1</td>\n      <td>1</td>\n      <td>39</td>\n      <td>7</td>\n      <td>2</td>\n      <td>0</td>\n      <td>0</td>\n      <td>0</td>\n      <td>0</td>\n      <td>0</td>\n      <td>21</td>\n      <td>1</td>\n      <td>1</td>\n    </tr>\n    <tr>\n      <th>1</th>\n      <td>20191358F1730</td>\n      <td>2</td>\n      <td>1</td>\n      <td>2</td>\n      <td>2</td>\n      <td>6</td>\n      <td>2</td>\n      <td>3</td>\n      <td>0</td>\n      <td>0</td>\n      <td>0</td>\n      <td>4</td>\n      <td>0</td>\n      <td>11</td>\n      <td>1</td>\n      <td>1</td>\n    </tr>\n    <tr>\n      <th>2</th>\n      <td>20191358F1730</td>\n      <td>2</td>\n      <td>2</td>\n      <td>2</td>\n      <td>1</td>\n      <td>9</td>\n      <td>2</td>\n      <td>3</td>\n      <td>0</td>\n      <td>0</td>\n      <td>0</td>\n      <td>4</td>\n      <td>0</td>\n      <td>11</td>\n      <td>1</td>\n      <td>1</td>\n    </tr>\n    <tr>\n      <th>3</th>\n      <td>20191358F1730</td>\n      <td>2</td>\n      <td>3</td>\n      <td>2</td>\n      <td>2</td>\n      <td>39</td>\n      <td>7</td>\n      <td>3</td>\n      <td>0</td>\n      <td>0</td>\n      <td>0</td>\n      <td>4</td>\n      <td>0</td>\n      <td>11</td>\n      <td>1</td>\n      <td>2</td>\n    </tr>\n    <tr>\n      <th>4</th>\n      <td>20191358F1730</td>\n      <td>2</td>\n      <td>4</td>\n      <td>2</td>\n      <td>1</td>\n      <td>5</td>\n      <td>1</td>\n      <td>3</td>\n      <td>0</td>\n      <td>0</td>\n      <td>0</td>\n      <td>4</td>\n      <td>0</td>\n      <td>11</td>\n      <td>1</td>\n      <td>2</td>\n    </tr>\n    <tr>\n      <th>...</th>\n      <td>...</td>\n      <td>...</td>\n      <td>...</td>\n      <td>...</td>\n      <td>...</td>\n      <td>...</td>\n      <td>...</td>\n      <td>...</td>\n      <td>...</td>\n      <td>...</td>\n      <td>...</td>\n      <td>...</td>\n      <td>...</td>\n      <td>...</td>\n      <td>...</td>\n      <td>...</td>\n    </tr>\n    <tr>\n      <th>1903</th>\n      <td>2019136CU0181</td>\n      <td>1</td>\n      <td>1</td>\n      <td>1</td>\n      <td>1</td>\n      <td>27</td>\n      <td>6</td>\n      <td>3</td>\n      <td>0</td>\n      <td>0</td>\n      <td>0</td>\n      <td>0</td>\n      <td>0</td>\n      <td>9</td>\n      <td>2</td>\n      <td>9</td>\n    </tr>\n    <tr>\n      <th>1904</th>\n      <td>2019136CU0363</td>\n      <td>1</td>\n      <td>1</td>\n      <td>1</td>\n      <td>1</td>\n      <td>36</td>\n      <td>7</td>\n      <td>2</td>\n      <td>0</td>\n      <td>0</td>\n      <td>0</td>\n      <td>0</td>\n      <td>0</td>\n      <td>5</td>\n      <td>1</td>\n      <td>3</td>\n    </tr>\n    <tr>\n      <th>1905</th>\n      <td>2019136CV0723</td>\n      <td>2</td>\n      <td>1</td>\n      <td>1</td>\n      <td>1</td>\n      <td>59</td>\n      <td>9</td>\n      <td>2</td>\n      <td>0</td>\n      <td>0</td>\n      <td>0</td>\n      <td>0</td>\n      <td>0</td>\n      <td>1</td>\n      <td>1</td>\n      <td>10</td>\n    </tr>\n    <tr>\n      <th>1906</th>\n      <td>2019136CV1518</td>\n      <td>2</td>\n      <td>1</td>\n      <td>1</td>\n      <td>1</td>\n      <td>41</td>\n      <td>7</td>\n      <td>3</td>\n      <td>0</td>\n      <td>0</td>\n      <td>0</td>\n      <td>0</td>\n      <td>0</td>\n      <td>9</td>\n      <td>1</td>\n      <td>3</td>\n    </tr>\n    <tr>\n      <th>1907</th>\n      <td>2019136CV1518</td>\n      <td>2</td>\n      <td>2</td>\n      <td>2</td>\n      <td>1</td>\n      <td>26</td>\n      <td>6</td>\n      <td>3</td>\n      <td>0</td>\n      <td>0</td>\n      <td>1</td>\n      <td>0</td>\n      <td>0</td>\n      <td>9</td>\n      <td>1</td>\n      <td>3</td>\n    </tr>\n  </tbody>\n</table>\n<p>1908 rows × 16 columns</p>\n</div>"
     },
     "metadata": {},
     "execution_count": 32
    }
   ],
   "source": [
    "leeds_casualties # prints out an overview of the dataframe (and the number of rows and columns)"
   ]
  },
  {
   "cell_type": "code",
   "execution_count": 33,
   "metadata": {},
   "outputs": [
    {
     "output_type": "execute_result",
     "data": {
      "text/plain": [
       "Accident_Index                        1451\n",
       "Vehicle_Reference                        5\n",
       "Casualty_Reference                      13\n",
       "Casualty_Class                           3\n",
       "Sex_of_Casualty                          2\n",
       "Age_of_Casualty                         92\n",
       "Age_Band_of_Casualty                    11\n",
       "Casualty_Severity                        3\n",
       "Pedestrian_Location                      9\n",
       "Pedestrian_Movement                     10\n",
       "Car_Passenger                            3\n",
       "Bus_or_Coach_Passenger                   5\n",
       "Pedestrian_Road_Maintenance_Worker       1\n",
       "Casualty_Type                           18\n",
       "Casualty_Home_Area_Type                  4\n",
       "Casualty_IMD_Decile                     11\n",
       "dtype: int64"
      ]
     },
     "metadata": {},
     "execution_count": 33
    }
   ],
   "source": [
    "leeds_casualties.nunique() # prints out the column names and the corresponding number of unique values "
   ]
  },
  {
   "source": [
    "We see, that the side dataset 'casualties_processed.csv' provides more detailed information about the casualties of all lethal accidents. It consist of 1908 columns (which leads to 1907 records on casualties) and has 16 columns providing more detailed information about the vehicle. The different variables and the number of its unique values can be studied in the output of the above cell. We see, that we can differentiate the attributes as follows:\n",
    "- Linking Attributes (Accident Indexes link the vehicles to the accidents dataset and the vehicle references the casualties)\n",
    "- Categorical Attributes (Most of the columns are categorical)"
   ],
   "cell_type": "markdown",
   "metadata": {}
  },
  {
   "source": [
    "## Lookup and Variable Inspection\n",
    "---"
   ],
   "cell_type": "markdown",
   "metadata": {}
  },
  {
   "source": [
    "To efficiently analyse and plot singular attributes in the datasets, we need to keep track...\n",
    "- ...of the column index of the column\n",
    "- ...of the type of the variable (numerical, categorical)\n",
    "- ...of the variable look-up for categorical data (those are taken from 'data/references/variable\\ lookup.xls')\n",
    "\n",
    "We therefore create a lookup dictionary for each of the datasets for a code efficient analysis."
   ],
   "cell_type": "markdown",
   "metadata": {}
  },
  {
   "source": [
    "### Accidents\n",
    "---"
   ],
   "cell_type": "markdown",
   "metadata": {}
  },
  {
   "cell_type": "code",
   "execution_count": 36,
   "metadata": {},
   "outputs": [],
   "source": [
    "# dictionary to keep track of relevant data in the accidents dataset\n",
    "accidents_lookup = {\n",
    "    0: {\n",
    "        \"Name\": \"Accident_Index\", \n",
    "        \"Type\": \"Categorical\", \n",
    "        \"Map\": None\n",
    "    },\n",
    "    1: {\n",
    "        \"Name\": \"Location_Easting_OSGR\",\n",
    "        \"Type\": \"Numerical\", \n",
    "        \"Map\": None\n",
    "    },\n",
    "    2: {\n",
    "        \"Name\": \"Location_Northing_OSGR\",\n",
    "        \"Type\": \"Numerical\", \n",
    "        \"Map\": None\n",
    "    }, \n",
    "    3: {\n",
    "        \"Name\": \"Longitude\", \n",
    "        \"Type\": \"Numerical\",\n",
    "        \"Map\": None\n",
    "    },\n",
    "    4: {\n",
    "        \"Name\": \"Latitude\",\n",
    "        \"Type\": \"Numerical\",\n",
    "        \"Map\": None\n",
    "    },\n",
    "    5: {\n",
    "        \"Name\": \"Police_Force\",\n",
    "        \"Type\": \"Categorical\",\n",
    "        \"Map\": {13: \"West Yorkshire\"}\n",
    "    },\n",
    "    6: {\n",
    "        \"Name\": \"Accident_Severity\",\n",
    "        \"Type\": \"Categorical\",\n",
    "        \"Map\": {1: \"Fatal\", 2: \"Serious\", 3: \"Slight\"}\n",
    "    }, \n",
    "    7: {\n",
    "        \"Name\": \"Number_of_Vehicles\",\n",
    "        \"Type\": \"Categorical\",\n",
    "        \"Map\": None\n",
    "    },\n",
    "    8: {\n",
    "        \"Name\": \"Number_of_Casualties\",\n",
    "        \"Type\": \"Categorical\",\n",
    "        \"Map\": None\n",
    "    },\n",
    "    9: {\n",
    "        \"Name\": \"Date\",\n",
    "        \"Type\": \"Date\",\n",
    "        \"Map\": None\n",
    "    },\n",
    "    10: {\n",
    "        \"Name\": \"Day_of_Week\",\n",
    "        \"Type\": \"Categorical\",\n",
    "        \"Map\": {1: \"Monday\", 2: \"Tuesday\", 3: \"Wednesday\", 4: \"Thursday\", 5: \"Friday\", 6: \"Saturday\", 7: \"Sunday\"}\n",
    "    },\n",
    "    11: {\n",
    "        \"Name\": \"Time\",\n",
    "        \"Type\": \"Time\",\n",
    "        \"Map\": None\n",
    "    },\n",
    "    12: {\n",
    "        \"Name\": \"Local_Authority_(District)\",\n",
    "        \"Type\": \"Categorical\",\n",
    "        \"Map\": {204: \"Leeds\"}\n",
    "    },\n",
    "    13: {\n",
    "        \"Name\": \"Local_Authority_(Highway)\",\n",
    "        \"Type\": \"Categorical\",\n",
    "        \"Map\": {\"E08000035\": \"Leeds\"}\n",
    "    },\n",
    "    14: {\n",
    "        \"Name\": \"1st_Road_Class\",\n",
    "        \"Type\": \"Categorical\",\n",
    "        \"Map\": {1: \"Motorway\", 2: \"A(M)\", 3: \"A\", 4: \"B\", 5: \"C\", 6: \"Unclassified\"}\n",
    "    },\n",
    "    15: {\n",
    "        \"Name\": \"1st_Road_Number\",\n",
    "        \"Type\": \"Numerical\",\n",
    "        \"Map\": None\n",
    "    },\n",
    "    16: {\n",
    "        \"Name\": \"Road_Type\",\n",
    "        \"Type\": \"Categorical\",\n",
    "        \"Map\": {1: \"Roundabout\", 2: \"One-Way Street\", 3: \"Dual Carriageway\", 6: \"Single Carriageway\", 7: \"Slip Road\", \n",
    "                9: \"Unknown\", 12: \"One-Way Street/Slip Road\", -1: \"Data missing or out of range\"}\n",
    "    },\n",
    "    17: {\n",
    "        \"Name\": \"Speed_limit\",\n",
    "        \"Type\": \"Categorical\",\n",
    "        \"Map\": {20: \"20 MPH\", 30: \"30 MPH\", 40: \"40 MPH\", 60: \"60 MPH\", 70: \"70 MPH\", -1: \"Data missing or out of range\"}\n",
    "    },\n",
    "    18: {\n",
    "        \"Name\": \"Junction_Detail\",\n",
    "        \"Type\": \"Categorical\",\n",
    "        \"Map\": {0: \"Not at junction or within 20 metres\", 1: \"Roundabout\", 2: \"Mini-roundabout\", 3: \"T or staggered junction\",                  5: \"Slip road\", 6: \"Crossroads\", 7: \"More than 4 arms (not roundabout)\", 8: \"Private drive or entrance\", \n",
    "                9: \"Other junction\", -1: \"Data missing or out of range\"}\n",
    "    },\n",
    "    19: {\n",
    "        \"Name\": \"Junction_Control\",\n",
    "        \"Type\": \"Categorical\",\n",
    "        \"Map\": {0: \"Not at junction or within 20 metres\", 1: \"Authorised person\", 2: \"Auto traffic signal\", 3: \"Stop sign\", \n",
    "                4: \"Give way or uncontrolled\", 5: \"Data missing or out of range\"}\n",
    "    },\n",
    "    20: {\n",
    "        \"Name\": \"2nd_Road_Class\",\n",
    "        \"Type\": \"Categorical\",\n",
    "        \"Map\": {1: \"Motorway\", 2: \"A(M)\", 3: \"A\", 4: \"B\", 5: \"C\", 6: \"Unclassified\"}\n",
    "    },\n",
    "    21: {\n",
    "        \"Name\": \"2nd_Road_Number\",\n",
    "        \"Type\": \"Numerical\",\n",
    "        \"Map\": None\n",
    "    },\n",
    "    22: {\n",
    "        \"Name\": \"Pedestrian_Crossing-Human_Control\",\n",
    "        \"Type\": \"Categorical\",\n",
    "        \"Map\": {0: \"None within 50 metres\", 1: \"Control by school crossing patrol\", 2: \"Control by other authorised person\",                    -1: \"Data missing or out of range\"}\n",
    "    },\n",
    "    23: {\n",
    "        \"Name\": \"Pedestrian_Crossing-Physical_Facilities\",\n",
    "        \"Type\": \"Categorical\",\n",
    "        \"Map\": {0: \"No physical crossing facilities within 50 metres\", 1: \"Zebra\", \n",
    "                4: \"Pelican, puffin, toucan or similar on-junction pedestrian light crossing\", \n",
    "                5: \"Pedestrian phase at traffic signal junction\",7: \"Footbridge or subway\", 8: \"Central refuge\", \n",
    "                -1: \"Data missing or out of range\"}\n",
    "    },\n",
    "    24: {\n",
    "        \"Name\": \"Light_Conditions\",\n",
    "        \"Type\": \"Categorical\",\n",
    "        \"Map\": {1: \"Daylight\", 4: \"Darkness - lights lit\", 5: \"Darkness - lights unlit\", 6: \"Darkness - no lighting\", \n",
    "                7: \"Darkness - lighting unknown\", -1: \"Data missing or out of range\"}\n",
    "    },\n",
    "    25: {\n",
    "        \"Name\": \"Weather_Conditions\",\n",
    "        \"Type\": \"Categorical\",\n",
    "        \"Map\": {1: \"Fine no high winds\", 2: \"Raining no high winds\", 3: \"Snowing no high winds\", 4: \"Fine + high winds\", \n",
    "                5: \"Raining + high winds\", 6: \"Snowing + high winds\", 7: \"Fog or mist\", 8: \"Other\", 9: \"Unknown\", \n",
    "                -1: \"Data missing or out of range\"}\n",
    "    },\n",
    "    26: {\n",
    "        \"Name\": \"Road_Surface_Conditions\",\n",
    "        \"Type\": \"Categorical\",\n",
    "        \"Map\": {1: \"Dry\", 2: \"Wet or damp\", 3: \"Snow\", 4: \"Frost or ice\", 5: \"Flood over 3cm. deep\", 6: \"Oil or diesel\", 7:                     \"Mud\", -1: \"Data missing or out of range\"}\n",
    "    },\n",
    "    27: {\n",
    "        \"Name\": \"Road_Surface_Conditions\",\n",
    "        \"Type\": \"Categorical\",\n",
    "        \"Map\": {0: \"None\", 1: \"Auto traffic signal - out\", 2: \"Auto signal part defective\", \n",
    "                3: \"Road sign or marking defective or obscured\", 4: \"Roadworks\", 5: \"Road surface defective\", \n",
    "                6: \"Oil or diesel\", 7: \"Mud\", -1: \"Data missing or out of range\"}\n",
    "    },\n",
    "    28: {\n",
    "        \"Name\": \"Carriageway_Hazards\",\n",
    "        \"Type\": \"Categorical\",\n",
    "        \"Map\": {0: \"None\", 1: \"Vehicle load on road\", 2: \"Other object on road\", 3: \"Previous accident\", 4: \"Dog on road\", \n",
    "                5:\"Other animal on road\", 6: \"Pedestrian in carriageway - not injured\", \n",
    "                7: \"Any animal in carriageway (except ridden horse)\", -1: \"Data missing or out of range\"}\n",
    "    },\n",
    "    29: {\n",
    "        \"Name\": \"Urban_or_Rural_Area\",\n",
    "        \"Type\": \"Categorical\",\n",
    "        \"Map\": {1: \"Urban\", 2: \"Rural\", -1: \"Unallocated\"}\n",
    "    },\n",
    "    30: {\n",
    "        \"Name\": \"Did_Police_Officer_Attend_Scene_of_Accident\",\n",
    "        \"Type\": \"Categorical\",\n",
    "        \"Map\": {1: \"Yes\", 2: \"No\", 3: \"No - accident was reported using a self completion form (self rep only)\"}\n",
    "    },\n",
    "    31: {\n",
    "        \"Name\": \"LSOA_of_Accident_Location\",\n",
    "        \"Type\": \"Numerical\",\n",
    "        \"Map\": None\n",
    "    }\n",
    "}"
   ]
  },
  {
   "source": [
    "### Vehicles\n",
    "---"
   ],
   "cell_type": "markdown",
   "metadata": {}
  },
  {
   "cell_type": "code",
   "execution_count": null,
   "metadata": {},
   "outputs": [],
   "source": [
    "# dictionary to keep track of relevant data in the vehicles dataset\n"
   ]
  },
  {
   "source": [
    "### Casualties\n",
    "---"
   ],
   "cell_type": "markdown",
   "metadata": {}
  },
  {
   "cell_type": "code",
   "execution_count": null,
   "metadata": {},
   "outputs": [],
   "source": [
    "# dictionary to keep track of relevant data in the casualties dataset\n"
   ]
  },
  {
   "source": [
    "## Single Variable Analysis\n",
    "---"
   ],
   "cell_type": "markdown",
   "metadata": {}
  },
  {
   "cell_type": "code",
   "execution_count": null,
   "metadata": {},
   "outputs": [],
   "source": [
    "def compute_summary_categorical(categorical_data):\n",
    "    uniques, counts = np.unique(categorical_data, return_counts=True)\n",
    "\n",
    "    return uniques, counts"
   ]
  },
  {
   "cell_type": "code",
   "execution_count": null,
   "metadata": {},
   "outputs": [],
   "source": [
    "for column in range(leeds_accidents.shape[1]):\n",
    "        if accidents_lookup[column][\"Type\"] == \"Categorical\":\n",
    "            uniques, counts = compute_summary_categorical(leeds_accidents[accidents_lookup[column][\"Name\"]])\n",
    "        \n",
    "            accidents_lookup[column][\"No_Uniques\"] = len(uniques)\n",
    "            if len(uniques) < 100:\n",
    "                accidents_lookup[column][\"Uniques\"] = {uniques[i]: counts[i] for i in range(len(uniques))}"
   ]
  },
  {
   "source": [
    "## Visualisation\n",
    "---\n",
    "In this section, we are visualising the results of the single variable analysis in all three datasets - both within the Jupyter and per export into 'reports/figures' for later use."
   ],
   "cell_type": "markdown",
   "metadata": {}
  },
  {
   "cell_type": "code",
   "execution_count": null,
   "metadata": {},
   "outputs": [],
   "source": [
    "def visualise_categorical(categorical_data):\n",
    "    uniques, counts = np.unique(categorical_data, return_coutns=True)\n",
    "\n",
    "    fig, axes = plt.subfigures()\n",
    "    "
   ]
  },
  {
   "cell_type": "code",
   "execution_count": null,
   "metadata": {},
   "outputs": [],
   "source": [
    "def print_overview(data):\n",
    "    print(\"Column Index\\t\\tName\\t\\t\\t\\tType of Variable\\t\\t#Uniques\\t\\tUniques/ Counts\")\n",
    "    for i in range(len(data)):\n",
    "        print(f\"{i}\\t\\t\\t{data[i].get('Name')}\\t\\t\\t{data[i].get('Type')}\\t\\t{data[i].get('No_Uniques')}\\t\\t{data[i].get('Uniques')}\")\n",
    "\n",
    "print_overview(accidents_lookup)"
   ]
  },
  {
   "source": [
    "### Categorical/ Numerical Values in Accidents\n",
    "\n",
    "Column | Name | Variable Type | #Uniques | Uniques\n",
    "--- | --- | --- | --- | ---\n",
    "0 | Accident Index | Categorical | 1451  | Unique 13-digit indexes\n",
    "1 | Location_Easting_OSGR | Numerical | 1353 | 6 digit number representing eastern location\n",
    "2 | Location_Northing_OSGR | Numerical | 1319 | 6 digit number representing eastern location\n",
    "3 | Longitude | Numerical | 1407 | Measure of Longitude\n",
    "4 | Latitude | Numerical | 1404 |  Measure of Latitude\n",
    "5 | Police_Force | Categorical | 1 | {13: \"West Yorkshire\"}\n",
    "6 | Accident_Severity | Ordinal | 3 | {1: \"Fatal\", 2: \"Serious\", 3: \"Slight\"}\n",
    "7 | Number_of_Vehicles | Numerical | 6 | Number of Vehicles involved\n",
    "8 | Number_of_Casulaties | Numerical | 9 | Number of Casualties\n",
    "9 | Date | Numerical | 348 | Dateformat\n",
    "10 | Day_of_Week | Categorical | 7 | {1: \"Monday\", 2: \"Tuesday\", 3: \"Wednesday\", 4: \"Thursday\", 5: \"Friday\", 6: \"Saturday\", 7: \"Sunday\"}\n",
    "11 | Time | Numerical | 616  | Times in 24H Format \n",
    "12 | Local_Authority_(District) | Categorical | 1 | {204: \"Leeds\"}\n",
    "13 | Local_Authority_(Highway) | Categorical | 1| {E08000035: \"Leeds\"}\n",
    "14 | 1st_Road_Class | Categorical | 7 | {1: \"Motorway\", 2: \"A(M)\", 3: \"A\", 4: \"B\", 5: \"C\", 6: \"Unclassified\"}\n",
    "15 | 1st_Road_Number | Numerical | 38 | Identifier for Road\n",
    "16 | Road_Type | Categorical | 6 | {1: \"Roundabout\", 2: \"One way street\", 3: \"Dual carriageway\", 6: \"Single carriageway\", 7: \"Slip road\", 9: \"Unknown\", 12: \"One way street/Slip road\", -1: \"Data missing or out of range\"}\n",
    "17 | Speed_Limit | Numerical | 6 | {20, 30, 40, 60, 70, -1: \"Data missing or out of range\"}\n",
    "18 | Junction_Detail | Categorical | 9 | {0: \"Not at junction or within 20 metres\", 1: \"Roundabout\", 2: \"Mini-roundabout\", 3: \"T or staggered junction\", 5: \"Slip road\", 6: \"Crossroads\", 7: \"More than 4 arms (not roundabout)\", 8: \"Private drive or entrance\", 9: \"Other junction\", -1: \"Data missing or out of range\"}\n",
    "19 | Junction_Control | Categorical | 5 | {0: \"Not at junction or within 20 metres\", 1: \"Authorised person\", 2: \"Auto traffic signal\", 3: \"Stop sign\", 4: \"Give way or uncontrolled\", 5: \"Data missing or out of range\"}\n",
    "20 | 2nd_Road_Class | Categorical | 7 | {1: \"Motorway\", 2: \"A(M)\", 3: \"A\", 4: \"B\", 5: \"C\", 6: \"Unclassified\"}\n",
    "21 | 2nd_Road_Number | Numerical | 32 | Identifier for Road\n",
    "22 | Pedestrian_Crossing-Human_Control | Categorical | 3 | {0: \"None within 50 metres\", 1: \"Control by school crossing patrol\", 2: \"Control by other authorised person\", -1: \"Data missing or out of range\"}\n",
    "23 | Pedestrian_Crossing-Physical_Facilities | Categorical | 9 | {0: \"No physical crossing facilities within 50 metres\", 1: \"Zebra\", 4: \"Pelican, puffin, toucan or similar non-junction pedestrian light crossing\", 5: \"Pedestrian phase at traffic signal junction\",7: \"Footbridge or subway\", 8: \"Central refuge\", -1: \"Data missing or out of range\"}\n",
    "24 | Light_Conditions | Categorical | 5 | {1: \"Daylight\", 4: \"Darkness - lights lit\", 5: \"Darkness - lights unlit\", 6: \"Darkness - no lighting\", 7: \"Darkness - lighting unknown\", -1: \"Data missing or out of range\"}\n",
    "25 | Weather_Conditions | Categorical | 8 | {1: \"Fine no high winds\", 2: \"Raining no high winds\", 3: \"Snowing no high winds\", 4: \"Fine + high winds\", 5: \"Raining + high winds\", 6: \"Snowing + high winds\", 7: \"Fog or mist\", 8: \"Other\", 9: \"Unknown\", -1: \"Data missing or out of range\"}\n",
    "26 | Road_Surface_Conditions | Categorical | 5 | {1: \"Dry\", 2: \"Wet or damp\", 3: \"Snow\", 4: \"Frost or ice\", 5: \"Flood over 3cm. deep\", 6: \"Oil or diesel\", 7: \"Mud\", -1: \"Data missing or out of range\"}\n",
    "27 | Special_Conditions_at_Site | Categorical | 5 | {0: \"None\", 1: \"Auto traffic signal - out\", 2: \"Auto signal part defective\", 3: \"Road sign or marking defective or obscured\", 4: \"Roadworks\", 5: \"Road surface defective\", 6: \"Oil or diesel\", 7: \"Mud\", -1: \"Data missing or out of range\"}\n",
    "28 | Carriageway_Hazards | Categorical | 6 | {0: \"None\", 1: \"Vehicle load on road\", 2: \"Other object on road\", 3: \"Previous accident\", 4: \"Dog on road\", 5: \"Other animal on road\", 6: \"Pedestrian in carriageway - not injured\", 7: \"Any animal in carriageway (except ridden horse)\", -1: \"Data missing or out of range\"}\n",
    "29 | Urban_or_Rural_Area | Categorical | 3 | {1: \"Urban\", 2: \"Rural\", -1: \"Unallocated\"}\n",
    "30 | Did_Police_Officer_Attend_Scene_of_Accident | Categorical | 2 | {1: \"Yes\", 2: \"No\", 3: \"No - accident was reported using a self completion  form (self rep only)\"}\n",
    "31 | LSOA_of_Accident_Location | Numerical | 379 | A Lower Layer Super Output Area is a GEOGRAPHIC AREA. Lower Layer Super Output Areas (LSOA) are a geographic hierarchy designed to improve the reporting of small area statistics in England and Wales"
   ],
   "cell_type": "markdown",
   "metadata": {}
  }
 ]
}
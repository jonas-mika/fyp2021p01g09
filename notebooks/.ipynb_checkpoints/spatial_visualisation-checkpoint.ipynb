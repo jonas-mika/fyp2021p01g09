{
 "cells": [
  {
   "cell_type": "markdown",
   "metadata": {},
   "source": [
    "# Spatial Visualisation\n",
    "---\n",
    "Creation: 09.02.2021"
   ]
  },
  {
   "cell_type": "markdown",
   "metadata": {},
   "source": [
    "## Required Libraries\n",
    "---"
   ]
  },
  {
   "cell_type": "code",
   "execution_count": null,
   "metadata": {},
   "outputs": [],
   "source": [
    "import pandas as pd\n",
    "import numpy as np\n",
    "import folium"
   ]
  },
  {
   "cell_type": "markdown",
   "metadata": {},
   "source": [
    "## Import Processed Data and Lookup Dictionaries\n",
    "---"
   ]
  },
  {
   "cell_type": "code",
   "execution_count": null,
   "metadata": {},
   "outputs": [],
   "source": [
    "leeds_accidents = pd.read_csv('../data/processed/accidents_processed.csv')"
   ]
  },
  {
   "cell_type": "code",
   "execution_count": null,
   "metadata": {},
   "outputs": [],
   "source": [
    "accidents_lookup = pd.read_json('../reports/numerical_summaries/json/numerical_summary_accidents.json').to_dict()"
   ]
  },
  {
   "cell_type": "markdown",
   "metadata": {},
   "source": [
    "## Create Map of Leeds\n",
    "---"
   ]
  },
  {
   "cell_type": "code",
   "execution_count": null,
   "metadata": {},
   "outputs": [],
   "source": [
    "leeds_map = folium.Map(location=[53.8008, -1.5491], tiles=\"Stamen Terrain\", initial_zoom = 5)\n",
    "leeds_map"
   ]
  },
  {
   "cell_type": "markdown",
   "metadata": {},
   "source": [
    "## Plot all Accidents in Leeds onto Map\n",
    "--- "
   ]
  },
  {
   "cell_type": "code",
   "execution_count": null,
   "metadata": {},
   "outputs": [],
   "source": [
    "def plot_point(map, location, color, fill):\n",
    "    folium.Circle(\n",
    "            radius=30,\n",
    "            location=[location[0], location[1]],\n",
    "            color=color,\n",
    "            fill=True).add_to(map)"
   ]
  },
  {
   "cell_type": "code",
   "execution_count": null,
   "metadata": {},
   "outputs": [],
   "source": [
    "for i in range(leeds_accidents.shape[0]):v\n",
    "    if leeds_accidents['Accident_Severity'].iloc[i] == 1:\n",
    "        plot_point(leeds_map, [leeds_accidents['Latitude'].iloc[i], leeds_accidents['Longitude'].iloc[i]], 'black', False)\n",
    "    elif leeds_accidents['Accident_Severity'].iloc[i] == 2:\n",
    "        plot_point(leeds_map, [leeds_accidents['Latitude'].iloc[i], leeds_accidents['Longitude'].iloc[i]], 'red', False)\n",
    "    elif leeds_accidents['Accident_Severity'].iloc[i] == 3:\n",
    "        plot_point(leeds_map, [leeds_accidents['Latitude'].iloc[i], leeds_accidents['Longitude'].iloc[i]], 'green', False)"
   ]
  },
  {
   "cell_type": "code",
   "execution_count": null,
   "metadata": {},
   "outputs": [],
   "source": [
    "leeds_map"
   ]
  },
  {
   "cell_type": "markdown",
   "metadata": {},
   "source": [
    "## Save Map Visualisation\n",
    "---"
   ]
  },
  {
   "cell_type": "code",
   "execution_count": null,
   "metadata": {},
   "outputs": [],
   "source": [
    "def save_map(map_, index, name):\n",
    "    try:\n",
    "        os.makedirs(f'../reports/maps')\n",
    "    except: None\n",
    "\n",
    "    map_.save(f'../reports/maps/{index}_{name}_map.html')"
   ]
  },
  {
   "cell_type": "code",
   "execution_count": null,
   "metadata": {},
   "outputs": [],
   "source": [
    "save_map(leeds_map, \"6\", \"Accident Severity\")"
   ]
  }
 ],
 "metadata": {
  "kernelspec": {
   "display_name": "Python 3",
   "language": "python",
   "name": "python3"
  },
  "language_info": {
   "codemirror_mode": {
    "name": "ipython",
    "version": 3
   },
   "file_extension": ".py",
   "mimetype": "text/x-python",
   "name": "python",
   "nbconvert_exporter": "python",
   "pygments_lexer": "ipython3",
   "version": "3.8.3"
  }
 },
 "nbformat": 4,
 "nbformat_minor": 2
}
